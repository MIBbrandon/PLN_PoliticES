{
 "cells": [
  {
   "cell_type": "markdown",
   "metadata": {
    "collapsed": false
   },
   "source": [
    "# Politic_ES\n",
    "\n",
    "Análisis inicial de los datos"
   ]
  },
  {
   "cell_type": "markdown",
   "metadata": {
    "collapsed": false
   },
   "source": [
    "## Imports"
   ]
  },
  {
   "cell_type": "code",
   "execution_count": 1,
   "metadata": {
    "collapsed": false
   },
   "outputs": [],
   "source": [
    "import os\n",
    "import pandas as pd\n",
    "import numpy as np\n",
    "import seaborn as sns\n",
    "import matplotlib.pyplot as plt\n",
    "from sklearn.model_selection import train_test_split"
   ]
  },
  {
   "cell_type": "markdown",
   "metadata": {
    "collapsed": false
   },
   "source": [
    "## Visualización"
   ]
  },
  {
   "cell_type": "code",
   "execution_count": 2,
   "metadata": {
    "collapsed": false
   },
   "outputs": [],
   "source": [
    "%matplotlib inline\n",
    "\n",
    "c_gender = {'male': 'blue', 'female': 'pink'}\n",
    "c_profession = {'politician': 'gray', 'celebrity': 'yellow', 'journalist': 'orange'}\n",
    "c_i_bin = {'left': 'red', 'right': 'blue'}\n",
    "c_i_mul = {'left': 'red', 'moderate_left': 'lightcoral', 'moderate_right': 'turquoise', 'right': 'blue'}"
   ]
  },
  {
   "cell_type": "markdown",
   "metadata": {
    "collapsed": false
   },
   "source": [
    "## Seed para repetición"
   ]
  },
  {
   "cell_type": "code",
   "execution_count": 3,
   "metadata": {
    "collapsed": false
   },
   "outputs": [],
   "source": [
    "seed = 69420\n",
    "np.random.seed(seed)"
   ]
  },
  {
   "cell_type": "markdown",
   "metadata": {
    "collapsed": false
   },
   "source": [
    "## Dataset"
   ]
  },
  {
   "cell_type": "code",
   "execution_count": 6,
   "metadata": {
    "collapsed": false
   },
   "outputs": [
    {
     "data": {
      "text/html": [
       "<div>\n",
       "<style scoped>\n",
       "    .dataframe tbody tr th:only-of-type {\n",
       "        vertical-align: middle;\n",
       "    }\n",
       "\n",
       "    .dataframe tbody tr th {\n",
       "        vertical-align: top;\n",
       "    }\n",
       "\n",
       "    .dataframe thead th {\n",
       "        text-align: right;\n",
       "    }\n",
       "</style>\n",
       "<table border=\"1\" class=\"dataframe\">\n",
       "  <thead>\n",
       "    <tr style=\"text-align: right;\">\n",
       "      <th></th>\n",
       "      <th>label</th>\n",
       "      <th>gender</th>\n",
       "      <th>profession</th>\n",
       "      <th>ideology_binary</th>\n",
       "      <th>ideology_multiclass</th>\n",
       "      <th>tweet</th>\n",
       "    </tr>\n",
       "  </thead>\n",
       "  <tbody>\n",
       "    <tr>\n",
       "      <th>0</th>\n",
       "      <td>0008c4fab9e97623a60380ee9c88cb20</td>\n",
       "      <td>female</td>\n",
       "      <td>politician</td>\n",
       "      <td>left</td>\n",
       "      <td>left</td>\n",
       "      <td>¡Feliz 28 de febrero a todas las andaluzas y a...</td>\n",
       "    </tr>\n",
       "    <tr>\n",
       "      <th>1</th>\n",
       "      <td>0008c4fab9e97623a60380ee9c88cb20</td>\n",
       "      <td>female</td>\n",
       "      <td>politician</td>\n",
       "      <td>left</td>\n",
       "      <td>left</td>\n",
       "      <td>Feliz año nuevo, feliz esperanza 💕. Querido 20...</td>\n",
       "    </tr>\n",
       "    <tr>\n",
       "      <th>2</th>\n",
       "      <td>0008c4fab9e97623a60380ee9c88cb20</td>\n",
       "      <td>female</td>\n",
       "      <td>politician</td>\n",
       "      <td>left</td>\n",
       "      <td>left</td>\n",
       "      <td>🇩🇪🇪🇸 ¡Un placer encontrarme con mi homólogo al...</td>\n",
       "    </tr>\n",
       "    <tr>\n",
       "      <th>3</th>\n",
       "      <td>0008c4fab9e97623a60380ee9c88cb20</td>\n",
       "      <td>female</td>\n",
       "      <td>politician</td>\n",
       "      <td>left</td>\n",
       "      <td>left</td>\n",
       "      <td>El conflicto en Ucrania ha supuesto una dramát...</td>\n",
       "    </tr>\n",
       "    <tr>\n",
       "      <th>4</th>\n",
       "      <td>0008c4fab9e97623a60380ee9c88cb20</td>\n",
       "      <td>female</td>\n",
       "      <td>politician</td>\n",
       "      <td>left</td>\n",
       "      <td>left</td>\n",
       "      <td>La Academia de la Llingua Asturiana realiza un...</td>\n",
       "    </tr>\n",
       "    <tr>\n",
       "      <th>...</th>\n",
       "      <td>...</td>\n",
       "      <td>...</td>\n",
       "      <td>...</td>\n",
       "      <td>...</td>\n",
       "      <td>...</td>\n",
       "      <td>...</td>\n",
       "    </tr>\n",
       "    <tr>\n",
       "      <th>179995</th>\n",
       "      <td>ffd89e81d6f6c783bfb72a4590db4304</td>\n",
       "      <td>male</td>\n",
       "      <td>politician</td>\n",
       "      <td>left</td>\n",
       "      <td>left</td>\n",
       "      <td>Desde un inicio nos opusimos a la escalda mili...</td>\n",
       "    </tr>\n",
       "    <tr>\n",
       "      <th>179996</th>\n",
       "      <td>ffd89e81d6f6c783bfb72a4590db4304</td>\n",
       "      <td>male</td>\n",
       "      <td>politician</td>\n",
       "      <td>left</td>\n",
       "      <td>left</td>\n",
       "      <td>En menos de 4 minutos he tratado de analizar e...</td>\n",
       "    </tr>\n",
       "    <tr>\n",
       "      <th>179997</th>\n",
       "      <td>ffd89e81d6f6c783bfb72a4590db4304</td>\n",
       "      <td>male</td>\n",
       "      <td>politician</td>\n",
       "      <td>left</td>\n",
       "      <td>left</td>\n",
       "      <td>Un fantasma recorre Euskal Herria y el Estado....</td>\n",
       "    </tr>\n",
       "    <tr>\n",
       "      <th>179998</th>\n",
       "      <td>ffd89e81d6f6c783bfb72a4590db4304</td>\n",
       "      <td>male</td>\n",
       "      <td>politician</td>\n",
       "      <td>left</td>\n",
       "      <td>left</td>\n",
       "      <td>Aquí os dejo mis reflexiones hoy en el diario ...</td>\n",
       "    </tr>\n",
       "    <tr>\n",
       "      <th>179999</th>\n",
       "      <td>ffd89e81d6f6c783bfb72a4590db4304</td>\n",
       "      <td>male</td>\n",
       "      <td>politician</td>\n",
       "      <td>left</td>\n",
       "      <td>left</td>\n",
       "      <td>No se trata de sobreactuar o \"condenar\" unas p...</td>\n",
       "    </tr>\n",
       "  </tbody>\n",
       "</table>\n",
       "<p>180000 rows × 6 columns</p>\n",
       "</div>"
      ],
      "text/plain": [
       "                                   label  gender  profession ideology_binary  \\\n",
       "0       0008c4fab9e97623a60380ee9c88cb20  female  politician            left   \n",
       "1       0008c4fab9e97623a60380ee9c88cb20  female  politician            left   \n",
       "2       0008c4fab9e97623a60380ee9c88cb20  female  politician            left   \n",
       "3       0008c4fab9e97623a60380ee9c88cb20  female  politician            left   \n",
       "4       0008c4fab9e97623a60380ee9c88cb20  female  politician            left   \n",
       "...                                  ...     ...         ...             ...   \n",
       "179995  ffd89e81d6f6c783bfb72a4590db4304    male  politician            left   \n",
       "179996  ffd89e81d6f6c783bfb72a4590db4304    male  politician            left   \n",
       "179997  ffd89e81d6f6c783bfb72a4590db4304    male  politician            left   \n",
       "179998  ffd89e81d6f6c783bfb72a4590db4304    male  politician            left   \n",
       "179999  ffd89e81d6f6c783bfb72a4590db4304    male  politician            left   \n",
       "\n",
       "       ideology_multiclass                                              tweet  \n",
       "0                     left  ¡Feliz 28 de febrero a todas las andaluzas y a...  \n",
       "1                     left  Feliz año nuevo, feliz esperanza 💕. Querido 20...  \n",
       "2                     left  🇩🇪🇪🇸 ¡Un placer encontrarme con mi homólogo al...  \n",
       "3                     left  El conflicto en Ucrania ha supuesto una dramát...  \n",
       "4                     left  La Academia de la Llingua Asturiana realiza un...  \n",
       "...                    ...                                                ...  \n",
       "179995                left  Desde un inicio nos opusimos a la escalda mili...  \n",
       "179996                left  En menos de 4 minutos he tratado de analizar e...  \n",
       "179997                left  Un fantasma recorre Euskal Herria y el Estado....  \n",
       "179998                left  Aquí os dejo mis reflexiones hoy en el diario ...  \n",
       "179999                left  No se trata de sobreactuar o \"condenar\" unas p...  \n",
       "\n",
       "[180000 rows x 6 columns]"
      ]
     },
     "execution_count": 6,
     "metadata": {},
     "output_type": "execute_result"
    }
   ],
   "source": [
    "df = pd.read_csv(os.path.join(\"../practise_data\", \"politicES_phase_2_train_public.csv\"))\n",
    "df"
   ]
  },
  {
   "cell_type": "code",
   "execution_count": 7,
   "metadata": {
    "collapsed": false
   },
   "outputs": [],
   "source": [
    "# Ordenamos las variables categóricas a nuestro gusto, principalmente por motivos visuales de izquierda a derecha\n",
    "df.ideology_binary = pd.Categorical(df.ideology_binary, ['left', 'right'])\n",
    "df.ideology_multiclass = pd.Categorical(df.ideology_multiclass, ['left', 'moderate_left', 'moderate_right', 'right'])"
   ]
  },
  {
   "cell_type": "markdown",
   "metadata": {
    "collapsed": false
   },
   "source": [
    "# Analysis de los datos obtenidos"
   ]
  },
  {
   "cell_type": "code",
   "execution_count": 8,
   "metadata": {
    "collapsed": false
   },
   "outputs": [
    {
     "data": {
      "text/html": [
       "<div>\n",
       "<style scoped>\n",
       "    .dataframe tbody tr th:only-of-type {\n",
       "        vertical-align: middle;\n",
       "    }\n",
       "\n",
       "    .dataframe tbody tr th {\n",
       "        vertical-align: top;\n",
       "    }\n",
       "\n",
       "    .dataframe thead th {\n",
       "        text-align: right;\n",
       "    }\n",
       "</style>\n",
       "<table border=\"1\" class=\"dataframe\">\n",
       "  <thead>\n",
       "    <tr style=\"text-align: right;\">\n",
       "      <th></th>\n",
       "      <th></th>\n",
       "      <th></th>\n",
       "      <th>label</th>\n",
       "    </tr>\n",
       "    <tr>\n",
       "      <th>gender</th>\n",
       "      <th>profession</th>\n",
       "      <th>ideology_binary</th>\n",
       "      <th></th>\n",
       "    </tr>\n",
       "  </thead>\n",
       "  <tbody>\n",
       "    <tr>\n",
       "      <th rowspan=\"6\" valign=\"top\">female</th>\n",
       "      <th rowspan=\"2\" valign=\"top\">celebrity</th>\n",
       "      <th>left</th>\n",
       "      <td>3040</td>\n",
       "    </tr>\n",
       "    <tr>\n",
       "      <th>right</th>\n",
       "      <td>640</td>\n",
       "    </tr>\n",
       "    <tr>\n",
       "      <th rowspan=\"2\" valign=\"top\">journalist</th>\n",
       "      <th>left</th>\n",
       "      <td>22080</td>\n",
       "    </tr>\n",
       "    <tr>\n",
       "      <th>right</th>\n",
       "      <td>10720</td>\n",
       "    </tr>\n",
       "    <tr>\n",
       "      <th rowspan=\"2\" valign=\"top\">politician</th>\n",
       "      <th>left</th>\n",
       "      <td>14240</td>\n",
       "    </tr>\n",
       "    <tr>\n",
       "      <th>right</th>\n",
       "      <td>9840</td>\n",
       "    </tr>\n",
       "    <tr>\n",
       "      <th rowspan=\"6\" valign=\"top\">male</th>\n",
       "      <th rowspan=\"2\" valign=\"top\">celebrity</th>\n",
       "      <th>left</th>\n",
       "      <td>3920</td>\n",
       "    </tr>\n",
       "    <tr>\n",
       "      <th>right</th>\n",
       "      <td>1440</td>\n",
       "    </tr>\n",
       "    <tr>\n",
       "      <th rowspan=\"2\" valign=\"top\">journalist</th>\n",
       "      <th>left</th>\n",
       "      <td>36720</td>\n",
       "    </tr>\n",
       "    <tr>\n",
       "      <th>right</th>\n",
       "      <td>41280</td>\n",
       "    </tr>\n",
       "    <tr>\n",
       "      <th rowspan=\"2\" valign=\"top\">politician</th>\n",
       "      <th>left</th>\n",
       "      <td>20400</td>\n",
       "    </tr>\n",
       "    <tr>\n",
       "      <th>right</th>\n",
       "      <td>15680</td>\n",
       "    </tr>\n",
       "  </tbody>\n",
       "</table>\n",
       "</div>"
      ],
      "text/plain": [
       "                                   label\n",
       "gender profession ideology_binary       \n",
       "female celebrity  left              3040\n",
       "                  right              640\n",
       "       journalist left             22080\n",
       "                  right            10720\n",
       "       politician left             14240\n",
       "                  right             9840\n",
       "male   celebrity  left              3920\n",
       "                  right             1440\n",
       "       journalist left             36720\n",
       "                  right            41280\n",
       "       politician left             20400\n",
       "                  right            15680"
      ]
     },
     "execution_count": 8,
     "metadata": {},
     "output_type": "execute_result"
    }
   ],
   "source": [
    "df[[\"gender\", \"ideology_binary\", \"profession\",  \"label\"]].groupby([\"gender\", \"profession\", \"ideology_binary\"]).count()"
   ]
  },
  {
   "cell_type": "markdown",
   "metadata": {
    "collapsed": false
   },
   "source": [
    "# Separación en train y test"
   ]
  },
  {
   "cell_type": "code",
   "execution_count": 12,
   "metadata": {
    "collapsed": false
   },
   "outputs": [],
   "source": [
    "# Separamos en training y en test\n",
    "parte_test = 0.3\n",
    "df_train, df_test = np.split(df, [int((1 - parte_test) * len(df))])"
   ]
  },
  {
   "cell_type": "code",
   "execution_count": 13,
   "metadata": {
    "collapsed": false
   },
   "outputs": [
    {
     "data": {
      "text/html": [
       "<div>\n",
       "<style scoped>\n",
       "    .dataframe tbody tr th:only-of-type {\n",
       "        vertical-align: middle;\n",
       "    }\n",
       "\n",
       "    .dataframe tbody tr th {\n",
       "        vertical-align: top;\n",
       "    }\n",
       "\n",
       "    .dataframe thead th {\n",
       "        text-align: right;\n",
       "    }\n",
       "</style>\n",
       "<table border=\"1\" class=\"dataframe\">\n",
       "  <thead>\n",
       "    <tr style=\"text-align: right;\">\n",
       "      <th></th>\n",
       "      <th>label</th>\n",
       "      <th>gender</th>\n",
       "      <th>profession</th>\n",
       "      <th>ideology_binary</th>\n",
       "      <th>ideology_multiclass</th>\n",
       "      <th>tweet</th>\n",
       "    </tr>\n",
       "  </thead>\n",
       "  <tbody>\n",
       "    <tr>\n",
       "      <th>0</th>\n",
       "      <td>0008c4fab9e97623a60380ee9c88cb20</td>\n",
       "      <td>female</td>\n",
       "      <td>politician</td>\n",
       "      <td>left</td>\n",
       "      <td>left</td>\n",
       "      <td>¡Feliz 28 de febrero a todas las andaluzas y a...</td>\n",
       "    </tr>\n",
       "    <tr>\n",
       "      <th>1</th>\n",
       "      <td>0008c4fab9e97623a60380ee9c88cb20</td>\n",
       "      <td>female</td>\n",
       "      <td>politician</td>\n",
       "      <td>left</td>\n",
       "      <td>left</td>\n",
       "      <td>Feliz año nuevo, feliz esperanza 💕. Querido 20...</td>\n",
       "    </tr>\n",
       "    <tr>\n",
       "      <th>2</th>\n",
       "      <td>0008c4fab9e97623a60380ee9c88cb20</td>\n",
       "      <td>female</td>\n",
       "      <td>politician</td>\n",
       "      <td>left</td>\n",
       "      <td>left</td>\n",
       "      <td>🇩🇪🇪🇸 ¡Un placer encontrarme con mi homólogo al...</td>\n",
       "    </tr>\n",
       "    <tr>\n",
       "      <th>3</th>\n",
       "      <td>0008c4fab9e97623a60380ee9c88cb20</td>\n",
       "      <td>female</td>\n",
       "      <td>politician</td>\n",
       "      <td>left</td>\n",
       "      <td>left</td>\n",
       "      <td>El conflicto en Ucrania ha supuesto una dramát...</td>\n",
       "    </tr>\n",
       "    <tr>\n",
       "      <th>4</th>\n",
       "      <td>0008c4fab9e97623a60380ee9c88cb20</td>\n",
       "      <td>female</td>\n",
       "      <td>politician</td>\n",
       "      <td>left</td>\n",
       "      <td>left</td>\n",
       "      <td>La Academia de la Llingua Asturiana realiza un...</td>\n",
       "    </tr>\n",
       "    <tr>\n",
       "      <th>...</th>\n",
       "      <td>...</td>\n",
       "      <td>...</td>\n",
       "      <td>...</td>\n",
       "      <td>...</td>\n",
       "      <td>...</td>\n",
       "      <td>...</td>\n",
       "    </tr>\n",
       "    <tr>\n",
       "      <th>125994</th>\n",
       "      <td>b75a1185a34e920e0b23b9e87acde174</td>\n",
       "      <td>female</td>\n",
       "      <td>journalist</td>\n",
       "      <td>left</td>\n",
       "      <td>moderate_left</td>\n",
       "      <td>Pero qué cosa tan hermosa es este episodio sob...</td>\n",
       "    </tr>\n",
       "    <tr>\n",
       "      <th>125995</th>\n",
       "      <td>b75a1185a34e920e0b23b9e87acde174</td>\n",
       "      <td>female</td>\n",
       "      <td>journalist</td>\n",
       "      <td>left</td>\n",
       "      <td>moderate_left</td>\n",
       "      <td>@user vaya fichaje que han hecho estos maldito...</td>\n",
       "    </tr>\n",
       "    <tr>\n",
       "      <th>125996</th>\n",
       "      <td>b75a1185a34e920e0b23b9e87acde174</td>\n",
       "      <td>female</td>\n",
       "      <td>journalist</td>\n",
       "      <td>left</td>\n",
       "      <td>moderate_left</td>\n",
       "      <td>Por si quedaban dudas, Lula ganó en el 'Ohio' ...</td>\n",
       "    </tr>\n",
       "    <tr>\n",
       "      <th>125997</th>\n",
       "      <td>b75a1185a34e920e0b23b9e87acde174</td>\n",
       "      <td>female</td>\n",
       "      <td>journalist</td>\n",
       "      <td>left</td>\n",
       "      <td>moderate_left</td>\n",
       "      <td>Las ausencias de los máximos responsables polí...</td>\n",
       "    </tr>\n",
       "    <tr>\n",
       "      <th>125998</th>\n",
       "      <td>b75a1185a34e920e0b23b9e87acde174</td>\n",
       "      <td>female</td>\n",
       "      <td>journalist</td>\n",
       "      <td>left</td>\n",
       "      <td>moderate_left</td>\n",
       "      <td>@user ¿No te gustó la Dra. Yves o Heather?</td>\n",
       "    </tr>\n",
       "  </tbody>\n",
       "</table>\n",
       "<p>125999 rows × 6 columns</p>\n",
       "</div>"
      ],
      "text/plain": [
       "                                   label  gender  profession ideology_binary  \\\n",
       "0       0008c4fab9e97623a60380ee9c88cb20  female  politician            left   \n",
       "1       0008c4fab9e97623a60380ee9c88cb20  female  politician            left   \n",
       "2       0008c4fab9e97623a60380ee9c88cb20  female  politician            left   \n",
       "3       0008c4fab9e97623a60380ee9c88cb20  female  politician            left   \n",
       "4       0008c4fab9e97623a60380ee9c88cb20  female  politician            left   \n",
       "...                                  ...     ...         ...             ...   \n",
       "125994  b75a1185a34e920e0b23b9e87acde174  female  journalist            left   \n",
       "125995  b75a1185a34e920e0b23b9e87acde174  female  journalist            left   \n",
       "125996  b75a1185a34e920e0b23b9e87acde174  female  journalist            left   \n",
       "125997  b75a1185a34e920e0b23b9e87acde174  female  journalist            left   \n",
       "125998  b75a1185a34e920e0b23b9e87acde174  female  journalist            left   \n",
       "\n",
       "       ideology_multiclass                                              tweet  \n",
       "0                     left  ¡Feliz 28 de febrero a todas las andaluzas y a...  \n",
       "1                     left  Feliz año nuevo, feliz esperanza 💕. Querido 20...  \n",
       "2                     left  🇩🇪🇪🇸 ¡Un placer encontrarme con mi homólogo al...  \n",
       "3                     left  El conflicto en Ucrania ha supuesto una dramát...  \n",
       "4                     left  La Academia de la Llingua Asturiana realiza un...  \n",
       "...                    ...                                                ...  \n",
       "125994       moderate_left  Pero qué cosa tan hermosa es este episodio sob...  \n",
       "125995       moderate_left  @user vaya fichaje que han hecho estos maldito...  \n",
       "125996       moderate_left  Por si quedaban dudas, Lula ganó en el 'Ohio' ...  \n",
       "125997       moderate_left  Las ausencias de los máximos responsables polí...  \n",
       "125998       moderate_left         @user ¿No te gustó la Dra. Yves o Heather?  \n",
       "\n",
       "[125999 rows x 6 columns]"
      ]
     },
     "execution_count": 13,
     "metadata": {},
     "output_type": "execute_result"
    }
   ],
   "source": [
    "df_train"
   ]
  },
  {
   "cell_type": "code",
   "execution_count": 14,
   "metadata": {
    "collapsed": false
   },
   "outputs": [
    {
     "data": {
      "text/html": [
       "<div>\n",
       "<style scoped>\n",
       "    .dataframe tbody tr th:only-of-type {\n",
       "        vertical-align: middle;\n",
       "    }\n",
       "\n",
       "    .dataframe tbody tr th {\n",
       "        vertical-align: top;\n",
       "    }\n",
       "\n",
       "    .dataframe thead th {\n",
       "        text-align: right;\n",
       "    }\n",
       "</style>\n",
       "<table border=\"1\" class=\"dataframe\">\n",
       "  <thead>\n",
       "    <tr style=\"text-align: right;\">\n",
       "      <th></th>\n",
       "      <th>label</th>\n",
       "      <th>gender</th>\n",
       "      <th>profession</th>\n",
       "      <th>ideology_binary</th>\n",
       "      <th>ideology_multiclass</th>\n",
       "      <th>tweet</th>\n",
       "    </tr>\n",
       "  </thead>\n",
       "  <tbody>\n",
       "    <tr>\n",
       "      <th>125999</th>\n",
       "      <td>b75a1185a34e920e0b23b9e87acde174</td>\n",
       "      <td>female</td>\n",
       "      <td>journalist</td>\n",
       "      <td>left</td>\n",
       "      <td>moderate_left</td>\n",
       "      <td>Qué petición tan simple la que hace la cantant...</td>\n",
       "    </tr>\n",
       "    <tr>\n",
       "      <th>126000</th>\n",
       "      <td>b764da399179ff2948719066391eaecf</td>\n",
       "      <td>female</td>\n",
       "      <td>journalist</td>\n",
       "      <td>right</td>\n",
       "      <td>moderate_right</td>\n",
       "      <td>He ido a ver Cyrano de Bergerac, de la compañí...</td>\n",
       "    </tr>\n",
       "    <tr>\n",
       "      <th>126001</th>\n",
       "      <td>b764da399179ff2948719066391eaecf</td>\n",
       "      <td>female</td>\n",
       "      <td>journalist</td>\n",
       "      <td>right</td>\n",
       "      <td>moderate_right</td>\n",
       "      <td>Brutal esta entrevista de ⁦@user ⁩ a a una ucr...</td>\n",
       "    </tr>\n",
       "    <tr>\n",
       "      <th>126002</th>\n",
       "      <td>b764da399179ff2948719066391eaecf</td>\n",
       "      <td>female</td>\n",
       "      <td>journalist</td>\n",
       "      <td>right</td>\n",
       "      <td>moderate_right</td>\n",
       "      <td>Cuando llegué a Madrid, mi compañera de piso d...</td>\n",
       "    </tr>\n",
       "    <tr>\n",
       "      <th>126003</th>\n",
       "      <td>b764da399179ff2948719066391eaecf</td>\n",
       "      <td>female</td>\n",
       "      <td>journalist</td>\n",
       "      <td>right</td>\n",
       "      <td>moderate_right</td>\n",
       "      <td>4/ Mientras algunos quieren presentar a Shakir...</td>\n",
       "    </tr>\n",
       "    <tr>\n",
       "      <th>...</th>\n",
       "      <td>...</td>\n",
       "      <td>...</td>\n",
       "      <td>...</td>\n",
       "      <td>...</td>\n",
       "      <td>...</td>\n",
       "      <td>...</td>\n",
       "    </tr>\n",
       "    <tr>\n",
       "      <th>179995</th>\n",
       "      <td>ffd89e81d6f6c783bfb72a4590db4304</td>\n",
       "      <td>male</td>\n",
       "      <td>politician</td>\n",
       "      <td>left</td>\n",
       "      <td>left</td>\n",
       "      <td>Desde un inicio nos opusimos a la escalda mili...</td>\n",
       "    </tr>\n",
       "    <tr>\n",
       "      <th>179996</th>\n",
       "      <td>ffd89e81d6f6c783bfb72a4590db4304</td>\n",
       "      <td>male</td>\n",
       "      <td>politician</td>\n",
       "      <td>left</td>\n",
       "      <td>left</td>\n",
       "      <td>En menos de 4 minutos he tratado de analizar e...</td>\n",
       "    </tr>\n",
       "    <tr>\n",
       "      <th>179997</th>\n",
       "      <td>ffd89e81d6f6c783bfb72a4590db4304</td>\n",
       "      <td>male</td>\n",
       "      <td>politician</td>\n",
       "      <td>left</td>\n",
       "      <td>left</td>\n",
       "      <td>Un fantasma recorre Euskal Herria y el Estado....</td>\n",
       "    </tr>\n",
       "    <tr>\n",
       "      <th>179998</th>\n",
       "      <td>ffd89e81d6f6c783bfb72a4590db4304</td>\n",
       "      <td>male</td>\n",
       "      <td>politician</td>\n",
       "      <td>left</td>\n",
       "      <td>left</td>\n",
       "      <td>Aquí os dejo mis reflexiones hoy en el diario ...</td>\n",
       "    </tr>\n",
       "    <tr>\n",
       "      <th>179999</th>\n",
       "      <td>ffd89e81d6f6c783bfb72a4590db4304</td>\n",
       "      <td>male</td>\n",
       "      <td>politician</td>\n",
       "      <td>left</td>\n",
       "      <td>left</td>\n",
       "      <td>No se trata de sobreactuar o \"condenar\" unas p...</td>\n",
       "    </tr>\n",
       "  </tbody>\n",
       "</table>\n",
       "<p>54001 rows × 6 columns</p>\n",
       "</div>"
      ],
      "text/plain": [
       "                                   label  gender  profession ideology_binary  \\\n",
       "125999  b75a1185a34e920e0b23b9e87acde174  female  journalist            left   \n",
       "126000  b764da399179ff2948719066391eaecf  female  journalist           right   \n",
       "126001  b764da399179ff2948719066391eaecf  female  journalist           right   \n",
       "126002  b764da399179ff2948719066391eaecf  female  journalist           right   \n",
       "126003  b764da399179ff2948719066391eaecf  female  journalist           right   \n",
       "...                                  ...     ...         ...             ...   \n",
       "179995  ffd89e81d6f6c783bfb72a4590db4304    male  politician            left   \n",
       "179996  ffd89e81d6f6c783bfb72a4590db4304    male  politician            left   \n",
       "179997  ffd89e81d6f6c783bfb72a4590db4304    male  politician            left   \n",
       "179998  ffd89e81d6f6c783bfb72a4590db4304    male  politician            left   \n",
       "179999  ffd89e81d6f6c783bfb72a4590db4304    male  politician            left   \n",
       "\n",
       "       ideology_multiclass                                              tweet  \n",
       "125999       moderate_left  Qué petición tan simple la que hace la cantant...  \n",
       "126000      moderate_right  He ido a ver Cyrano de Bergerac, de la compañí...  \n",
       "126001      moderate_right  Brutal esta entrevista de ⁦@user ⁩ a a una ucr...  \n",
       "126002      moderate_right  Cuando llegué a Madrid, mi compañera de piso d...  \n",
       "126003      moderate_right  4/ Mientras algunos quieren presentar a Shakir...  \n",
       "...                    ...                                                ...  \n",
       "179995                left  Desde un inicio nos opusimos a la escalda mili...  \n",
       "179996                left  En menos de 4 minutos he tratado de analizar e...  \n",
       "179997                left  Un fantasma recorre Euskal Herria y el Estado....  \n",
       "179998                left  Aquí os dejo mis reflexiones hoy en el diario ...  \n",
       "179999                left  No se trata de sobreactuar o \"condenar\" unas p...  \n",
       "\n",
       "[54001 rows x 6 columns]"
      ]
     },
     "execution_count": 14,
     "metadata": {},
     "output_type": "execute_result"
    }
   ],
   "source": [
    "df_test"
   ]
  },
  {
   "attachments": {},
   "cell_type": "markdown",
   "metadata": {},
   "source": [
    "# PIPELINE Zero-Shot: Hugging Face "
   ]
  },
  {
   "cell_type": "code",
   "execution_count": 16,
   "metadata": {},
   "outputs": [
    {
     "name": "stdout",
     "output_type": "stream",
     "text": [
      "Collecting transformers\n",
      "  Downloading transformers-4.27.4-py3-none-any.whl (6.8 MB)\n",
      "     ---------------------------------------- 6.8/6.8 MB 17.3 MB/s eta 0:00:00\n",
      "Collecting filelock\n",
      "  Downloading filelock-3.11.0-py3-none-any.whl (10.0 kB)\n",
      "Collecting huggingface-hub<1.0,>=0.11.0\n",
      "  Downloading huggingface_hub-0.13.4-py3-none-any.whl (200 kB)\n",
      "     ------------------------------------- 200.1/200.1 kB 11.9 MB/s eta 0:00:00\n",
      "Requirement already satisfied: numpy>=1.17 in c:\\users\\manfe\\appdata\\local\\packages\\pythonsoftwarefoundation.python.3.11_qbz5n2kfra8p0\\localcache\\local-packages\\python311\\site-packages (from transformers) (1.23.5)\n",
      "Requirement already satisfied: packaging>=20.0 in c:\\users\\manfe\\appdata\\local\\packages\\pythonsoftwarefoundation.python.3.11_qbz5n2kfra8p0\\localcache\\local-packages\\python311\\site-packages (from transformers) (23.0)\n",
      "Collecting pyyaml>=5.1\n",
      "  Downloading PyYAML-6.0-cp311-cp311-win_amd64.whl (143 kB)\n",
      "     -------------------------------------- 143.2/143.2 kB 8.3 MB/s eta 0:00:00\n",
      "Requirement already satisfied: regex!=2019.12.17 in c:\\users\\manfe\\appdata\\local\\packages\\pythonsoftwarefoundation.python.3.11_qbz5n2kfra8p0\\localcache\\local-packages\\python311\\site-packages (from transformers) (2022.10.31)\n",
      "Requirement already satisfied: requests in c:\\users\\manfe\\appdata\\local\\packages\\pythonsoftwarefoundation.python.3.11_qbz5n2kfra8p0\\localcache\\local-packages\\python311\\site-packages (from transformers) (2.28.2)\n",
      "Collecting tokenizers!=0.11.3,<0.14,>=0.11.1\n",
      "  Downloading tokenizers-0.13.3-cp311-cp311-win_amd64.whl (3.5 MB)\n",
      "     ---------------------------------------- 3.5/3.5 MB 31.7 MB/s eta 0:00:00\n",
      "Requirement already satisfied: tqdm>=4.27 in c:\\users\\manfe\\appdata\\local\\packages\\pythonsoftwarefoundation.python.3.11_qbz5n2kfra8p0\\localcache\\local-packages\\python311\\site-packages (from transformers) (4.65.0)\n",
      "Requirement already satisfied: typing-extensions>=3.7.4.3 in c:\\users\\manfe\\appdata\\local\\packages\\pythonsoftwarefoundation.python.3.11_qbz5n2kfra8p0\\localcache\\local-packages\\python311\\site-packages (from huggingface-hub<1.0,>=0.11.0->transformers) (4.5.0)\n",
      "Requirement already satisfied: colorama in c:\\users\\manfe\\appdata\\local\\packages\\pythonsoftwarefoundation.python.3.11_qbz5n2kfra8p0\\localcache\\local-packages\\python311\\site-packages (from tqdm>=4.27->transformers) (0.4.6)\n",
      "Requirement already satisfied: charset-normalizer<4,>=2 in c:\\users\\manfe\\appdata\\local\\packages\\pythonsoftwarefoundation.python.3.11_qbz5n2kfra8p0\\localcache\\local-packages\\python311\\site-packages (from requests->transformers) (3.1.0)\n",
      "Requirement already satisfied: idna<4,>=2.5 in c:\\users\\manfe\\appdata\\local\\packages\\pythonsoftwarefoundation.python.3.11_qbz5n2kfra8p0\\localcache\\local-packages\\python311\\site-packages (from requests->transformers) (3.4)\n",
      "Requirement already satisfied: urllib3<1.27,>=1.21.1 in c:\\users\\manfe\\appdata\\local\\packages\\pythonsoftwarefoundation.python.3.11_qbz5n2kfra8p0\\localcache\\local-packages\\python311\\site-packages (from requests->transformers) (1.26.14)\n",
      "Requirement already satisfied: certifi>=2017.4.17 in c:\\users\\manfe\\appdata\\local\\packages\\pythonsoftwarefoundation.python.3.11_qbz5n2kfra8p0\\localcache\\local-packages\\python311\\site-packages (from requests->transformers) (2022.12.7)\n",
      "Installing collected packages: tokenizers, pyyaml, filelock, huggingface-hub, transformers\n",
      "Successfully installed filelock-3.11.0 huggingface-hub-0.13.4 pyyaml-6.0 tokenizers-0.13.3 transformers-4.27.4\n",
      "Note: you may need to restart the kernel to use updated packages.\n"
     ]
    },
    {
     "name": "stderr",
     "output_type": "stream",
     "text": [
      "\n",
      "[notice] A new release of pip available: 22.3.1 -> 23.0.1\n",
      "[notice] To update, run: C:\\Users\\manfe\\AppData\\Local\\Microsoft\\WindowsApps\\PythonSoftwareFoundation.Python.3.11_qbz5n2kfra8p0\\python.exe -m pip install --upgrade pip\n"
     ]
    }
   ],
   "source": [
    "pip install transformers"
   ]
  },
  {
   "cell_type": "code",
   "execution_count": 17,
   "metadata": {},
   "outputs": [
    {
     "name": "stderr",
     "output_type": "stream",
     "text": [
      "C:\\Users\\manfe\\AppData\\Local\\Packages\\PythonSoftwareFoundation.Python.3.11_qbz5n2kfra8p0\\LocalCache\\local-packages\\Python311\\site-packages\\tqdm\\auto.py:21: TqdmWarning: IProgress not found. Please update jupyter and ipywidgets. See https://ipywidgets.readthedocs.io/en/stable/user_install.html\n",
      "  from .autonotebook import tqdm as notebook_tqdm\n"
     ]
    }
   ],
   "source": [
    "from transformers import pipeline"
   ]
  },
  {
   "cell_type": "code",
   "execution_count": 18,
   "metadata": {},
   "outputs": [
    {
     "name": "stderr",
     "output_type": "stream",
     "text": [
      "No model was supplied, defaulted to roberta-large-mnli and revision 130fb28 (https://huggingface.co/roberta-large-mnli).\n",
      "Using a pipeline without specifying a model name and revision in production is not recommended.\n",
      "Downloading (…)lve/main/config.json: 100%|██████████| 688/688 [00:00<00:00, 687kB/s]\n",
      "Downloading tf_model.h5: 100%|██████████| 1.43G/1.43G [00:22<00:00, 62.9MB/s]\n",
      "All model checkpoint layers were used when initializing TFRobertaForSequenceClassification.\n",
      "\n",
      "All the layers of TFRobertaForSequenceClassification were initialized from the model checkpoint at roberta-large-mnli.\n",
      "If your task is similar to the task the model of the checkpoint was trained on, you can already use TFRobertaForSequenceClassification for predictions without further training.\n",
      "Downloading (…)olve/main/vocab.json: 100%|██████████| 899k/899k [00:00<00:00, 9.66MB/s]\n",
      "Downloading (…)olve/main/merges.txt: 100%|██████████| 456k/456k [00:00<00:00, 2.24MB/s]\n",
      "Downloading (…)/main/tokenizer.json: 100%|██████████| 1.36M/1.36M [00:00<00:00, 2.71MB/s]\n"
     ]
    }
   ],
   "source": [
    "#load clasificator , set device 0 to use GPU\n",
    "zero_pipeline = pipeline(\"zero-shot-classification\", device=0)"
   ]
  },
  {
   "cell_type": "code",
   "execution_count": 19,
   "metadata": {},
   "outputs": [
    {
     "data": {
      "text/plain": [
       "{'sequence': 'Qué petición tan simple la que hace la cantante: que haya una figura en los teatros que proteja del acoso.',\n",
       " 'labels': ['left', 'right'],\n",
       " 'scores': [0.5974672436714172, 0.40253278613090515]}"
      ]
     },
     "execution_count": 19,
     "metadata": {},
     "output_type": "execute_result"
    }
   ],
   "source": [
    "#One Example\n",
    "zero_pipeline(\n",
    "    df_test.iloc[0]['tweet'],\n",
    "    candidate_labels=[\"left\", \"right\"],\n",
    ")"
   ]
  },
  {
   "cell_type": "code",
   "execution_count": 20,
   "metadata": {},
   "outputs": [
    {
     "data": {
      "text/plain": [
       "{'sequence': 'Qué petición tan simple la que hace la cantante: que haya una figura en los teatros que proteja del acoso.',\n",
       " 'labels': ['left', 'right', 'moderate_left', 'moderate_right'],\n",
       " 'scores': [0.4279981553554535,\n",
       "  0.2883560359477997,\n",
       "  0.14735886454582214,\n",
       "  0.13628685474395752]}"
      ]
     },
     "execution_count": 20,
     "metadata": {},
     "output_type": "execute_result"
    }
   ],
   "source": [
    "#One Example MultiClass\n",
    "zero_pipeline(\n",
    "    df_test.iloc[0]['tweet'],\n",
    "    candidate_labels=['left', 'moderate_left', 'moderate_right', 'right'],\n",
    ")"
   ]
  },
  {
   "cell_type": "code",
   "execution_count": 21,
   "metadata": {},
   "outputs": [],
   "source": [
    "#Accuracy in Binary Clasification\n",
    "good = 0\n",
    "bad = 0\n",
    "for i in range(len(df_train)):\n",
    "  _dic = zero_pipeline(\n",
    "      df_train.iloc[i]['tweet'],\n",
    "      candidate_labels=[\"left\", \"right\"],\n",
    "  )\n",
    "  scores = _dic['scores']\n",
    "  labels = _dic['labels']\n",
    "  max_value = max(scores)\n",
    "  index = scores.index(max_value)\n",
    "  prediction = labels[index]\n",
    "  if prediction == df_train.iloc[i]['ideology_binary']:\n",
    "    good = good + 1\n",
    "  else:\n",
    "    bad = bad + 1\n",
    "\n",
    "print(f'Aciertos : {good}')\n",
    "print(f'Desaciertos : {bad}')\n",
    "print(f'Porciento : {good/(good + bad)}')"
   ]
  },
  {
   "cell_type": "code",
   "execution_count": null,
   "metadata": {},
   "outputs": [],
   "source": [
    "#Accuracy in Multi-Clasification\n",
    "good = 0\n",
    "bad = 0\n",
    "for i in range(len(df_train)):\n",
    "  _dic = zero_pipeline(\n",
    "      df_train.iloc[i]['tweet'],\n",
    "      candidate_labels=['left', 'moderate_left', 'moderate_right', 'right'],\n",
    "  )\n",
    "  scores = _dic['scores']\n",
    "  labels = _dic['labels']\n",
    "  max_value = max(scores)\n",
    "  index = scores.index(max_value)\n",
    "  prediction = labels[index]\n",
    "  if prediction == df_train.iloc[i]['ideology_multiclass']:\n",
    "    good = good + 1\n",
    "  else:\n",
    "    bad = bad + 1\n",
    "\n",
    "print(f'Aciertos : {good}')\n",
    "print(f'Desaciertos : {bad}')\n",
    "print(f'Porciento : {good/(good + bad)}')"
   ]
  }
 ],
 "metadata": {
  "kernelspec": {
   "display_name": "Python 3",
   "language": "python",
   "name": "python3"
  },
  "language_info": {
   "codemirror_mode": {
    "name": "ipython",
    "version": 3
   },
   "file_extension": ".py",
   "mimetype": "text/x-python",
   "name": "python",
   "nbconvert_exporter": "python",
   "pygments_lexer": "ipython3",
   "version": "3.11.3"
  }
 },
 "nbformat": 4,
 "nbformat_minor": 0
}

{
 "cells": [
  {
   "cell_type": "markdown",
   "metadata": {
    "collapsed": false
   },
   "source": [
    "# Politic_ES\n",
    "\n",
    "Análisis inicial de los datos"
   ]
  },
  {
   "cell_type": "markdown",
   "metadata": {
    "collapsed": false
   },
   "source": [
    "## Imports"
   ]
  },
  {
   "cell_type": "code",
   "execution_count": 6,
   "metadata": {
    "collapsed": false
   },
   "outputs": [],
   "source": [
    "import os\n",
    "import pandas as pd\n",
    "import numpy as np\n",
    "import seaborn as sns\n",
    "import matplotlib.pyplot as plt\n",
    "from sklearn.model_selection import train_test_split"
   ]
  },
  {
   "cell_type": "markdown",
   "metadata": {
    "collapsed": false
   },
   "source": [
    "## Visualización"
   ]
  },
  {
   "cell_type": "code",
   "execution_count": 9,
   "metadata": {
    "collapsed": false
   },
   "outputs": [],
   "source": [
    "%matplotlib inline\n",
    "\n",
    "c_gender = {'male': 'blue', 'female': 'pink'}\n",
    "c_profession = {'politician': 'gray', 'celebrity': 'yellow', 'journalist': 'orange'}\n",
    "c_i_bin = {'left': 'red', 'right': 'blue'}\n",
    "c_i_mul = {'left': 'red', 'moderate_left': 'lightcoral', 'moderate_right': 'turquoise', 'right': 'blue'}"
   ]
  },
  {
   "cell_type": "markdown",
   "metadata": {
    "collapsed": false
   },
   "source": [
    "## Seed para repetición"
   ]
  },
  {
   "cell_type": "code",
   "execution_count": 10,
   "metadata": {
    "collapsed": false
   },
   "outputs": [],
   "source": [
    "seed = 69420\n",
    "np.random.seed(seed)"
   ]
  },
  {
   "cell_type": "markdown",
   "metadata": {
    "collapsed": false
   },
   "source": [
    "## Dataset"
   ]
  },
  {
   "cell_type": "code",
   "execution_count": 2,
   "metadata": {
    "collapsed": false
   },
   "outputs": [
    {
     "data": {
      "text/html": [
       "<div>\n",
       "<style scoped>\n",
       "    .dataframe tbody tr th:only-of-type {\n",
       "        vertical-align: middle;\n",
       "    }\n",
       "\n",
       "    .dataframe tbody tr th {\n",
       "        vertical-align: top;\n",
       "    }\n",
       "\n",
       "    .dataframe thead th {\n",
       "        text-align: right;\n",
       "    }\n",
       "</style>\n",
       "<table border=\"1\" class=\"dataframe\">\n",
       "  <thead>\n",
       "    <tr style=\"text-align: right;\">\n",
       "      <th></th>\n",
       "      <th>label</th>\n",
       "      <th>gender</th>\n",
       "      <th>profession</th>\n",
       "      <th>ideology_binary</th>\n",
       "      <th>ideology_multiclass</th>\n",
       "      <th>tweet</th>\n",
       "    </tr>\n",
       "  </thead>\n",
       "  <tbody>\n",
       "    <tr>\n",
       "      <th>0</th>\n",
       "      <td>0008c4fab9e97623a60380ee9c88cb20</td>\n",
       "      <td>female</td>\n",
       "      <td>politician</td>\n",
       "      <td>left</td>\n",
       "      <td>left</td>\n",
       "      <td>¡Feliz 28 de febrero a todas las andaluzas y a...</td>\n",
       "    </tr>\n",
       "    <tr>\n",
       "      <th>1</th>\n",
       "      <td>0008c4fab9e97623a60380ee9c88cb20</td>\n",
       "      <td>female</td>\n",
       "      <td>politician</td>\n",
       "      <td>left</td>\n",
       "      <td>left</td>\n",
       "      <td>Feliz año nuevo, feliz esperanza 💕. Querido 20...</td>\n",
       "    </tr>\n",
       "    <tr>\n",
       "      <th>2</th>\n",
       "      <td>0008c4fab9e97623a60380ee9c88cb20</td>\n",
       "      <td>female</td>\n",
       "      <td>politician</td>\n",
       "      <td>left</td>\n",
       "      <td>left</td>\n",
       "      <td>🇩🇪🇪🇸 ¡Un placer encontrarme con mi homólogo al...</td>\n",
       "    </tr>\n",
       "    <tr>\n",
       "      <th>3</th>\n",
       "      <td>0008c4fab9e97623a60380ee9c88cb20</td>\n",
       "      <td>female</td>\n",
       "      <td>politician</td>\n",
       "      <td>left</td>\n",
       "      <td>left</td>\n",
       "      <td>El conflicto en Ucrania ha supuesto una dramát...</td>\n",
       "    </tr>\n",
       "    <tr>\n",
       "      <th>4</th>\n",
       "      <td>0008c4fab9e97623a60380ee9c88cb20</td>\n",
       "      <td>female</td>\n",
       "      <td>politician</td>\n",
       "      <td>left</td>\n",
       "      <td>left</td>\n",
       "      <td>La Academia de la Llingua Asturiana realiza un...</td>\n",
       "    </tr>\n",
       "    <tr>\n",
       "      <th>...</th>\n",
       "      <td>...</td>\n",
       "      <td>...</td>\n",
       "      <td>...</td>\n",
       "      <td>...</td>\n",
       "      <td>...</td>\n",
       "      <td>...</td>\n",
       "    </tr>\n",
       "    <tr>\n",
       "      <th>179995</th>\n",
       "      <td>ffd89e81d6f6c783bfb72a4590db4304</td>\n",
       "      <td>male</td>\n",
       "      <td>politician</td>\n",
       "      <td>left</td>\n",
       "      <td>left</td>\n",
       "      <td>Desde un inicio nos opusimos a la escalda mili...</td>\n",
       "    </tr>\n",
       "    <tr>\n",
       "      <th>179996</th>\n",
       "      <td>ffd89e81d6f6c783bfb72a4590db4304</td>\n",
       "      <td>male</td>\n",
       "      <td>politician</td>\n",
       "      <td>left</td>\n",
       "      <td>left</td>\n",
       "      <td>En menos de 4 minutos he tratado de analizar e...</td>\n",
       "    </tr>\n",
       "    <tr>\n",
       "      <th>179997</th>\n",
       "      <td>ffd89e81d6f6c783bfb72a4590db4304</td>\n",
       "      <td>male</td>\n",
       "      <td>politician</td>\n",
       "      <td>left</td>\n",
       "      <td>left</td>\n",
       "      <td>Un fantasma recorre Euskal Herria y el Estado....</td>\n",
       "    </tr>\n",
       "    <tr>\n",
       "      <th>179998</th>\n",
       "      <td>ffd89e81d6f6c783bfb72a4590db4304</td>\n",
       "      <td>male</td>\n",
       "      <td>politician</td>\n",
       "      <td>left</td>\n",
       "      <td>left</td>\n",
       "      <td>Aquí os dejo mis reflexiones hoy en el diario ...</td>\n",
       "    </tr>\n",
       "    <tr>\n",
       "      <th>179999</th>\n",
       "      <td>ffd89e81d6f6c783bfb72a4590db4304</td>\n",
       "      <td>male</td>\n",
       "      <td>politician</td>\n",
       "      <td>left</td>\n",
       "      <td>left</td>\n",
       "      <td>No se trata de sobreactuar o \"condenar\" unas p...</td>\n",
       "    </tr>\n",
       "  </tbody>\n",
       "</table>\n",
       "<p>180000 rows × 6 columns</p>\n",
       "</div>"
      ],
      "text/plain": [
       "                                   label  gender  profession ideology_binary  \\\n",
       "0       0008c4fab9e97623a60380ee9c88cb20  female  politician            left   \n",
       "1       0008c4fab9e97623a60380ee9c88cb20  female  politician            left   \n",
       "2       0008c4fab9e97623a60380ee9c88cb20  female  politician            left   \n",
       "3       0008c4fab9e97623a60380ee9c88cb20  female  politician            left   \n",
       "4       0008c4fab9e97623a60380ee9c88cb20  female  politician            left   \n",
       "...                                  ...     ...         ...             ...   \n",
       "179995  ffd89e81d6f6c783bfb72a4590db4304    male  politician            left   \n",
       "179996  ffd89e81d6f6c783bfb72a4590db4304    male  politician            left   \n",
       "179997  ffd89e81d6f6c783bfb72a4590db4304    male  politician            left   \n",
       "179998  ffd89e81d6f6c783bfb72a4590db4304    male  politician            left   \n",
       "179999  ffd89e81d6f6c783bfb72a4590db4304    male  politician            left   \n",
       "\n",
       "       ideology_multiclass                                              tweet  \n",
       "0                     left  ¡Feliz 28 de febrero a todas las andaluzas y a...  \n",
       "1                     left  Feliz año nuevo, feliz esperanza 💕. Querido 20...  \n",
       "2                     left  🇩🇪🇪🇸 ¡Un placer encontrarme con mi homólogo al...  \n",
       "3                     left  El conflicto en Ucrania ha supuesto una dramát...  \n",
       "4                     left  La Academia de la Llingua Asturiana realiza un...  \n",
       "...                    ...                                                ...  \n",
       "179995                left  Desde un inicio nos opusimos a la escalda mili...  \n",
       "179996                left  En menos de 4 minutos he tratado de analizar e...  \n",
       "179997                left  Un fantasma recorre Euskal Herria y el Estado....  \n",
       "179998                left  Aquí os dejo mis reflexiones hoy en el diario ...  \n",
       "179999                left  No se trata de sobreactuar o \"condenar\" unas p...  \n",
       "\n",
       "[180000 rows x 6 columns]"
      ]
     },
     "execution_count": 2,
     "metadata": {},
     "output_type": "execute_result"
    }
   ],
   "source": [
    "df = pd.read_csv(os.path.join(\"../practise_data/\", \"politicES_phase_2_train_public.csv\"))\n",
    "df"
   ]
  },
  {
   "cell_type": "code",
   "execution_count": 3,
   "metadata": {
    "collapsed": false
   },
   "outputs": [],
   "source": [
    "# Ordenamos las variables categóricas a nuestro gusto, principalmente por motivos visuales de izquierda a derecha\n",
    "df.ideology_binary = pd.Categorical(df.ideology_binary, ['left', 'right'])\n",
    "df.ideology_multiclass = pd.Categorical(df.ideology_multiclass, ['left', 'moderate_left', 'moderate_right', 'right'])"
   ]
  },
  {
   "cell_type": "markdown",
   "metadata": {
    "collapsed": false
   },
   "source": [
    "# Analysis de los datos obtenidos"
   ]
  },
  {
   "cell_type": "code",
   "execution_count": 4,
   "metadata": {
    "collapsed": false
   },
   "outputs": [
    {
     "data": {
      "text/html": [
       "<div>\n",
       "<style scoped>\n",
       "    .dataframe tbody tr th:only-of-type {\n",
       "        vertical-align: middle;\n",
       "    }\n",
       "\n",
       "    .dataframe tbody tr th {\n",
       "        vertical-align: top;\n",
       "    }\n",
       "\n",
       "    .dataframe thead th {\n",
       "        text-align: right;\n",
       "    }\n",
       "</style>\n",
       "<table border=\"1\" class=\"dataframe\">\n",
       "  <thead>\n",
       "    <tr style=\"text-align: right;\">\n",
       "      <th></th>\n",
       "      <th></th>\n",
       "      <th></th>\n",
       "      <th>label</th>\n",
       "    </tr>\n",
       "    <tr>\n",
       "      <th>gender</th>\n",
       "      <th>profession</th>\n",
       "      <th>ideology_binary</th>\n",
       "      <th></th>\n",
       "    </tr>\n",
       "  </thead>\n",
       "  <tbody>\n",
       "    <tr>\n",
       "      <th rowspan=\"6\" valign=\"top\">female</th>\n",
       "      <th rowspan=\"2\" valign=\"top\">celebrity</th>\n",
       "      <th>left</th>\n",
       "      <td>3040</td>\n",
       "    </tr>\n",
       "    <tr>\n",
       "      <th>right</th>\n",
       "      <td>640</td>\n",
       "    </tr>\n",
       "    <tr>\n",
       "      <th rowspan=\"2\" valign=\"top\">journalist</th>\n",
       "      <th>left</th>\n",
       "      <td>22080</td>\n",
       "    </tr>\n",
       "    <tr>\n",
       "      <th>right</th>\n",
       "      <td>10720</td>\n",
       "    </tr>\n",
       "    <tr>\n",
       "      <th rowspan=\"2\" valign=\"top\">politician</th>\n",
       "      <th>left</th>\n",
       "      <td>14240</td>\n",
       "    </tr>\n",
       "    <tr>\n",
       "      <th>right</th>\n",
       "      <td>9840</td>\n",
       "    </tr>\n",
       "    <tr>\n",
       "      <th rowspan=\"6\" valign=\"top\">male</th>\n",
       "      <th rowspan=\"2\" valign=\"top\">celebrity</th>\n",
       "      <th>left</th>\n",
       "      <td>3920</td>\n",
       "    </tr>\n",
       "    <tr>\n",
       "      <th>right</th>\n",
       "      <td>1440</td>\n",
       "    </tr>\n",
       "    <tr>\n",
       "      <th rowspan=\"2\" valign=\"top\">journalist</th>\n",
       "      <th>left</th>\n",
       "      <td>36720</td>\n",
       "    </tr>\n",
       "    <tr>\n",
       "      <th>right</th>\n",
       "      <td>41280</td>\n",
       "    </tr>\n",
       "    <tr>\n",
       "      <th rowspan=\"2\" valign=\"top\">politician</th>\n",
       "      <th>left</th>\n",
       "      <td>20400</td>\n",
       "    </tr>\n",
       "    <tr>\n",
       "      <th>right</th>\n",
       "      <td>15680</td>\n",
       "    </tr>\n",
       "  </tbody>\n",
       "</table>\n",
       "</div>"
      ],
      "text/plain": [
       "                                   label\n",
       "gender profession ideology_binary       \n",
       "female celebrity  left              3040\n",
       "                  right              640\n",
       "       journalist left             22080\n",
       "                  right            10720\n",
       "       politician left             14240\n",
       "                  right             9840\n",
       "male   celebrity  left              3920\n",
       "                  right             1440\n",
       "       journalist left             36720\n",
       "                  right            41280\n",
       "       politician left             20400\n",
       "                  right            15680"
      ]
     },
     "execution_count": 4,
     "metadata": {},
     "output_type": "execute_result"
    }
   ],
   "source": [
    "df[[\"gender\", \"ideology_binary\", \"profession\",  \"label\"]].groupby([\"gender\", \"profession\", \"ideology_binary\"]).count()"
   ]
  },
  {
   "cell_type": "markdown",
   "metadata": {
    "collapsed": false
   },
   "source": [
    "### Gender"
   ]
  },
  {
   "cell_type": "code",
   "execution_count": 11,
   "metadata": {
    "collapsed": false
   },
   "outputs": [
    {
     "data": {
      "text/plain": [
       "Text(0.5, 1.0, 'Gender distribution')"
      ]
     },
     "execution_count": 11,
     "metadata": {},
     "output_type": "execute_result"
    },
    {
     "data": {
      "image/png": "[encoded data removed]",
      "text/plain": [
       "<Figure size 640x480 with 1 Axes>"
      ]
     },
     "metadata": {},
     "output_type": "display_data"
    }
   ],
   "source": [
    "ax = sns.histplot(df, x=\"gender\", hue=\"gender\", palette=c_gender)\n",
    "ax.set_title(\"Gender distribution\")"
   ]
  },
  {
   "cell_type": "markdown",
   "metadata": {
    "collapsed": false
   },
   "source": [
    "### Profession"
   ]
  },
  {
   "cell_type": "code",
   "execution_count": 12,
   "metadata": {
    "collapsed": false
   },
   "outputs": [
    {
     "data": {
      "text/plain": [
       "Text(0.5, 1.0, 'Profession distribution')"
      ]
     },
     "execution_count": 12,
     "metadata": {},
     "output_type": "execute_result"
    },
    {
     "data": {
      "image/png": "[encoded data removed]",
      "text/plain": [
       "<Figure size 640x480 with 1 Axes>"
      ]
     },
     "metadata": {},
     "output_type": "display_data"
    }
   ],
   "source": [
    "ax = sns.histplot(df, x=\"profession\", hue=\"profession\", palette=c_profession)\n",
    "ax.set_title(\"Profession distribution\")"
   ]
  },
  {
   "cell_type": "markdown",
   "metadata": {
    "collapsed": false
   },
   "source": [
    "### Ideology binary"
   ]
  },
  {
   "cell_type": "code",
   "execution_count": 13,
   "metadata": {
    "collapsed": false
   },
   "outputs": [
    {
     "data": {
      "text/plain": [
       "Text(0.5, 1.0, 'Ideology binary distribution')"
      ]
     },
     "execution_count": 13,
     "metadata": {},
     "output_type": "execute_result"
    },
    {
     "data": {
      "image/png": "[encoded data removed]",
      "text/plain": [
       "<Figure size 640x480 with 1 Axes>"
      ]
     },
     "metadata": {},
     "output_type": "display_data"
    }
   ],
   "source": [
    "ax = sns.histplot(df, x=\"ideology_binary\", hue=\"ideology_binary\", palette=c_i_bin)\n",
    "ax.set_title(\"Ideology binary distribution\")"
   ]
  },
  {
   "cell_type": "markdown",
   "metadata": {
    "collapsed": false
   },
   "source": [
    "### Ideology multiclass"
   ]
  },
  {
   "cell_type": "code",
   "execution_count": 14,
   "metadata": {
    "collapsed": false
   },
   "outputs": [
    {
     "data": {
      "text/plain": [
       "Text(0.5, 1.0, 'Ideology multiclass distribution')"
      ]
     },
     "execution_count": 14,
     "metadata": {},
     "output_type": "execute_result"
    },
    {
     "data": {
      "image/png": "[encoded data removed]",
      "text/plain": [
       "<Figure size 640x480 with 1 Axes>"
      ]
     },
     "metadata": {},
     "output_type": "display_data"
    }
   ],
   "source": [
    "ax = sns.histplot(df, x=\"ideology_multiclass\", hue=\"ideology_multiclass\", palette=c_i_mul)\n",
    "ax.set_title(\"Ideology multiclass distribution\")"
   ]
  },
  {
   "cell_type": "markdown",
   "metadata": {
    "collapsed": false
   },
   "source": [
    "# Separación en train y test"
   ]
  },
  {
   "cell_type": "code",
   "execution_count": 15,
   "metadata": {
    "collapsed": false
   },
   "outputs": [],
   "source": [
    "# Separamos en training y en test\n",
    "parte_test = 0.3\n",
    "df_train, df_test = np.split(df, [int((1 - parte_test) * len(df))])"
   ]
  },
  {
   "cell_type": "code",
   "execution_count": 16,
   "metadata": {
    "collapsed": false
   },
   "outputs": [
    {
     "data": {
      "text/html": [
       "<div>\n",
       "<style scoped>\n",
       "    .dataframe tbody tr th:only-of-type {\n",
       "        vertical-align: middle;\n",
       "    }\n",
       "\n",
       "    .dataframe tbody tr th {\n",
       "        vertical-align: top;\n",
       "    }\n",
       "\n",
       "    .dataframe thead th {\n",
       "        text-align: right;\n",
       "    }\n",
       "</style>\n",
       "<table border=\"1\" class=\"dataframe\">\n",
       "  <thead>\n",
       "    <tr style=\"text-align: right;\">\n",
       "      <th></th>\n",
       "      <th>label</th>\n",
       "      <th>gender</th>\n",
       "      <th>profession</th>\n",
       "      <th>ideology_binary</th>\n",
       "      <th>ideology_multiclass</th>\n",
       "      <th>tweet</th>\n",
       "    </tr>\n",
       "  </thead>\n",
       "  <tbody>\n",
       "    <tr>\n",
       "      <th>0</th>\n",
       "      <td>0008c4fab9e97623a60380ee9c88cb20</td>\n",
       "      <td>female</td>\n",
       "      <td>politician</td>\n",
       "      <td>left</td>\n",
       "      <td>left</td>\n",
       "      <td>¡Feliz 28 de febrero a todas las andaluzas y a...</td>\n",
       "    </tr>\n",
       "    <tr>\n",
       "      <th>1</th>\n",
       "      <td>0008c4fab9e97623a60380ee9c88cb20</td>\n",
       "      <td>female</td>\n",
       "      <td>politician</td>\n",
       "      <td>left</td>\n",
       "      <td>left</td>\n",
       "      <td>Feliz año nuevo, feliz esperanza 💕. Querido 20...</td>\n",
       "    </tr>\n",
       "    <tr>\n",
       "      <th>2</th>\n",
       "      <td>0008c4fab9e97623a60380ee9c88cb20</td>\n",
       "      <td>female</td>\n",
       "      <td>politician</td>\n",
       "      <td>left</td>\n",
       "      <td>left</td>\n",
       "      <td>🇩🇪🇪🇸 ¡Un placer encontrarme con mi homólogo al...</td>\n",
       "    </tr>\n",
       "    <tr>\n",
       "      <th>3</th>\n",
       "      <td>0008c4fab9e97623a60380ee9c88cb20</td>\n",
       "      <td>female</td>\n",
       "      <td>politician</td>\n",
       "      <td>left</td>\n",
       "      <td>left</td>\n",
       "      <td>El conflicto en Ucrania ha supuesto una dramát...</td>\n",
       "    </tr>\n",
       "    <tr>\n",
       "      <th>4</th>\n",
       "      <td>0008c4fab9e97623a60380ee9c88cb20</td>\n",
       "      <td>female</td>\n",
       "      <td>politician</td>\n",
       "      <td>left</td>\n",
       "      <td>left</td>\n",
       "      <td>La Academia de la Llingua Asturiana realiza un...</td>\n",
       "    </tr>\n",
       "    <tr>\n",
       "      <th>...</th>\n",
       "      <td>...</td>\n",
       "      <td>...</td>\n",
       "      <td>...</td>\n",
       "      <td>...</td>\n",
       "      <td>...</td>\n",
       "      <td>...</td>\n",
       "    </tr>\n",
       "    <tr>\n",
       "      <th>125994</th>\n",
       "      <td>b75a1185a34e920e0b23b9e87acde174</td>\n",
       "      <td>female</td>\n",
       "      <td>journalist</td>\n",
       "      <td>left</td>\n",
       "      <td>moderate_left</td>\n",
       "      <td>Pero qué cosa tan hermosa es este episodio sob...</td>\n",
       "    </tr>\n",
       "    <tr>\n",
       "      <th>125995</th>\n",
       "      <td>b75a1185a34e920e0b23b9e87acde174</td>\n",
       "      <td>female</td>\n",
       "      <td>journalist</td>\n",
       "      <td>left</td>\n",
       "      <td>moderate_left</td>\n",
       "      <td>@user vaya fichaje que han hecho estos maldito...</td>\n",
       "    </tr>\n",
       "    <tr>\n",
       "      <th>125996</th>\n",
       "      <td>b75a1185a34e920e0b23b9e87acde174</td>\n",
       "      <td>female</td>\n",
       "      <td>journalist</td>\n",
       "      <td>left</td>\n",
       "      <td>moderate_left</td>\n",
       "      <td>Por si quedaban dudas, Lula ganó en el 'Ohio' ...</td>\n",
       "    </tr>\n",
       "    <tr>\n",
       "      <th>125997</th>\n",
       "      <td>b75a1185a34e920e0b23b9e87acde174</td>\n",
       "      <td>female</td>\n",
       "      <td>journalist</td>\n",
       "      <td>left</td>\n",
       "      <td>moderate_left</td>\n",
       "      <td>Las ausencias de los máximos responsables polí...</td>\n",
       "    </tr>\n",
       "    <tr>\n",
       "      <th>125998</th>\n",
       "      <td>b75a1185a34e920e0b23b9e87acde174</td>\n",
       "      <td>female</td>\n",
       "      <td>journalist</td>\n",
       "      <td>left</td>\n",
       "      <td>moderate_left</td>\n",
       "      <td>@user ¿No te gustó la Dra. Yves o Heather?</td>\n",
       "    </tr>\n",
       "  </tbody>\n",
       "</table>\n",
       "<p>125999 rows × 6 columns</p>\n",
       "</div>"
      ],
      "text/plain": [
       "                                   label  gender  profession ideology_binary  \\\n",
       "0       0008c4fab9e97623a60380ee9c88cb20  female  politician            left   \n",
       "1       0008c4fab9e97623a60380ee9c88cb20  female  politician            left   \n",
       "2       0008c4fab9e97623a60380ee9c88cb20  female  politician            left   \n",
       "3       0008c4fab9e97623a60380ee9c88cb20  female  politician            left   \n",
       "4       0008c4fab9e97623a60380ee9c88cb20  female  politician            left   \n",
       "...                                  ...     ...         ...             ...   \n",
       "125994  b75a1185a34e920e0b23b9e87acde174  female  journalist            left   \n",
       "125995  b75a1185a34e920e0b23b9e87acde174  female  journalist            left   \n",
       "125996  b75a1185a34e920e0b23b9e87acde174  female  journalist            left   \n",
       "125997  b75a1185a34e920e0b23b9e87acde174  female  journalist            left   \n",
       "125998  b75a1185a34e920e0b23b9e87acde174  female  journalist            left   \n",
       "\n",
       "       ideology_multiclass                                              tweet  \n",
       "0                     left  ¡Feliz 28 de febrero a todas las andaluzas y a...  \n",
       "1                     left  Feliz año nuevo, feliz esperanza 💕. Querido 20...  \n",
       "2                     left  🇩🇪🇪🇸 ¡Un placer encontrarme con mi homólogo al...  \n",
       "3                     left  El conflicto en Ucrania ha supuesto una dramát...  \n",
       "4                     left  La Academia de la Llingua Asturiana realiza un...  \n",
       "...                    ...                                                ...  \n",
       "125994       moderate_left  Pero qué cosa tan hermosa es este episodio sob...  \n",
       "125995       moderate_left  @user vaya fichaje que han hecho estos maldito...  \n",
       "125996       moderate_left  Por si quedaban dudas, Lula ganó en el 'Ohio' ...  \n",
       "125997       moderate_left  Las ausencias de los máximos responsables polí...  \n",
       "125998       moderate_left         @user ¿No te gustó la Dra. Yves o Heather?  \n",
       "\n",
       "[125999 rows x 6 columns]"
      ]
     },
     "execution_count": 16,
     "metadata": {},
     "output_type": "execute_result"
    }
   ],
   "source": [
    "df_train"
   ]
  },
  {
   "cell_type": "code",
   "execution_count": 17,
   "metadata": {
    "collapsed": false
   },
   "outputs": [
    {
     "data": {
      "text/html": [
       "<div>\n",
       "<style scoped>\n",
       "    .dataframe tbody tr th:only-of-type {\n",
       "        vertical-align: middle;\n",
       "    }\n",
       "\n",
       "    .dataframe tbody tr th {\n",
       "        vertical-align: top;\n",
       "    }\n",
       "\n",
       "    .dataframe thead th {\n",
       "        text-align: right;\n",
       "    }\n",
       "</style>\n",
       "<table border=\"1\" class=\"dataframe\">\n",
       "  <thead>\n",
       "    <tr style=\"text-align: right;\">\n",
       "      <th></th>\n",
       "      <th>label</th>\n",
       "      <th>gender</th>\n",
       "      <th>profession</th>\n",
       "      <th>ideology_binary</th>\n",
       "      <th>ideology_multiclass</th>\n",
       "      <th>tweet</th>\n",
       "    </tr>\n",
       "  </thead>\n",
       "  <tbody>\n",
       "    <tr>\n",
       "      <th>125999</th>\n",
       "      <td>b75a1185a34e920e0b23b9e87acde174</td>\n",
       "      <td>female</td>\n",
       "      <td>journalist</td>\n",
       "      <td>left</td>\n",
       "      <td>moderate_left</td>\n",
       "      <td>Qué petición tan simple la que hace la cantant...</td>\n",
       "    </tr>\n",
       "    <tr>\n",
       "      <th>126000</th>\n",
       "      <td>b764da399179ff2948719066391eaecf</td>\n",
       "      <td>female</td>\n",
       "      <td>journalist</td>\n",
       "      <td>right</td>\n",
       "      <td>moderate_right</td>\n",
       "      <td>He ido a ver Cyrano de Bergerac, de la compañí...</td>\n",
       "    </tr>\n",
       "    <tr>\n",
       "      <th>126001</th>\n",
       "      <td>b764da399179ff2948719066391eaecf</td>\n",
       "      <td>female</td>\n",
       "      <td>journalist</td>\n",
       "      <td>right</td>\n",
       "      <td>moderate_right</td>\n",
       "      <td>Brutal esta entrevista de ⁦@user ⁩ a a una ucr...</td>\n",
       "    </tr>\n",
       "    <tr>\n",
       "      <th>126002</th>\n",
       "      <td>b764da399179ff2948719066391eaecf</td>\n",
       "      <td>female</td>\n",
       "      <td>journalist</td>\n",
       "      <td>right</td>\n",
       "      <td>moderate_right</td>\n",
       "      <td>Cuando llegué a Madrid, mi compañera de piso d...</td>\n",
       "    </tr>\n",
       "    <tr>\n",
       "      <th>126003</th>\n",
       "      <td>b764da399179ff2948719066391eaecf</td>\n",
       "      <td>female</td>\n",
       "      <td>journalist</td>\n",
       "      <td>right</td>\n",
       "      <td>moderate_right</td>\n",
       "      <td>4/ Mientras algunos quieren presentar a Shakir...</td>\n",
       "    </tr>\n",
       "    <tr>\n",
       "      <th>...</th>\n",
       "      <td>...</td>\n",
       "      <td>...</td>\n",
       "      <td>...</td>\n",
       "      <td>...</td>\n",
       "      <td>...</td>\n",
       "      <td>...</td>\n",
       "    </tr>\n",
       "    <tr>\n",
       "      <th>179995</th>\n",
       "      <td>ffd89e81d6f6c783bfb72a4590db4304</td>\n",
       "      <td>male</td>\n",
       "      <td>politician</td>\n",
       "      <td>left</td>\n",
       "      <td>left</td>\n",
       "      <td>Desde un inicio nos opusimos a la escalda mili...</td>\n",
       "    </tr>\n",
       "    <tr>\n",
       "      <th>179996</th>\n",
       "      <td>ffd89e81d6f6c783bfb72a4590db4304</td>\n",
       "      <td>male</td>\n",
       "      <td>politician</td>\n",
       "      <td>left</td>\n",
       "      <td>left</td>\n",
       "      <td>En menos de 4 minutos he tratado de analizar e...</td>\n",
       "    </tr>\n",
       "    <tr>\n",
       "      <th>179997</th>\n",
       "      <td>ffd89e81d6f6c783bfb72a4590db4304</td>\n",
       "      <td>male</td>\n",
       "      <td>politician</td>\n",
       "      <td>left</td>\n",
       "      <td>left</td>\n",
       "      <td>Un fantasma recorre Euskal Herria y el Estado....</td>\n",
       "    </tr>\n",
       "    <tr>\n",
       "      <th>179998</th>\n",
       "      <td>ffd89e81d6f6c783bfb72a4590db4304</td>\n",
       "      <td>male</td>\n",
       "      <td>politician</td>\n",
       "      <td>left</td>\n",
       "      <td>left</td>\n",
       "      <td>Aquí os dejo mis reflexiones hoy en el diario ...</td>\n",
       "    </tr>\n",
       "    <tr>\n",
       "      <th>179999</th>\n",
       "      <td>ffd89e81d6f6c783bfb72a4590db4304</td>\n",
       "      <td>male</td>\n",
       "      <td>politician</td>\n",
       "      <td>left</td>\n",
       "      <td>left</td>\n",
       "      <td>No se trata de sobreactuar o \"condenar\" unas p...</td>\n",
       "    </tr>\n",
       "  </tbody>\n",
       "</table>\n",
       "<p>54001 rows × 6 columns</p>\n",
       "</div>"
      ],
      "text/plain": [
       "                                   label  gender  profession ideology_binary  \\\n",
       "125999  b75a1185a34e920e0b23b9e87acde174  female  journalist            left   \n",
       "126000  b764da399179ff2948719066391eaecf  female  journalist           right   \n",
       "126001  b764da399179ff2948719066391eaecf  female  journalist           right   \n",
       "126002  b764da399179ff2948719066391eaecf  female  journalist           right   \n",
       "126003  b764da399179ff2948719066391eaecf  female  journalist           right   \n",
       "...                                  ...     ...         ...             ...   \n",
       "179995  ffd89e81d6f6c783bfb72a4590db4304    male  politician            left   \n",
       "179996  ffd89e81d6f6c783bfb72a4590db4304    male  politician            left   \n",
       "179997  ffd89e81d6f6c783bfb72a4590db4304    male  politician            left   \n",
       "179998  ffd89e81d6f6c783bfb72a4590db4304    male  politician            left   \n",
       "179999  ffd89e81d6f6c783bfb72a4590db4304    male  politician            left   \n",
       "\n",
       "       ideology_multiclass                                              tweet  \n",
       "125999       moderate_left  Qué petición tan simple la que hace la cantant...  \n",
       "126000      moderate_right  He ido a ver Cyrano de Bergerac, de la compañí...  \n",
       "126001      moderate_right  Brutal esta entrevista de ⁦@user ⁩ a a una ucr...  \n",
       "126002      moderate_right  Cuando llegué a Madrid, mi compañera de piso d...  \n",
       "126003      moderate_right  4/ Mientras algunos quieren presentar a Shakir...  \n",
       "...                    ...                                                ...  \n",
       "179995                left  Desde un inicio nos opusimos a la escalda mili...  \n",
       "179996                left  En menos de 4 minutos he tratado de analizar e...  \n",
       "179997                left  Un fantasma recorre Euskal Herria y el Estado....  \n",
       "179998                left  Aquí os dejo mis reflexiones hoy en el diario ...  \n",
       "179999                left  No se trata de sobreactuar o \"condenar\" unas p...  \n",
       "\n",
       "[54001 rows x 6 columns]"
      ]
     },
     "execution_count": 17,
     "metadata": {},
     "output_type": "execute_result"
    }
   ],
   "source": [
    "df_test"
   ]
  },
  {
   "attachments": {},
   "cell_type": "markdown",
   "metadata": {},
   "source": [
    "# CNN"
   ]
  },
  {
   "cell_type": "code",
   "execution_count": 18,
   "metadata": {
    "collapsed": false
   },
   "outputs": [
    {
     "name": "stdout",
     "output_type": "stream",
     "text": [
      "Conjunto de etiquetas: ['left', 'right']\n"
     ]
    }
   ],
   "source": [
    "from sklearn.preprocessing import LabelEncoder\n",
    "from keras.utils import to_categorical\n",
    "\n",
    "y_train = df_train['ideology_binary'].tolist()\n",
    "y_test = df_test['ideology_binary'].tolist()\n",
    "\n",
    "LABELS = sorted(set(y_test))\n",
    "print('Conjunto de etiquetas:', LABELS)\n",
    "\n",
    "le = LabelEncoder()\n",
    "y_train = le.fit_transform(y_train)\n",
    "y_test = le.transform(y_test)"
   ]
  },
  {
   "cell_type": "code",
   "execution_count": 19,
   "metadata": {},
   "outputs": [],
   "source": [
    "X_train = df_train['tweet'].tolist()\n",
    "X_test = df_test['tweet'].tolist()"
   ]
  },
  {
   "cell_type": "code",
   "execution_count": 20,
   "metadata": {},
   "outputs": [
    {
     "name": "stdout",
     "output_type": "stream",
     "text": [
      "Tamaño del vocabulario =121789\n"
     ]
    }
   ],
   "source": [
    "from keras.preprocessing.text import Tokenizer\n",
    "\n",
    "tokenizer = Tokenizer(oov_token = True)\n",
    "tokenizer.fit_on_texts(X_train)\n",
    "tokenizer.word_index[''] = 0\n",
    "\n",
    "NUM_WORDS=len(tokenizer.word_index)\n",
    "print(\"Tamaño del vocabulario ={}\".format(NUM_WORDS))\n",
    "\n",
    "from keras.utils import pad_sequences \n",
    "\n",
    "MAX_LEN=60\n",
    "\n",
    "encoded_train = pad_sequences(tokenizer.texts_to_sequences(X_train), maxlen = MAX_LEN, padding='post')\n",
    "encoded_test = pad_sequences(tokenizer.texts_to_sequences(X_test), maxlen = MAX_LEN, padding='post')"
   ]
  },
  {
   "cell_type": "code",
   "execution_count": 21,
   "metadata": {},
   "outputs": [
    {
     "data": {
      "text/plain": [
       "'2.12.0-rc0'"
      ]
     },
     "execution_count": 21,
     "metadata": {},
     "output_type": "execute_result"
    }
   ],
   "source": [
    "import tensorflow as tf \n",
    "# asegurar que los experimentos se pueden reproducir\n",
    "tf.random.set_seed(42)\n",
    "\n",
    "tf.__version__"
   ]
  },
  {
   "cell_type": "code",
   "execution_count": 22,
   "metadata": {},
   "outputs": [
    {
     "name": "stdout",
     "output_type": "stream",
     "text": [
      "Requirement already satisfied: gensim in c:\\users\\manfe\\appdata\\local\\packages\\pythonsoftwarefoundation.python.3.11_qbz5n2kfra8p0\\localcache\\local-packages\\python311\\site-packages (4.3.1)\n",
      "Requirement already satisfied: numpy>=1.18.5 in c:\\users\\manfe\\appdata\\local\\packages\\pythonsoftwarefoundation.python.3.11_qbz5n2kfra8p0\\localcache\\local-packages\\python311\\site-packages (from gensim) (1.23.5)\n",
      "Requirement already satisfied: scipy>=1.7.0 in c:\\users\\manfe\\appdata\\local\\packages\\pythonsoftwarefoundation.python.3.11_qbz5n2kfra8p0\\localcache\\local-packages\\python311\\site-packages (from gensim) (1.10.1)\n",
      "Requirement already satisfied: smart-open>=1.8.1 in c:\\users\\manfe\\appdata\\local\\packages\\pythonsoftwarefoundation.python.3.11_qbz5n2kfra8p0\\localcache\\local-packages\\python311\\site-packages (from gensim) (6.3.0)\n",
      "Note: you may need to restart the kernel to use updated packages.\n"
     ]
    },
    {
     "name": "stderr",
     "output_type": "stream",
     "text": [
      "\n",
      "[notice] A new release of pip available: 22.3.1 -> 23.0.1\n",
      "[notice] To update, run: C:\\Users\\manfe\\AppData\\Local\\Microsoft\\WindowsApps\\PythonSoftwareFoundation.Python.3.11_qbz5n2kfra8p0\\python.exe -m pip install --upgrade pip\n"
     ]
    }
   ],
   "source": [
    "pip install gensim"
   ]
  },
  {
   "cell_type": "code",
   "execution_count": 23,
   "metadata": {},
   "outputs": [
    {
     "name": "stdout",
     "output_type": "stream",
     "text": [
      "matriz creada\n"
     ]
    }
   ],
   "source": [
    "import gensim.downloader as api\n",
    "import numpy as np\n",
    "\n",
    "model_we = api.load(\"glove-wiki-gigaword-50\")\n",
    "#model_we = api.load(\"word2vec-google-news-300\")     #EMBED_SIZE = 300\n",
    "\n",
    "EMBED_SIZE = 50\n",
    "\n",
    "# creamos una matriz para los textos del conjunto de entrenamiento\n",
    "embedding_matrix = np.zeros((NUM_WORDS, EMBED_SIZE))\n",
    "for word, i in tokenizer.word_index.items():\n",
    "    try:\n",
    "        embedding_vector = model_we[word]\n",
    "        # word embedding para la palabra con índice i\n",
    "        embedding_matrix[i] = embedding_vector\n",
    "    except:\n",
    "        #if word does not exist, we do not udpate the matrix\n",
    "        pass\n",
    "\n",
    "print('matriz creada')\n"
   ]
  },
  {
   "cell_type": "code",
   "execution_count": 24,
   "metadata": {},
   "outputs": [
    {
     "name": "stdout",
     "output_type": "stream",
     "text": [
      "Model: \"sequential\"\n",
      "_________________________________________________________________\n",
      " Layer (type)                Output Shape              Param #   \n",
      "=================================================================\n",
      " embedding (Embedding)       (None, 60, 50)            6089450   \n",
      "                                                                 \n",
      " conv1d (Conv1D)             (None, 60, 128)           25728     \n",
      "                                                                 \n",
      " conv1d_1 (Conv1D)           (None, 60, 64)            32832     \n",
      "                                                                 \n",
      " conv1d_2 (Conv1D)           (None, 60, 32)            8224      \n",
      "                                                                 \n",
      " max_pooling1d (MaxPooling1D  (None, 30, 32)           0         \n",
      " )                                                               \n",
      "                                                                 \n",
      " flatten (Flatten)           (None, 960)               0         \n",
      "                                                                 \n",
      " dense (Dense)               (None, 256)               246016    \n",
      "                                                                 \n",
      " dense_1 (Dense)             (None, 1)                 257       \n",
      "                                                                 \n",
      "=================================================================\n",
      "Total params: 6,402,507\n",
      "Trainable params: 6,402,507\n",
      "Non-trainable params: 0\n",
      "_________________________________________________________________\n"
     ]
    }
   ],
   "source": [
    "from keras.models import Sequential\n",
    "from keras.layers import Flatten, Dense, Embedding, Conv1D, MaxPooling1D\n",
    "\n",
    "model = Sequential()\n",
    "\n",
    "model.add(Embedding(NUM_WORDS, EMBED_SIZE, \n",
    "                    input_length=MAX_LEN, weights=[embedding_matrix],))\n",
    "\n",
    "model.add(Conv1D(filters=128, kernel_size=4, padding='same', activation='relu'))\n",
    "model.add(Conv1D(filters=64, kernel_size=4, padding='same', activation='relu'))\n",
    "model.add(Conv1D(filters=32, kernel_size=4, padding='same', activation='relu'))\n",
    "model.add(MaxPooling1D(pool_size=2))\n",
    "\n",
    "model.add(Flatten())\n",
    "model.add(Dense(256, activation='relu'))\n",
    "# Para clasificación binaria\n",
    "model.add(Dense(1, activation='sigmoid'))\n",
    "model.compile(loss='binary_crossentropy', optimizer='adam', metrics=['accuracy'])\n",
    "\n",
    "model.summary()"
   ]
  },
  {
   "cell_type": "code",
   "execution_count": 25,
   "metadata": {},
   "outputs": [],
   "source": [
    "from keras.callbacks import ModelCheckpoint, EarlyStopping\n",
    "# Para el entrenamiento después de 3 epochs sin el error en el conjunto de validación no mejora\n",
    "earlyStopping = EarlyStopping(monitor='val_loss', min_delta=0, patience=3, verbose=0, mode='auto')"
   ]
  },
  {
   "cell_type": "code",
   "execution_count": 26,
   "metadata": {},
   "outputs": [
    {
     "name": "stdout",
     "output_type": "stream",
     "text": [
      "Epoch 1/10\n",
      "6300/6300 [==============================] - 638s 101ms/step - loss: 0.6549 - accuracy: 0.5959 - val_loss: 0.6008 - val_accuracy: 0.6619\n",
      "Epoch 2/10\n",
      "6300/6300 [==============================] - 864s 137ms/step - loss: 0.5059 - accuracy: 0.7476 - val_loss: 0.6040 - val_accuracy: 0.6806\n",
      "Epoch 3/10\n",
      "6300/6300 [==============================] - 906s 144ms/step - loss: 0.3780 - accuracy: 0.8268 - val_loss: 0.6183 - val_accuracy: 0.6922\n",
      "Epoch 4/10\n",
      "6300/6300 [==============================] - 982s 156ms/step - loss: 0.2774 - accuracy: 0.8792 - val_loss: 0.7901 - val_accuracy: 0.6707\n"
     ]
    }
   ],
   "source": [
    "epochs = 10 \n",
    "batch_size = 16 \n",
    "\n",
    "# training\n",
    "history=model.fit(encoded_train, y_train, \n",
    "                    validation_split=0.2,\n",
    "                  batch_size=batch_size, epochs=epochs,\n",
    "                  callbacks=[earlyStopping],\n",
    "                  )"
   ]
  },
  {
   "cell_type": "code",
   "execution_count": 27,
   "metadata": {},
   "outputs": [
    {
     "data": {
      "text/plain": [
       "<matplotlib.legend.Legend at 0x24a51fb3790>"
      ]
     },
     "execution_count": 27,
     "metadata": {},
     "output_type": "execute_result"
    },
    {
     "data": {
      "image/png": "[encoded data removed]",
      "text/plain": [
       "<Figure size 1400x600 with 2 Axes>"
      ]
     },
     "metadata": {},
     "output_type": "display_data"
    }
   ],
   "source": [
    "import matplotlib.pyplot as plt\n",
    "\n",
    "history_dict = history.history\n",
    "loss_values = history_dict['loss']\n",
    "val_loss_values = history_dict['val_loss']\n",
    "accuracy = history_dict['accuracy']\n",
    "val_accuracy = history_dict['val_accuracy']\n",
    " \n",
    "epochs = range(1, len(loss_values) + 1)\n",
    "fig, ax = plt.subplots(1, 2, figsize=(14, 6))\n",
    "#\n",
    "# Curva de a  the model accuracy vs Epochs\n",
    "#\n",
    "ax[0].plot(epochs, accuracy, 'b', label='Training accuracy')\n",
    "ax[0].plot(epochs, val_accuracy, 'red', label='Validation accuracy')\n",
    "ax[0].set_title('Training & Validation Accuracy', fontsize=16)\n",
    "ax[0].set_xlabel('Epochs', fontsize=16)\n",
    "ax[0].set_ylabel('Accuracy', fontsize=16)\n",
    "ax[0].legend()\n",
    "#\n",
    "# Plot the loss vs Epochs\n",
    "#\n",
    "ax[1].plot(epochs, loss_values, 'b', label='Training loss')\n",
    "ax[1].plot(epochs, val_loss_values, 'red', label='Validation loss')\n",
    "ax[1].set_title('Training & Validation Loss', fontsize=16)\n",
    "ax[1].set_xlabel('Epochs', fontsize=16)\n",
    "ax[1].set_ylabel('Loss', fontsize=16)\n",
    "ax[1].legend()"
   ]
  },
  {
   "cell_type": "code",
   "execution_count": 28,
   "metadata": {},
   "outputs": [
    {
     "name": "stdout",
     "output_type": "stream",
     "text": [
      "3376/3376 [==============================] - 20s 6ms/step - loss: 0.7954 - accuracy: 0.6702\n"
     ]
    }
   ],
   "source": [
    "loss, accuracy = model.evaluate(encoded_test, y_test, batch_size=batch_size)"
   ]
  },
  {
   "cell_type": "code",
   "execution_count": 29,
   "metadata": {},
   "outputs": [
    {
     "name": "stdout",
     "output_type": "stream",
     "text": [
      "1688/1688 [==============================] - 14s 8ms/step\n",
      "accuracy: 0.6701542564026592\n",
      "              precision    recall  f1-score   support\n",
      "\n",
      "        left       0.75      0.63      0.68     30401\n",
      "       right       0.60      0.72      0.66     23600\n",
      "\n",
      "    accuracy                           0.67     54001\n",
      "   macro avg       0.67      0.68      0.67     54001\n",
      "weighted avg       0.68      0.67      0.67     54001\n",
      "\n"
     ]
    }
   ],
   "source": [
    "import numpy as np\n",
    "from sklearn.metrics import accuracy_score, classification_report \n",
    "y_pred = np.round(model.predict(encoded_test))\n",
    "\n",
    "print('accuracy:', accuracy_score(y_test, y_pred))\n",
    "print(classification_report(y_test, y_pred, target_names=LABELS))"
   ]
  },
  {
   "cell_type": "code",
   "execution_count": 30,
   "metadata": {},
   "outputs": [
    {
     "name": "stdout",
     "output_type": "stream",
     "text": [
      "[[19130 11271]\n",
      " [ 6541 17059]]\n"
     ]
    }
   ],
   "source": [
    "from sklearn.metrics import confusion_matrix, ConfusionMatrixDisplay\n",
    "cm = confusion_matrix(y_test, y_pred)\n",
    "print(cm)"
   ]
  },
  {
   "cell_type": "code",
   "execution_count": 31,
   "metadata": {},
   "outputs": [
    {
     "data": {
      "text/plain": [
       "<sklearn.metrics._plot.confusion_matrix.ConfusionMatrixDisplay at 0x24a4d694150>"
      ]
     },
     "execution_count": 31,
     "metadata": {},
     "output_type": "execute_result"
    },
    {
     "data": {
      "image/png": "[encoded data removed]",
      "text/plain": [
       "<Figure size 640x480 with 2 Axes>"
      ]
     },
     "metadata": {},
     "output_type": "display_data"
    }
   ],
   "source": [
    "disp = ConfusionMatrixDisplay(confusion_matrix=cm,\n",
    "                              display_labels=LABELS)\n",
    "disp.plot(cmap=plt.cm.Blues,values_format='g')"
   ]
  }
 ],
 "metadata": {
  "kernelspec": {
   "display_name": "Python 3",
   "language": "python",
   "name": "python3"
  },
  "language_info": {
   "codemirror_mode": {
    "name": "ipython",
    "version": 3
   },
   "file_extension": ".py",
   "mimetype": "text/x-python",
   "name": "python",
   "nbconvert_exporter": "python",
   "pygments_lexer": "ipython3",
   "version": "3.11.3"
  }
 },
 "nbformat": 4,
 "nbformat_minor": 0
}

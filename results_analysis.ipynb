{
 "cells": [
  {
   "cell_type": "markdown",
   "source": [
    "## Imports"
   ],
   "metadata": {
    "collapsed": false
   }
  },
  {
   "cell_type": "code",
   "execution_count": 25,
   "outputs": [],
   "source": [
    "from pathlib import Path\n",
    "import pandas as pd\n",
    "import numpy as np\n",
    "import seaborn as sns\n",
    "import matplotlib.pyplot as plt\n",
    "from sklearn.model_selection import train_test_split\n",
    "from sklearn.metrics import confusion_matrix,ConfusionMatrixDisplay\n",
    "from sklearn.metrics import f1_score, classification_report, precision_recall_fscore_support, accuracy_score"
   ],
   "metadata": {
    "collapsed": false,
    "ExecuteTime": {
     "end_time": "2023-06-03T20:20:52.626528300Z",
     "start_time": "2023-06-03T20:20:52.621943100Z"
    }
   }
  },
  {
   "cell_type": "markdown",
   "source": [
    "## Visualización"
   ],
   "metadata": {
    "collapsed": false
   }
  },
  {
   "cell_type": "code",
   "execution_count": 2,
   "outputs": [],
   "source": [
    "%matplotlib inline\n",
    "\n",
    "c_gender = {'male': 'blue', 'female': 'pink'}\n",
    "c_profession = {'politician': 'gray', 'celebrity': 'yellow', 'journalist': 'orange'}\n",
    "c_i_bin = {'left': 'red', 'right': 'blue'}\n",
    "c_i_mul = {'left': 'red', 'moderate_left': 'lightcoral', 'moderate_right': 'turquoise', 'right': 'blue'}"
   ],
   "metadata": {
    "collapsed": false,
    "ExecuteTime": {
     "end_time": "2023-06-03T20:06:33.183237400Z",
     "start_time": "2023-06-03T20:06:33.155483900Z"
    }
   }
  },
  {
   "cell_type": "markdown",
   "source": [
    "## Seed para repetición"
   ],
   "metadata": {
    "collapsed": false
   }
  },
  {
   "cell_type": "code",
   "execution_count": 3,
   "outputs": [],
   "source": [
    "seed = 69420\n",
    "np.random.seed(seed)"
   ],
   "metadata": {
    "collapsed": false,
    "ExecuteTime": {
     "end_time": "2023-06-03T20:06:33.196955300Z",
     "start_time": "2023-06-03T20:06:33.183237400Z"
    }
   }
  },
  {
   "cell_type": "markdown",
   "source": [
    "## Dataset"
   ],
   "metadata": {
    "collapsed": false
   }
  },
  {
   "cell_type": "code",
   "execution_count": 31,
   "outputs": [
    {
     "data": {
      "text/plain": "                                   label  gender  profession ideology_binary  \\\n0       0008c4fab9e97623a60380ee9c88cb20  female  politician            left   \n80      00369358fac3b8d42845f82f0c3ececc    male  journalist            left   \n160     00483c4cd74379bc24034ae4085f852e    male  journalist            left   \n240     00584645548f8443d0aad9f6c1a61f52    male   celebrity           right   \n320     00778970ef0702316f52d047e10b0fa1  female  politician            left   \n...                                  ...     ...         ...             ...   \n179600  ff6c5eee26b2d5eb77198bad4a7d5183    male  journalist            left   \n179680  ffad184c89ce039af8631437bb57cbf6    male  politician            left   \n179760  ffb3056ff7d65ccc20863f4ef726bb2b    male  journalist            left   \n179840  ffcc655c22b6d8b96857db135b61b61a  female  journalist           right   \n179920  ffd89e81d6f6c783bfb72a4590db4304    male  politician            left   \n\n       ideology_multiclass  \n0                     left  \n80                    left  \n160                   left  \n240                  right  \n320          moderate_left  \n...                    ...  \n179600       moderate_left  \n179680       moderate_left  \n179760       moderate_left  \n179840      moderate_right  \n179920                left  \n\n[2250 rows x 5 columns]",
      "text/html": "<div>\n<style scoped>\n    .dataframe tbody tr th:only-of-type {\n        vertical-align: middle;\n    }\n\n    .dataframe tbody tr th {\n        vertical-align: top;\n    }\n\n    .dataframe thead th {\n        text-align: right;\n    }\n</style>\n<table border=\"1\" class=\"dataframe\">\n  <thead>\n    <tr style=\"text-align: right;\">\n      <th></th>\n      <th>label</th>\n      <th>gender</th>\n      <th>profession</th>\n      <th>ideology_binary</th>\n      <th>ideology_multiclass</th>\n    </tr>\n  </thead>\n  <tbody>\n    <tr>\n      <th>0</th>\n      <td>0008c4fab9e97623a60380ee9c88cb20</td>\n      <td>female</td>\n      <td>politician</td>\n      <td>left</td>\n      <td>left</td>\n    </tr>\n    <tr>\n      <th>80</th>\n      <td>00369358fac3b8d42845f82f0c3ececc</td>\n      <td>male</td>\n      <td>journalist</td>\n      <td>left</td>\n      <td>left</td>\n    </tr>\n    <tr>\n      <th>160</th>\n      <td>00483c4cd74379bc24034ae4085f852e</td>\n      <td>male</td>\n      <td>journalist</td>\n      <td>left</td>\n      <td>left</td>\n    </tr>\n    <tr>\n      <th>240</th>\n      <td>00584645548f8443d0aad9f6c1a61f52</td>\n      <td>male</td>\n      <td>celebrity</td>\n      <td>right</td>\n      <td>right</td>\n    </tr>\n    <tr>\n      <th>320</th>\n      <td>00778970ef0702316f52d047e10b0fa1</td>\n      <td>female</td>\n      <td>politician</td>\n      <td>left</td>\n      <td>moderate_left</td>\n    </tr>\n    <tr>\n      <th>...</th>\n      <td>...</td>\n      <td>...</td>\n      <td>...</td>\n      <td>...</td>\n      <td>...</td>\n    </tr>\n    <tr>\n      <th>179600</th>\n      <td>ff6c5eee26b2d5eb77198bad4a7d5183</td>\n      <td>male</td>\n      <td>journalist</td>\n      <td>left</td>\n      <td>moderate_left</td>\n    </tr>\n    <tr>\n      <th>179680</th>\n      <td>ffad184c89ce039af8631437bb57cbf6</td>\n      <td>male</td>\n      <td>politician</td>\n      <td>left</td>\n      <td>moderate_left</td>\n    </tr>\n    <tr>\n      <th>179760</th>\n      <td>ffb3056ff7d65ccc20863f4ef726bb2b</td>\n      <td>male</td>\n      <td>journalist</td>\n      <td>left</td>\n      <td>moderate_left</td>\n    </tr>\n    <tr>\n      <th>179840</th>\n      <td>ffcc655c22b6d8b96857db135b61b61a</td>\n      <td>female</td>\n      <td>journalist</td>\n      <td>right</td>\n      <td>moderate_right</td>\n    </tr>\n    <tr>\n      <th>179920</th>\n      <td>ffd89e81d6f6c783bfb72a4590db4304</td>\n      <td>male</td>\n      <td>politician</td>\n      <td>left</td>\n      <td>left</td>\n    </tr>\n  </tbody>\n</table>\n<p>2250 rows × 5 columns</p>\n</div>"
     },
     "execution_count": 31,
     "metadata": {},
     "output_type": "execute_result"
    }
   ],
   "source": [
    "df = pd.read_csv(Path(\"practise_data/politicES_phase_2_train_public.csv\"))\n",
    "# We are only interested in the label and classification\n",
    "df = df.drop_duplicates(subset=['label'])[['label', 'gender', 'profession', 'ideology_binary', 'ideology_multiclass']]\n",
    "df"
   ],
   "metadata": {
    "collapsed": false,
    "ExecuteTime": {
     "end_time": "2023-06-03T20:27:11.930483Z",
     "start_time": "2023-06-03T20:27:11.243036500Z"
    }
   }
  },
  {
   "cell_type": "markdown",
   "source": [
    "# Model output"
   ],
   "metadata": {
    "collapsed": false
   }
  },
  {
   "cell_type": "code",
   "execution_count": 32,
   "outputs": [
    {
     "data": {
      "text/plain": "                                 label ideology_binary ideology_multiclass  \\\n0     99877ed852bf99a23b16202beebfceeb            left                left   \n1     3ac0fd83d2e02a87e5a41a26f1dd32a8            left       moderate_left   \n2     b32161598c24849d1bb4f26c550883f4           right               right   \n3     92a3f751e8d866f816a0b2e73c56ebdc            left       moderate_left   \n4     4408af159b44e96f85c9d996474f6cd1           right       moderate_left   \n...                                ...             ...                 ...   \n2245  e05c563b1b301d30e4825e4e2a41bd97           right       moderate_left   \n2246  d38d47dc924ef912b3686e4d7d98cd99            left                left   \n2247  cb69aba921aca718d63b921a941bcf9f            left      moderate_right   \n2248  87e78313e1aebb027a7d3a2a3eb58a41           right      moderate_right   \n2249  78fa3834d40e4cb9327d34b1653a9156            left       moderate_left   \n\n     gender  profession  \n0      male  journalist  \n1      male  journalist  \n2      male  journalist  \n3      male  journalist  \n4      male  journalist  \n...     ...         ...  \n2245   male  journalist  \n2246   male  journalist  \n2247   male  journalist  \n2248   male  journalist  \n2249   male  journalist  \n\n[2250 rows x 5 columns]",
      "text/html": "<div>\n<style scoped>\n    .dataframe tbody tr th:only-of-type {\n        vertical-align: middle;\n    }\n\n    .dataframe tbody tr th {\n        vertical-align: top;\n    }\n\n    .dataframe thead th {\n        text-align: right;\n    }\n</style>\n<table border=\"1\" class=\"dataframe\">\n  <thead>\n    <tr style=\"text-align: right;\">\n      <th></th>\n      <th>label</th>\n      <th>ideology_binary</th>\n      <th>ideology_multiclass</th>\n      <th>gender</th>\n      <th>profession</th>\n    </tr>\n  </thead>\n  <tbody>\n    <tr>\n      <th>0</th>\n      <td>99877ed852bf99a23b16202beebfceeb</td>\n      <td>left</td>\n      <td>left</td>\n      <td>male</td>\n      <td>journalist</td>\n    </tr>\n    <tr>\n      <th>1</th>\n      <td>3ac0fd83d2e02a87e5a41a26f1dd32a8</td>\n      <td>left</td>\n      <td>moderate_left</td>\n      <td>male</td>\n      <td>journalist</td>\n    </tr>\n    <tr>\n      <th>2</th>\n      <td>b32161598c24849d1bb4f26c550883f4</td>\n      <td>right</td>\n      <td>right</td>\n      <td>male</td>\n      <td>journalist</td>\n    </tr>\n    <tr>\n      <th>3</th>\n      <td>92a3f751e8d866f816a0b2e73c56ebdc</td>\n      <td>left</td>\n      <td>moderate_left</td>\n      <td>male</td>\n      <td>journalist</td>\n    </tr>\n    <tr>\n      <th>4</th>\n      <td>4408af159b44e96f85c9d996474f6cd1</td>\n      <td>right</td>\n      <td>moderate_left</td>\n      <td>male</td>\n      <td>journalist</td>\n    </tr>\n    <tr>\n      <th>...</th>\n      <td>...</td>\n      <td>...</td>\n      <td>...</td>\n      <td>...</td>\n      <td>...</td>\n    </tr>\n    <tr>\n      <th>2245</th>\n      <td>e05c563b1b301d30e4825e4e2a41bd97</td>\n      <td>right</td>\n      <td>moderate_left</td>\n      <td>male</td>\n      <td>journalist</td>\n    </tr>\n    <tr>\n      <th>2246</th>\n      <td>d38d47dc924ef912b3686e4d7d98cd99</td>\n      <td>left</td>\n      <td>left</td>\n      <td>male</td>\n      <td>journalist</td>\n    </tr>\n    <tr>\n      <th>2247</th>\n      <td>cb69aba921aca718d63b921a941bcf9f</td>\n      <td>left</td>\n      <td>moderate_right</td>\n      <td>male</td>\n      <td>journalist</td>\n    </tr>\n    <tr>\n      <th>2248</th>\n      <td>87e78313e1aebb027a7d3a2a3eb58a41</td>\n      <td>right</td>\n      <td>moderate_right</td>\n      <td>male</td>\n      <td>journalist</td>\n    </tr>\n    <tr>\n      <th>2249</th>\n      <td>78fa3834d40e4cb9327d34b1653a9156</td>\n      <td>left</td>\n      <td>moderate_left</td>\n      <td>male</td>\n      <td>journalist</td>\n    </tr>\n  </tbody>\n</table>\n<p>2250 rows × 5 columns</p>\n</div>"
     },
     "execution_count": 32,
     "metadata": {},
     "output_type": "execute_result"
    }
   ],
   "source": [
    "output_df = pd.read_csv(Path(\"test_results.csv\"))\n",
    "output_df"
   ],
   "metadata": {
    "collapsed": false,
    "ExecuteTime": {
     "end_time": "2023-06-03T20:27:12.100897Z",
     "start_time": "2023-06-03T20:27:12.043092500Z"
    }
   }
  },
  {
   "cell_type": "markdown",
   "source": [
    "# Creación de matriz de confusión"
   ],
   "metadata": {
    "collapsed": false
   }
  },
  {
   "cell_type": "code",
   "execution_count": 37,
   "outputs": [
    {
     "data": {
      "text/plain": "                                 label ideology_binary_x  \\\n0     0008c4fab9e97623a60380ee9c88cb20              left   \n1     00369358fac3b8d42845f82f0c3ececc             right   \n2     00483c4cd74379bc24034ae4085f852e              left   \n3     00584645548f8443d0aad9f6c1a61f52             right   \n4     00778970ef0702316f52d047e10b0fa1              left   \n...                                ...               ...   \n2245  ff6c5eee26b2d5eb77198bad4a7d5183              left   \n2246  ffad184c89ce039af8631437bb57cbf6             right   \n2247  ffb3056ff7d65ccc20863f4ef726bb2b              left   \n2248  ffcc655c22b6d8b96857db135b61b61a              left   \n2249  ffd89e81d6f6c783bfb72a4590db4304              left   \n\n     ideology_multiclass_x gender_x profession_x gender_y profession_y  \\\n0            moderate_left   female   politician   female   politician   \n1           moderate_right     male   journalist     male   journalist   \n2                     left     male   journalist     male   journalist   \n3           moderate_right   female   journalist     male    celebrity   \n4            moderate_left   female   politician   female   politician   \n...                    ...      ...          ...      ...          ...   \n2245         moderate_left   female   journalist     male   journalist   \n2246         moderate_left   female   politician     male   politician   \n2247         moderate_left   female   journalist     male   journalist   \n2248         moderate_left   female   journalist   female   journalist   \n2249         moderate_left     male   politician     male   politician   \n\n     ideology_binary_y ideology_multiclass_y  \n0                 left                  left  \n1                 left                  left  \n2                 left                  left  \n3                right                 right  \n4                 left         moderate_left  \n...                ...                   ...  \n2245              left         moderate_left  \n2246              left         moderate_left  \n2247              left         moderate_left  \n2248             right        moderate_right  \n2249              left                  left  \n\n[2250 rows x 9 columns]",
      "text/html": "<div>\n<style scoped>\n    .dataframe tbody tr th:only-of-type {\n        vertical-align: middle;\n    }\n\n    .dataframe tbody tr th {\n        vertical-align: top;\n    }\n\n    .dataframe thead th {\n        text-align: right;\n    }\n</style>\n<table border=\"1\" class=\"dataframe\">\n  <thead>\n    <tr style=\"text-align: right;\">\n      <th></th>\n      <th>label</th>\n      <th>ideology_binary_x</th>\n      <th>ideology_multiclass_x</th>\n      <th>gender_x</th>\n      <th>profession_x</th>\n      <th>gender_y</th>\n      <th>profession_y</th>\n      <th>ideology_binary_y</th>\n      <th>ideology_multiclass_y</th>\n    </tr>\n  </thead>\n  <tbody>\n    <tr>\n      <th>0</th>\n      <td>0008c4fab9e97623a60380ee9c88cb20</td>\n      <td>left</td>\n      <td>moderate_left</td>\n      <td>female</td>\n      <td>politician</td>\n      <td>female</td>\n      <td>politician</td>\n      <td>left</td>\n      <td>left</td>\n    </tr>\n    <tr>\n      <th>1</th>\n      <td>00369358fac3b8d42845f82f0c3ececc</td>\n      <td>right</td>\n      <td>moderate_right</td>\n      <td>male</td>\n      <td>journalist</td>\n      <td>male</td>\n      <td>journalist</td>\n      <td>left</td>\n      <td>left</td>\n    </tr>\n    <tr>\n      <th>2</th>\n      <td>00483c4cd74379bc24034ae4085f852e</td>\n      <td>left</td>\n      <td>left</td>\n      <td>male</td>\n      <td>journalist</td>\n      <td>male</td>\n      <td>journalist</td>\n      <td>left</td>\n      <td>left</td>\n    </tr>\n    <tr>\n      <th>3</th>\n      <td>00584645548f8443d0aad9f6c1a61f52</td>\n      <td>right</td>\n      <td>moderate_right</td>\n      <td>female</td>\n      <td>journalist</td>\n      <td>male</td>\n      <td>celebrity</td>\n      <td>right</td>\n      <td>right</td>\n    </tr>\n    <tr>\n      <th>4</th>\n      <td>00778970ef0702316f52d047e10b0fa1</td>\n      <td>left</td>\n      <td>moderate_left</td>\n      <td>female</td>\n      <td>politician</td>\n      <td>female</td>\n      <td>politician</td>\n      <td>left</td>\n      <td>moderate_left</td>\n    </tr>\n    <tr>\n      <th>...</th>\n      <td>...</td>\n      <td>...</td>\n      <td>...</td>\n      <td>...</td>\n      <td>...</td>\n      <td>...</td>\n      <td>...</td>\n      <td>...</td>\n      <td>...</td>\n    </tr>\n    <tr>\n      <th>2245</th>\n      <td>ff6c5eee26b2d5eb77198bad4a7d5183</td>\n      <td>left</td>\n      <td>moderate_left</td>\n      <td>female</td>\n      <td>journalist</td>\n      <td>male</td>\n      <td>journalist</td>\n      <td>left</td>\n      <td>moderate_left</td>\n    </tr>\n    <tr>\n      <th>2246</th>\n      <td>ffad184c89ce039af8631437bb57cbf6</td>\n      <td>right</td>\n      <td>moderate_left</td>\n      <td>female</td>\n      <td>politician</td>\n      <td>male</td>\n      <td>politician</td>\n      <td>left</td>\n      <td>moderate_left</td>\n    </tr>\n    <tr>\n      <th>2247</th>\n      <td>ffb3056ff7d65ccc20863f4ef726bb2b</td>\n      <td>left</td>\n      <td>moderate_left</td>\n      <td>female</td>\n      <td>journalist</td>\n      <td>male</td>\n      <td>journalist</td>\n      <td>left</td>\n      <td>moderate_left</td>\n    </tr>\n    <tr>\n      <th>2248</th>\n      <td>ffcc655c22b6d8b96857db135b61b61a</td>\n      <td>left</td>\n      <td>moderate_left</td>\n      <td>female</td>\n      <td>journalist</td>\n      <td>female</td>\n      <td>journalist</td>\n      <td>right</td>\n      <td>moderate_right</td>\n    </tr>\n    <tr>\n      <th>2249</th>\n      <td>ffd89e81d6f6c783bfb72a4590db4304</td>\n      <td>left</td>\n      <td>moderate_left</td>\n      <td>male</td>\n      <td>politician</td>\n      <td>male</td>\n      <td>politician</td>\n      <td>left</td>\n      <td>left</td>\n    </tr>\n  </tbody>\n</table>\n<p>2250 rows × 9 columns</p>\n</div>"
     },
     "execution_count": 37,
     "metadata": {},
     "output_type": "execute_result"
    }
   ],
   "source": [
    "comparison_df = pd.merge(output_df, df, how='right', on='label')\n",
    "comparison_df"
   ],
   "metadata": {
    "collapsed": false,
    "ExecuteTime": {
     "end_time": "2023-06-03T20:28:56.662834300Z",
     "start_time": "2023-06-03T20:28:56.648648600Z"
    }
   }
  },
  {
   "cell_type": "code",
   "execution_count": 56,
   "outputs": [
    {
     "data": {
      "text/plain": "Predicted      left     right\nReal                         \nleft       0.484000  0.073778\nright      0.117778  0.324444",
      "text/html": "<div>\n<style scoped>\n    .dataframe tbody tr th:only-of-type {\n        vertical-align: middle;\n    }\n\n    .dataframe tbody tr th {\n        vertical-align: top;\n    }\n\n    .dataframe thead th {\n        text-align: right;\n    }\n</style>\n<table border=\"1\" class=\"dataframe\">\n  <thead>\n    <tr style=\"text-align: right;\">\n      <th>Predicted</th>\n      <th>left</th>\n      <th>right</th>\n    </tr>\n    <tr>\n      <th>Real</th>\n      <th></th>\n      <th></th>\n    </tr>\n  </thead>\n  <tbody>\n    <tr>\n      <th>left</th>\n      <td>0.484000</td>\n      <td>0.073778</td>\n    </tr>\n    <tr>\n      <th>right</th>\n      <td>0.117778</td>\n      <td>0.324444</td>\n    </tr>\n  </tbody>\n</table>\n</div>"
     },
     "execution_count": 56,
     "metadata": {},
     "output_type": "execute_result"
    }
   ],
   "source": [
    "task = 'ideology_binary'\n",
    "cm = pd.crosstab(comparison_df[f'{task}_y'], comparison_df[f'{task}_x'], rownames=['Real'], colnames=['Predicted'], normalize=True)\n",
    "# cm = confusion_matrix(comparison_df[f'{task}_y'], comparison_df[f'{task}_x'], normalize = \"true\")\n",
    "cm"
   ],
   "metadata": {
    "collapsed": false,
    "ExecuteTime": {
     "end_time": "2023-06-03T20:39:11.202230200Z",
     "start_time": "2023-06-03T20:39:11.177527Z"
    }
   }
  },
  {
   "cell_type": "code",
   "execution_count": 57,
   "outputs": [
    {
     "data": {
      "text/plain": "<Figure size 640x480 with 2 Axes>",
      "image/png": "[encoded data removed]"
     },
     "metadata": {},
     "output_type": "display_data"
    }
   ],
   "source": [
    "sns.heatmap(cm, square = True, annot = True, fmt = \".2f\", cmap=\"viridis\")\n",
    "plt.title(f'{task}'.title(), pad=10)\n",
    "plt.savefig(f'images/our_test/{task}_confusion_matrix.png', dpi=500)"
   ],
   "metadata": {
    "collapsed": false,
    "ExecuteTime": {
     "end_time": "2023-06-03T20:39:12.326783100Z",
     "start_time": "2023-06-03T20:39:11.827572600Z"
    }
   }
  },
  {
   "cell_type": "markdown",
   "source": [
    "# Metrics"
   ],
   "metadata": {
    "collapsed": false
   }
  },
  {
   "cell_type": "code",
   "execution_count": 58,
   "outputs": [
    {
     "name": "stdout",
     "output_type": "stream",
     "text": [
      "              precision    recall  f1-score   support\n",
      "\n",
      "        left       0.80      0.87      0.83      1255\n",
      "       right       0.81      0.73      0.77       995\n",
      "\n",
      "    accuracy                           0.81      2250\n",
      "   macro avg       0.81      0.80      0.80      2250\n",
      "weighted avg       0.81      0.81      0.81      2250\n",
      "\n"
     ]
    }
   ],
   "source": [
    "print(classification_report(comparison_df[f'{task}_y'], comparison_df[f'{task}_x'], zero_division=0, output_dict=False))"
   ],
   "metadata": {
    "collapsed": false,
    "ExecuteTime": {
     "end_time": "2023-06-03T20:39:13.921136200Z",
     "start_time": "2023-06-03T20:39:13.856157600Z"
    }
   }
  },
  {
   "cell_type": "code",
   "execution_count": null,
   "outputs": [],
   "source": [],
   "metadata": {
    "collapsed": false
   }
  }
 ],
 "metadata": {
  "kernelspec": {
   "display_name": "Python 3",
   "language": "python",
   "name": "python3"
  },
  "language_info": {
   "codemirror_mode": {
    "name": "ipython",
    "version": 2
   },
   "file_extension": ".py",
   "mimetype": "text/x-python",
   "name": "python",
   "nbconvert_exporter": "python",
   "pygments_lexer": "ipython2",
   "version": "2.7.6"
  }
 },
 "nbformat": 4,
 "nbformat_minor": 0
}

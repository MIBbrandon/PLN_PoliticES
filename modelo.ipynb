{
 "cells": [
  {
   "cell_type": "markdown",
   "source": [
    "# Politic_ES\n",
    "\n",
    "Creación del modelo"
   ],
   "metadata": {
    "collapsed": false
   }
  },
  {
   "cell_type": "code",
   "execution_count": 41,
   "outputs": [],
   "source": [
    "# %matplotlib ipympl"
   ],
   "metadata": {
    "collapsed": false,
    "ExecuteTime": {
     "end_time": "2023-04-29T23:39:26.110503500Z",
     "start_time": "2023-04-29T23:39:26.095076700Z"
    }
   }
  },
  {
   "cell_type": "code",
   "execution_count": 96,
   "outputs": [],
   "source": [
    "import copy\n",
    "import os\n",
    "from pathlib import Path\n",
    "import pandas as pd\n",
    "import numpy as np\n",
    "import torch\n",
    "import re\n",
    "import seaborn as sns\n",
    "import matplotlib.pyplot as plt\n",
    "from sklearn.model_selection import train_test_split\n",
    "from spacy.lang.es import Spanish\n",
    "from time import time\n",
    "from pandas import DataFrame, Series\n",
    "from enum import Enum\n",
    "import nltk\n",
    "\n",
    "from transformers import AutoTokenizer\n",
    "from transformers import AutoModelForSequenceClassification\n",
    "from transformers import TrainingArguments\n",
    "from transformers import Trainer\n",
    "from transformers import IntervalStrategy, EarlyStoppingCallback\n",
    "from transformers import TextClassificationPipeline\n",
    "from sklearn.metrics import f1_score, classification_report, precision_recall_fscore_support, accuracy_score\n",
    "\n",
    "from datasets import Dataset, load_dataset\n",
    "\n",
    "from tqdm import tqdm"
   ],
   "metadata": {
    "collapsed": false,
    "ExecuteTime": {
     "end_time": "2023-04-30T10:44:12.127667500Z",
     "start_time": "2023-04-30T10:44:12.112052400Z"
    }
   }
  },
  {
   "cell_type": "code",
   "execution_count": 3,
   "outputs": [],
   "source": [
    "# os.environ[\"PYTORCH_CUDA_ALLOC_CONF\"] = \"max_split_size_mb:512\"\n",
    "torch.cuda.empty_cache()"
   ],
   "metadata": {
    "collapsed": false,
    "ExecuteTime": {
     "end_time": "2023-04-30T09:35:08.355430100Z",
     "start_time": "2023-04-30T09:35:08.336774800Z"
    }
   }
  },
  {
   "cell_type": "code",
   "execution_count": 4,
   "outputs": [
    {
     "data": {
      "text/plain": "0"
     },
     "execution_count": 4,
     "metadata": {},
     "output_type": "execute_result"
    }
   ],
   "source": [
    "t = torch.cuda.get_device_properties(0).total_memory\n",
    "r = torch.cuda.memory_reserved(0)\n",
    "a = torch.cuda.memory_allocated(0)\n",
    "f = r-a  # free inside reserved\n",
    "f"
   ],
   "metadata": {
    "collapsed": false,
    "ExecuteTime": {
     "end_time": "2023-04-30T09:35:13.495855900Z",
     "start_time": "2023-04-30T09:35:09.036403200Z"
    }
   }
  },
  {
   "cell_type": "code",
   "execution_count": 27,
   "outputs": [],
   "source": [
    "class ClassifyingTask(Enum):\n",
    "    def __str__(self):\n",
    "        return str(self.value)\n",
    "\n",
    "    IDEO_BIN = 'ideology_binary'\n",
    "    IDEO_MUL = 'ideology_multiclass'\n",
    "    GENDER = 'gender'\n",
    "    PROFESSION = 'profession'\n",
    "\n",
    "\n",
    "    # # Testing\n",
    "    # SENTIMENT = 'sentiment'\n",
    "\n",
    "\n",
    "task = ClassifyingTask.PROFESSION.value"
   ],
   "metadata": {
    "collapsed": false,
    "ExecuteTime": {
     "end_time": "2023-04-30T09:37:16.354721900Z",
     "start_time": "2023-04-30T09:37:16.317516500Z"
    }
   }
  },
  {
   "cell_type": "code",
   "execution_count": 6,
   "outputs": [],
   "source": [
    "read_df: DataFrame\n",
    "if ClassifyingTask(task) in [ClassifyingTask.IDEO_BIN, ClassifyingTask.IDEO_MUL, ClassifyingTask.GENDER, ClassifyingTask.PROFESSION]:\n",
    "    read_df = pd.read_csv(Path('practise_data/politicES_phase_2_train_public.csv'))\n",
    "    # read_df = read_df.groupby(['label', 'gender', 'profession', 'ideology_binary', 'ideology_multiclass'], as_index=False).agg({'tweet': ''.join})\n",
    "\n",
    "elif ClassifyingTask(task) in [ClassifyingTask.SENTIMENT]:\n",
    "    sentiment_path = Path('practise_data/sentiment')\n",
    "\n",
    "    # Train\n",
    "    df_train = pd.DataFrame()\n",
    "    df_train['text'] = pd.read_csv(sentiment_path / 'train_text.txt', sep='\\t')\n",
    "    df_train[task] = pd.read_csv(sentiment_path / 'train_labels.txt', sep='\\t')\n",
    "\n",
    "    # Validation\n",
    "    df_eval = pd.DataFrame()\n",
    "    df_eval['text'] = pd.read_csv(sentiment_path / 'val_text.txt', sep='\\t')\n",
    "    df_eval[task] = pd.read_csv(sentiment_path / 'val_labels.txt', sep='\\t')\n",
    "\n",
    "    # Test\n",
    "    df_test = pd.DataFrame()\n",
    "    df_test['text'] = pd.read_csv(sentiment_path / 'test_text.txt', sep='\\t')\n",
    "    df_test[task] = pd.read_csv(sentiment_path / 'test_labels.txt', sep='\\t')\n",
    "\n",
    "else:\n",
    "    raise NotImplementedError"
   ],
   "metadata": {
    "collapsed": false,
    "ExecuteTime": {
     "end_time": "2023-04-30T09:35:14.484477Z",
     "start_time": "2023-04-30T09:35:13.514465400Z"
    }
   }
  },
  {
   "cell_type": "code",
   "execution_count": 7,
   "outputs": [
    {
     "data": {
      "text/plain": "                                              label  gender  profession  \\\nprofession                                                                \ncelebrity  24315   2206a609406ec61b77ecb9bab9e67879    male   celebrity   \n           24004   2184915e947040ca9b6d4fe076d8bcda  female   celebrity   \n           51374   4abff7ca77a2fc2ea3ee24f5f1232371    male   celebrity   \n           49085   484cb9980c91415a19fb081c7f1633dd    male   celebrity   \n           81312   79dd9fa92c8b78a4fcb7c97e1505cfcf    male   celebrity   \n...                                             ...     ...         ...   \npolitician 141455  cb27bb50c60cf653390374aab46c98bb    male  politician   \n           159355  e4179a03a9f37ccb28f12644c983fe56    male  politician   \n           18754   1bbc976d94bfc296195176281f4dd4c3    male  politician   \n           140029  c9857ab0a9604df44deb7f4e205dccb8    male  politician   \n           178670  fdf020bc10ce6c9f24474bcf322d4423    male  politician   \n\n                  ideology_binary ideology_multiclass  \\\nprofession                                              \ncelebrity  24315             left       moderate_left   \n           24004            right      moderate_right   \n           51374             left       moderate_left   \n           49085             left       moderate_left   \n           81312            right               right   \n...                           ...                 ...   \npolitician 141455           right      moderate_right   \n           159355           right      moderate_right   \n           18754             left       moderate_left   \n           140029           right               right   \n           178670            left                left   \n\n                                                               tweet  \nprofession                                                            \ncelebrity  24315   …inestable, inconsecuente, presa d todas sus c...  \n           24004   ✌️ Insisto: si @user i @user se hacen docuseri...  \n           51374   Gracias, @user  para mí eres muy importante. T...  \n           49085   Ya está disponible el nuevo @user donde hablam...  \n           81312   @user Él sí q es un peligro para la democracia...  \n...                                                              ...  \npolitician 141455  📲Hoy estaremos en @user analizando la actualid...  \n           159355  @user Encantado. ¿Me facilita su teléfono por ...  \n           18754   El problema global del medio ambiente puede co...  \n           140029  El [POLITICAL_PARTY] se niega a derogar la Ley...  \n           178670  @user Que la comunidad internacional tiene dob...  \n\n[180000 rows x 6 columns]",
      "text/html": "<div>\n<style scoped>\n    .dataframe tbody tr th:only-of-type {\n        vertical-align: middle;\n    }\n\n    .dataframe tbody tr th {\n        vertical-align: top;\n    }\n\n    .dataframe thead th {\n        text-align: right;\n    }\n</style>\n<table border=\"1\" class=\"dataframe\">\n  <thead>\n    <tr style=\"text-align: right;\">\n      <th></th>\n      <th></th>\n      <th>label</th>\n      <th>gender</th>\n      <th>profession</th>\n      <th>ideology_binary</th>\n      <th>ideology_multiclass</th>\n      <th>tweet</th>\n    </tr>\n    <tr>\n      <th>profession</th>\n      <th></th>\n      <th></th>\n      <th></th>\n      <th></th>\n      <th></th>\n      <th></th>\n      <th></th>\n    </tr>\n  </thead>\n  <tbody>\n    <tr>\n      <th rowspan=\"5\" valign=\"top\">celebrity</th>\n      <th>24315</th>\n      <td>2206a609406ec61b77ecb9bab9e67879</td>\n      <td>male</td>\n      <td>celebrity</td>\n      <td>left</td>\n      <td>moderate_left</td>\n      <td>…inestable, inconsecuente, presa d todas sus c...</td>\n    </tr>\n    <tr>\n      <th>24004</th>\n      <td>2184915e947040ca9b6d4fe076d8bcda</td>\n      <td>female</td>\n      <td>celebrity</td>\n      <td>right</td>\n      <td>moderate_right</td>\n      <td>✌️ Insisto: si @user i @user se hacen docuseri...</td>\n    </tr>\n    <tr>\n      <th>51374</th>\n      <td>4abff7ca77a2fc2ea3ee24f5f1232371</td>\n      <td>male</td>\n      <td>celebrity</td>\n      <td>left</td>\n      <td>moderate_left</td>\n      <td>Gracias, @user  para mí eres muy importante. T...</td>\n    </tr>\n    <tr>\n      <th>49085</th>\n      <td>484cb9980c91415a19fb081c7f1633dd</td>\n      <td>male</td>\n      <td>celebrity</td>\n      <td>left</td>\n      <td>moderate_left</td>\n      <td>Ya está disponible el nuevo @user donde hablam...</td>\n    </tr>\n    <tr>\n      <th>81312</th>\n      <td>79dd9fa92c8b78a4fcb7c97e1505cfcf</td>\n      <td>male</td>\n      <td>celebrity</td>\n      <td>right</td>\n      <td>right</td>\n      <td>@user Él sí q es un peligro para la democracia...</td>\n    </tr>\n    <tr>\n      <th>...</th>\n      <th>...</th>\n      <td>...</td>\n      <td>...</td>\n      <td>...</td>\n      <td>...</td>\n      <td>...</td>\n      <td>...</td>\n    </tr>\n    <tr>\n      <th rowspan=\"5\" valign=\"top\">politician</th>\n      <th>141455</th>\n      <td>cb27bb50c60cf653390374aab46c98bb</td>\n      <td>male</td>\n      <td>politician</td>\n      <td>right</td>\n      <td>moderate_right</td>\n      <td>📲Hoy estaremos en @user analizando la actualid...</td>\n    </tr>\n    <tr>\n      <th>159355</th>\n      <td>e4179a03a9f37ccb28f12644c983fe56</td>\n      <td>male</td>\n      <td>politician</td>\n      <td>right</td>\n      <td>moderate_right</td>\n      <td>@user Encantado. ¿Me facilita su teléfono por ...</td>\n    </tr>\n    <tr>\n      <th>18754</th>\n      <td>1bbc976d94bfc296195176281f4dd4c3</td>\n      <td>male</td>\n      <td>politician</td>\n      <td>left</td>\n      <td>moderate_left</td>\n      <td>El problema global del medio ambiente puede co...</td>\n    </tr>\n    <tr>\n      <th>140029</th>\n      <td>c9857ab0a9604df44deb7f4e205dccb8</td>\n      <td>male</td>\n      <td>politician</td>\n      <td>right</td>\n      <td>right</td>\n      <td>El [POLITICAL_PARTY] se niega a derogar la Ley...</td>\n    </tr>\n    <tr>\n      <th>178670</th>\n      <td>fdf020bc10ce6c9f24474bcf322d4423</td>\n      <td>male</td>\n      <td>politician</td>\n      <td>left</td>\n      <td>left</td>\n      <td>@user Que la comunidad internacional tiene dob...</td>\n    </tr>\n  </tbody>\n</table>\n<p>180000 rows × 6 columns</p>\n</div>"
     },
     "execution_count": 7,
     "metadata": {},
     "output_type": "execute_result"
    }
   ],
   "source": [
    "df = read_df.groupby(task).apply(lambda x: x.sample(frac=1))\n",
    "df"
   ],
   "metadata": {
    "collapsed": false,
    "ExecuteTime": {
     "end_time": "2023-04-30T09:35:20.327226200Z",
     "start_time": "2023-04-30T09:35:20.123120600Z"
    }
   }
  },
  {
   "cell_type": "code",
   "execution_count": 8,
   "outputs": [
    {
     "data": {
      "text/plain": "9040"
     },
     "execution_count": 8,
     "metadata": {},
     "output_type": "execute_result"
    }
   ],
   "source": [
    "classes_counts = df[task].value_counts()\n",
    "count_of_smallest = classes_counts.min()\n",
    "count_of_smallest"
   ],
   "metadata": {
    "collapsed": false,
    "ExecuteTime": {
     "end_time": "2023-04-30T09:35:20.792915400Z",
     "start_time": "2023-04-30T09:35:20.543953500Z"
    }
   }
  },
  {
   "cell_type": "code",
   "execution_count": 9,
   "outputs": [
    {
     "data": {
      "text/plain": "celebrity     9040\njournalist    9040\npolitician    9040\nName: profession, dtype: int64"
     },
     "execution_count": 9,
     "metadata": {},
     "output_type": "execute_result"
    }
   ],
   "source": [
    "df_by_class = [df[df[task] == unique_class] for unique_class in df[task].unique()]\n",
    "\n",
    "undersampled_df = pd.concat([x.sample(count_of_smallest) for x in df_by_class], axis=0)\n",
    "undersampled_df[task].value_counts()"
   ],
   "metadata": {
    "collapsed": false,
    "ExecuteTime": {
     "end_time": "2023-04-30T09:35:22.263325100Z",
     "start_time": "2023-04-30T09:35:22.153055600Z"
    }
   }
  },
  {
   "cell_type": "code",
   "execution_count": 10,
   "outputs": [
    {
     "data": {
      "text/plain": "journalist    110800\npolitician     60160\ncelebrity       9040\nName: profession, dtype: int64"
     },
     "execution_count": 10,
     "metadata": {},
     "output_type": "execute_result"
    }
   ],
   "source": [
    "df[task].value_counts()"
   ],
   "metadata": {
    "collapsed": false,
    "ExecuteTime": {
     "end_time": "2023-04-30T09:35:23.656179Z",
     "start_time": "2023-04-30T09:35:23.613006400Z"
    }
   }
  },
  {
   "cell_type": "code",
   "execution_count": 11,
   "outputs": [],
   "source": [
    "frac = 0.1\n",
    "\n",
    "# df = undersampled_df.sample(frac=frac)  # Equivalent to shuffle\n",
    "df = df.sample(frac=frac)  # Equivalent to shuffle"
   ],
   "metadata": {
    "collapsed": false,
    "ExecuteTime": {
     "end_time": "2023-04-30T09:35:26.011088700Z",
     "start_time": "2023-04-30T09:35:25.965700200Z"
    }
   }
  },
  {
   "cell_type": "code",
   "execution_count": 12,
   "outputs": [],
   "source": [
    "model_name: str =\"bert-base-multilingual-uncased\"  # cardiffnlp/twitter-xlm-roberta-base, xlm-roberta-base, xlm-roberta-large, bert-base-multilingual-uncased, ¿facebook/xlm-roberta-xxl?, ¡cardiffnlp/twitter-xlm-roberta-base-sentiment!\n",
    "tokenizer = AutoTokenizer.from_pretrained(model_name)"
   ],
   "metadata": {
    "collapsed": false,
    "ExecuteTime": {
     "end_time": "2023-04-30T09:35:34.977116200Z",
     "start_time": "2023-04-30T09:35:33.304012800Z"
    }
   }
  },
  {
   "cell_type": "code",
   "execution_count": 13,
   "outputs": [
    {
     "name": "stdout",
     "output_type": "stream",
     "text": [
      "How many people did Randy Steven Craft murder?\n"
     ]
    },
    {
     "data": {
      "text/plain": "{'input_ids': [101, 12548, 11260, 11227, 12266, 29841, 17953, 48406, 19428, 136, 102], 'token_type_ids': [0, 0, 0, 0, 0, 0, 0, 0, 0, 0, 0], 'attention_mask': [1, 1, 1, 1, 1, 1, 1, 1, 1, 1, 1]}"
     },
     "execution_count": 13,
     "metadata": {},
     "output_type": "execute_result"
    }
   ],
   "source": [
    "sentence = \"How many people did Randy Steven Craft murder?\"\n",
    "print(sentence)\n",
    "tokenizer(sentence)"
   ],
   "metadata": {
    "collapsed": false,
    "ExecuteTime": {
     "end_time": "2023-04-30T09:35:34.979122700Z",
     "start_time": "2023-04-30T09:35:34.937877400Z"
    }
   }
  },
  {
   "cell_type": "code",
   "execution_count": 14,
   "outputs": [],
   "source": [
    "# Set every column as a category\n",
    "# Set types\n",
    "for column in ['label', 'gender', 'profession', 'ideology_binary', 'ideology_multiclass']:\n",
    "    df[column] = df[column].astype ('category')"
   ],
   "metadata": {
    "collapsed": false,
    "ExecuteTime": {
     "end_time": "2023-04-30T09:35:35.026905300Z",
     "start_time": "2023-04-30T09:35:34.969812700Z"
    }
   }
  },
  {
   "cell_type": "code",
   "execution_count": 15,
   "outputs": [
    {
     "name": "stdout",
     "output_type": "stream",
     "text": [
      "4acf2293ccd7815565532700d21914c8    18\n",
      "6b0cbd8e00c1c6e2c27a7aa6fb123bc9    17\n",
      "231ed4ce7ed14cb38055426acd5d9747    17\n",
      "b21d6bcb39422349d9f3ceff3a49d97a    17\n",
      "e11fb93bf6feec71d81a8caf1bd36b5f    17\n",
      "                                    ..\n",
      "ca328738a9bde9b06d68784e76c98595     2\n",
      "cfc8beefbc8774e16275fb8e0c5775b4     2\n",
      "535b7ac18b93116611762b9c267f1916     1\n",
      "7afa97d01115a682e7a1793302455380     1\n",
      "aca31cd35236af4d561c70bbbd60eada     1\n",
      "Name: label, Length: 2250, dtype: int64\n"
     ]
    }
   ],
   "source": [
    "print(df['label'].value_counts())"
   ],
   "metadata": {
    "collapsed": false,
    "ExecuteTime": {
     "end_time": "2023-04-30T09:35:35.730193500Z",
     "start_time": "2023-04-30T09:35:35.651176500Z"
    }
   }
  },
  {
   "cell_type": "markdown",
   "source": [
    "Limpieza de los textos (principalmente eliminación de emojis, pero también la simplificación de los números)"
   ],
   "metadata": {
    "collapsed": false
   }
  },
  {
   "cell_type": "code",
   "execution_count": 134,
   "outputs": [
    {
     "data": {
      "text/plain": "                                     original_label  \\\nprofession                                            \njournalist 140140  c9b4c82ac42ba597af950044bac8801f   \npolitician 104560  99f6cb905f850b1a944f11a83b56f3b1   \njournalist 77105   732f91c944ec6f848fe19944fef4ba23   \npolitician 39384   3b455b15e6787b61ac69a684bdce92a1   \njournalist 160718  e5f614ab17fa138a4171e88a42e62c40   \n...                                             ...   \npolitician 132074  bfa38c347bf6bb98a76f78d57b0c402d   \n           172425  f5aa855b9c05dfd62826c90fe955a3b0   \njournalist 15654   16f6536ac4e4b2169282b6e25fca24c6   \n           79177   764596a8afa8f17e2f40885a0561a684   \n           151957  d98dc332cc875450a2c19963ec894776   \n\n                                                                text  gender  \\\nprofession                                                                     \njournalist 140140  El comité que ha investigado el asalto del Cap...    male   \npolitician 104560  ¿El Emérito quiere ocultar su delitos con su t...    male   \njournalist 77105   Me han traído un router, ha venido un técnico ...    male   \npolitician 39384   Asturias mantendrá el abono transporte a 30 eu...    male   \njournalist 160718  @user También me pareció absurdo eso, sí. Otra...    male   \n...                                                              ...     ...   \npolitician 132074  No entiendo por qué se llama la etapa de [HASH...  female   \n           172425  En la plaza, con la muestra 'Palabra de Cádiz'...    male   \njournalist 15654   @user O canónigos como el de Cajasur, un sinve...    male   \n           79177   ¿Sabéis el remedio cuando nunca aceptan tus di...    male   \n           151957  Ojo al último informe de la Guardia Civil sobr...  female   \n\n                   profession ideology_binary ideology_multiclass  num_chars  \\\nprofession                                                                     \njournalist 140140  journalist            left       moderate_left        208   \npolitician 104560  politician            left                left        279   \njournalist 77105   journalist            left       moderate_left        269   \npolitician 39384   politician            left       moderate_left         78   \njournalist 160718  journalist           right      moderate_right        195   \n...                       ...             ...                 ...        ...   \npolitician 132074  politician            left       moderate_left        145   \n           172425  politician            left                left        265   \njournalist 15654   journalist            left       moderate_left         54   \n           79177   journalist           right               right         75   \n           151957  journalist            left       moderate_left        210   \n\n                   num_tokens  \nprofession                     \njournalist 140140          43  \npolitician 104560          76  \njournalist 77105           71  \npolitician 39384           19  \njournalist 160718          53  \n...                       ...  \npolitician 132074          42  \n           172425          73  \njournalist 15654           20  \n           79177           24  \n           151957          46  \n\n[18000 rows x 8 columns]",
      "text/html": "<div>\n<style scoped>\n    .dataframe tbody tr th:only-of-type {\n        vertical-align: middle;\n    }\n\n    .dataframe tbody tr th {\n        vertical-align: top;\n    }\n\n    .dataframe thead th {\n        text-align: right;\n    }\n</style>\n<table border=\"1\" class=\"dataframe\">\n  <thead>\n    <tr style=\"text-align: right;\">\n      <th></th>\n      <th></th>\n      <th>original_label</th>\n      <th>text</th>\n      <th>gender</th>\n      <th>profession</th>\n      <th>ideology_binary</th>\n      <th>ideology_multiclass</th>\n      <th>num_chars</th>\n      <th>num_tokens</th>\n    </tr>\n    <tr>\n      <th>profession</th>\n      <th></th>\n      <th></th>\n      <th></th>\n      <th></th>\n      <th></th>\n      <th></th>\n      <th></th>\n      <th></th>\n      <th></th>\n    </tr>\n  </thead>\n  <tbody>\n    <tr>\n      <th>journalist</th>\n      <th>140140</th>\n      <td>c9b4c82ac42ba597af950044bac8801f</td>\n      <td>El comité que ha investigado el asalto del Cap...</td>\n      <td>male</td>\n      <td>journalist</td>\n      <td>left</td>\n      <td>moderate_left</td>\n      <td>208</td>\n      <td>43</td>\n    </tr>\n    <tr>\n      <th>politician</th>\n      <th>104560</th>\n      <td>99f6cb905f850b1a944f11a83b56f3b1</td>\n      <td>¿El Emérito quiere ocultar su delitos con su t...</td>\n      <td>male</td>\n      <td>politician</td>\n      <td>left</td>\n      <td>left</td>\n      <td>279</td>\n      <td>76</td>\n    </tr>\n    <tr>\n      <th>journalist</th>\n      <th>77105</th>\n      <td>732f91c944ec6f848fe19944fef4ba23</td>\n      <td>Me han traído un router, ha venido un técnico ...</td>\n      <td>male</td>\n      <td>journalist</td>\n      <td>left</td>\n      <td>moderate_left</td>\n      <td>269</td>\n      <td>71</td>\n    </tr>\n    <tr>\n      <th>politician</th>\n      <th>39384</th>\n      <td>3b455b15e6787b61ac69a684bdce92a1</td>\n      <td>Asturias mantendrá el abono transporte a 30 eu...</td>\n      <td>male</td>\n      <td>politician</td>\n      <td>left</td>\n      <td>moderate_left</td>\n      <td>78</td>\n      <td>19</td>\n    </tr>\n    <tr>\n      <th>journalist</th>\n      <th>160718</th>\n      <td>e5f614ab17fa138a4171e88a42e62c40</td>\n      <td>@user También me pareció absurdo eso, sí. Otra...</td>\n      <td>male</td>\n      <td>journalist</td>\n      <td>right</td>\n      <td>moderate_right</td>\n      <td>195</td>\n      <td>53</td>\n    </tr>\n    <tr>\n      <th>...</th>\n      <th>...</th>\n      <td>...</td>\n      <td>...</td>\n      <td>...</td>\n      <td>...</td>\n      <td>...</td>\n      <td>...</td>\n      <td>...</td>\n      <td>...</td>\n    </tr>\n    <tr>\n      <th rowspan=\"2\" valign=\"top\">politician</th>\n      <th>132074</th>\n      <td>bfa38c347bf6bb98a76f78d57b0c402d</td>\n      <td>No entiendo por qué se llama la etapa de [HASH...</td>\n      <td>female</td>\n      <td>politician</td>\n      <td>left</td>\n      <td>moderate_left</td>\n      <td>145</td>\n      <td>42</td>\n    </tr>\n    <tr>\n      <th>172425</th>\n      <td>f5aa855b9c05dfd62826c90fe955a3b0</td>\n      <td>En la plaza, con la muestra 'Palabra de Cádiz'...</td>\n      <td>male</td>\n      <td>politician</td>\n      <td>left</td>\n      <td>left</td>\n      <td>265</td>\n      <td>73</td>\n    </tr>\n    <tr>\n      <th rowspan=\"3\" valign=\"top\">journalist</th>\n      <th>15654</th>\n      <td>16f6536ac4e4b2169282b6e25fca24c6</td>\n      <td>@user O canónigos como el de Cajasur, un sinve...</td>\n      <td>male</td>\n      <td>journalist</td>\n      <td>left</td>\n      <td>moderate_left</td>\n      <td>54</td>\n      <td>20</td>\n    </tr>\n    <tr>\n      <th>79177</th>\n      <td>764596a8afa8f17e2f40885a0561a684</td>\n      <td>¿Sabéis el remedio cuando nunca aceptan tus di...</td>\n      <td>male</td>\n      <td>journalist</td>\n      <td>right</td>\n      <td>right</td>\n      <td>75</td>\n      <td>24</td>\n    </tr>\n    <tr>\n      <th>151957</th>\n      <td>d98dc332cc875450a2c19963ec894776</td>\n      <td>Ojo al último informe de la Guardia Civil sobr...</td>\n      <td>female</td>\n      <td>journalist</td>\n      <td>left</td>\n      <td>moderate_left</td>\n      <td>210</td>\n      <td>46</td>\n    </tr>\n  </tbody>\n</table>\n<p>18000 rows × 8 columns</p>\n</div>"
     },
     "execution_count": 134,
     "metadata": {},
     "output_type": "execute_result"
    }
   ],
   "source": [
    "def remove_emojis(data):\n",
    "    emoj = re.compile(\"[\"\n",
    "        u\"\\U0001F600-\\U0001F64F\"  # emoticons\n",
    "        u\"\\U0001F300-\\U0001F5FF\"  # symbols & pictographs\n",
    "        u\"\\U0001F680-\\U0001F6FF\"  # transport & map symbols\n",
    "        u\"\\U0001F1E0-\\U0001F1FF\"  # flags (iOS)\n",
    "        u\"\\U00002500-\\U00002BEF\"  # chinese char\n",
    "        u\"\\U00002702-\\U000027B0\"\n",
    "        u\"\\U00002702-\\U000027B0\"\n",
    "        u\"\\U000024C2-\\U0001F251\"\n",
    "        u\"\\U0001f926-\\U0001f937\"\n",
    "        u\"\\U00010000-\\U0010ffff\"\n",
    "        u\"\\u2640-\\u2642\"\n",
    "        u\"\\u2600-\\u2B55\"\n",
    "        u\"\\u200d\"\n",
    "        u\"\\u23cf\"\n",
    "        u\"\\u23e9\"\n",
    "        u\"\\u231a\"\n",
    "        u\"\\ufe0f\"  # dingbats\n",
    "        u\"\\u3030\"\n",
    "                      \"]+\", re.UNICODE)\n",
    "    return re.sub(emoj, '', data)\n",
    "\n",
    "spanish_tokenizer = Spanish()\n",
    "\n",
    "# nltk.download('stopwords')\n",
    "# spanish_stopwords = nltk.corpus.stopwords.words('spanish')\n",
    "\n",
    "def spanish(data):\n",
    "    return ''.join([token.text_with_ws for token in spanish_tokenizer(data)])\n",
    "\n",
    "prev_column_names = ['label', 'tweet', 'gender', 'profession', 'ideology_binary', 'ideology_multiclass']\n",
    "\n",
    "\n",
    "df_clean = df[prev_column_names].rename(columns={'tweet': 'text', 'label': 'original_label'})\n",
    "df_clean['text'] = df_clean['text'].apply(remove_emojis).apply(spanish)\n",
    "df_clean['num_chars'] = df_clean.apply(lambda row: len(row['text']), axis=1)\n",
    "df_clean['num_tokens'] = df_clean.apply(lambda row: len(tokenizer(row['text'])['input_ids']), axis=1)\n",
    "\n",
    "basic_column_names = ['original_label', 'text', 'gender', 'profession', 'ideology_binary', 'ideology_multiclass', 'num_chars', 'num_tokens']\n",
    "\n",
    "df_clean"
   ],
   "metadata": {
    "collapsed": false,
    "ExecuteTime": {
     "end_time": "2023-04-30T11:15:17.034267100Z",
     "start_time": "2023-04-30T11:15:11.267067700Z"
    }
   }
  },
  {
   "cell_type": "code",
   "execution_count": 135,
   "outputs": [
    {
     "data": {
      "text/plain": "129"
     },
     "execution_count": 135,
     "metadata": {},
     "output_type": "execute_result"
    }
   ],
   "source": [
    "MAX_LENGTH = df_clean['num_tokens'].max()\n",
    "MAX_LENGTH"
   ],
   "metadata": {
    "collapsed": false,
    "ExecuteTime": {
     "end_time": "2023-04-30T11:15:17.065560200Z",
     "start_time": "2023-04-30T11:15:17.034267100Z"
    }
   }
  },
  {
   "cell_type": "markdown",
   "source": [
    "# Separación en train y test"
   ],
   "metadata": {
    "collapsed": false
   }
  },
  {
   "cell_type": "code",
   "execution_count": 136,
   "outputs": [],
   "source": [
    "from typing import List\n",
    "\n",
    "\n",
    "def get_tokenizer_extra_columns(model_name: str) -> List[str]:\n",
    "    return ['input_ids', 'token_type_ids', 'attention_mask'] if not \"xlm-roberta\" in model_name else ['input_ids', 'attention_mask']"
   ],
   "metadata": {
    "collapsed": false,
    "ExecuteTime": {
     "end_time": "2023-04-30T11:15:17.096998400Z",
     "start_time": "2023-04-30T11:15:17.049883100Z"
    }
   }
  },
  {
   "cell_type": "code",
   "execution_count": 142,
   "outputs": [],
   "source": [
    "# Separamos en training y en test\n",
    "parte_eval = 0.15\n",
    "parte_test = 0.15\n",
    "\n",
    "len_df = len(df)\n",
    "punto_eval = int(parte_eval * len_df)\n",
    "punto_test = int((parte_eval + parte_test) * len_df)\n",
    "\n",
    "df_train: DataFrame\n",
    "df_eval: DataFrame\n",
    "df_test: DataFrame\n",
    "df_eval, df_test, df_train = df_clean.iloc[:punto_eval], df_clean.iloc[punto_eval:punto_test], df_clean.iloc[punto_test:]"
   ],
   "metadata": {
    "collapsed": false,
    "ExecuteTime": {
     "end_time": "2023-04-30T11:15:31.118576Z",
     "start_time": "2023-04-30T11:15:31.099434900Z"
    }
   }
  },
  {
   "cell_type": "code",
   "execution_count": 143,
   "outputs": [],
   "source": [
    "def tokker(x):\n",
    "    if \"xlm-roberta\" in model_name:\n",
    "        res = tokenizer(x['text'], padding=\"max_length\", truncation=True, max_length=MAX_LENGTH)\n",
    "        input_ids, attention_mask = res['input_ids'], res['attention_mask']\n",
    "        return Series(data=(*[col for col in x], input_ids, attention_mask), index = basic_column_names + get_tokenizer_extra_columns(model_name))\n",
    "    else:\n",
    "        res = tokenizer(x['text'], padding=\"max_length\", truncation=True, max_length=MAX_LENGTH)\n",
    "        input_ids, token_type_ids, attention_mask = res['input_ids'], res['token_type_ids'], res['attention_mask']\n",
    "        return Series(data=(*[col for col in x], input_ids, token_type_ids, attention_mask), index = basic_column_names + get_tokenizer_extra_columns(model_name))"
   ],
   "metadata": {
    "collapsed": false,
    "ExecuteTime": {
     "end_time": "2023-04-30T11:15:31.384970800Z",
     "start_time": "2023-04-30T11:15:31.369344500Z"
    }
   }
  },
  {
   "cell_type": "code",
   "execution_count": 144,
   "outputs": [
    {
     "data": {
      "text/plain": "                                     original_label  \\\nprofession                                            \njournalist 99843   92a3f751e8d866f816a0b2e73c56ebdc   \npolitician 115242  a81281e5aeaceb467650a638f4581246   \njournalist 107376  9d2e209ca895abdac0ef213642e8979b   \n           43350   404d9c7842520b032f85133bb35a7662   \n           130046  bc9e7a55ce2669390f12e7dbaac52410   \n...                                             ...   \npolitician 132074  bfa38c347bf6bb98a76f78d57b0c402d   \n           172425  f5aa855b9c05dfd62826c90fe955a3b0   \njournalist 15654   16f6536ac4e4b2169282b6e25fca24c6   \n           79177   764596a8afa8f17e2f40885a0561a684   \n           151957  d98dc332cc875450a2c19963ec894776   \n\n                                                                text  gender  \\\nprofession                                                                     \njournalist 99843   @user ¿Estamos seguros de que es por acumulaci...  female   \npolitician 115242  Buenas noches a todos menos a los que suelen e...  female   \njournalist 107376  @user No es cuestión solo de festivales, por m...    male   \n           43350   La viñeta de hoy de @user pronto será realidad...    male   \n           130046  ¡Cien corridas! ¡Enhorabuena y gracias por tod...    male   \n...                                                              ...     ...   \npolitician 132074  No entiendo por qué se llama la etapa de [HASH...  female   \n           172425  En la plaza, con la muestra 'Palabra de Cádiz'...    male   \njournalist 15654   @user O canónigos como el de Cajasur, un sinve...    male   \n           79177   ¿Sabéis el remedio cuando nunca aceptan tus di...    male   \n           151957  Ojo al último informe de la Guardia Civil sobr...  female   \n\n                   profession ideology_binary ideology_multiclass  num_chars  \\\nprofession                                                                     \njournalist 99843   journalist            left       moderate_left        211   \npolitician 115242  politician           right               right         87   \njournalist 107376  journalist            left       moderate_left        205   \n           43350   journalist           right      moderate_right        167   \n           130046  journalist           right               right        183   \n...                       ...             ...                 ...        ...   \npolitician 132074  politician            left       moderate_left        145   \n           172425  politician            left                left        265   \njournalist 15654   journalist            left       moderate_left         54   \n           79177   journalist           right               right         75   \n           151957  journalist            left       moderate_left        210   \n\n                   num_tokens  \\\nprofession                      \njournalist 99843           56   \npolitician 115242          27   \njournalist 107376          60   \n           43350           47   \n           130046          49   \n...                       ...   \npolitician 132074          42   \n           172425          73   \njournalist 15654           20   \n           79177           24   \n           151957          46   \n\n                                                           input_ids  \\\nprofession                                                             \njournalist 99843   [101, 137, 24934, 200, 10602, 14000, 65099, 10...   \npolitician 115242  [101, 84542, 25605, 10107, 143, 12556, 14594, ...   \njournalist 107376  [101, 137, 24934, 10181, 10153, 61977, 11174, ...   \n           43350   [101, 10106, 63352, 10211, 10102, 21150, 10102...   \n           130046  [101, 173, 66901, 64949, 10107, 106, 173, 1010...   \n...                                                              ...   \npolitician 132074  [101, 10181, 28960, 19676, 10190, 10126, 10128...   \n           172425  [101, 10109, 10106, 15133, 117, 10173, 10106, ...   \njournalist 15654   [101, 137, 24934, 157, 20585, 30186, 10107, 10...   \n           79177   [101, 200, 33899, 10310, 10117, 60288, 37798, ...   \n           151957  [101, 41576, 10161, 13246, 39514, 10102, 10106...   \n\n                                                      token_type_ids  \\\nprofession                                                             \njournalist 99843   [0, 0, 0, 0, 0, 0, 0, 0, 0, 0, 0, 0, 0, 0, 0, ...   \npolitician 115242  [0, 0, 0, 0, 0, 0, 0, 0, 0, 0, 0, 0, 0, 0, 0, ...   \njournalist 107376  [0, 0, 0, 0, 0, 0, 0, 0, 0, 0, 0, 0, 0, 0, 0, ...   \n           43350   [0, 0, 0, 0, 0, 0, 0, 0, 0, 0, 0, 0, 0, 0, 0, ...   \n           130046  [0, 0, 0, 0, 0, 0, 0, 0, 0, 0, 0, 0, 0, 0, 0, ...   \n...                                                              ...   \npolitician 132074  [0, 0, 0, 0, 0, 0, 0, 0, 0, 0, 0, 0, 0, 0, 0, ...   \n           172425  [0, 0, 0, 0, 0, 0, 0, 0, 0, 0, 0, 0, 0, 0, 0, ...   \njournalist 15654   [0, 0, 0, 0, 0, 0, 0, 0, 0, 0, 0, 0, 0, 0, 0, ...   \n           79177   [0, 0, 0, 0, 0, 0, 0, 0, 0, 0, 0, 0, 0, 0, 0, ...   \n           151957  [0, 0, 0, 0, 0, 0, 0, 0, 0, 0, 0, 0, 0, 0, 0, ...   \n\n                                                      attention_mask  \nprofession                                                            \njournalist 99843   [1, 1, 1, 1, 1, 1, 1, 1, 1, 1, 1, 1, 1, 1, 1, ...  \npolitician 115242  [1, 1, 1, 1, 1, 1, 1, 1, 1, 1, 1, 1, 1, 1, 1, ...  \njournalist 107376  [1, 1, 1, 1, 1, 1, 1, 1, 1, 1, 1, 1, 1, 1, 1, ...  \n           43350   [1, 1, 1, 1, 1, 1, 1, 1, 1, 1, 1, 1, 1, 1, 1, ...  \n           130046  [1, 1, 1, 1, 1, 1, 1, 1, 1, 1, 1, 1, 1, 1, 1, ...  \n...                                                              ...  \npolitician 132074  [1, 1, 1, 1, 1, 1, 1, 1, 1, 1, 1, 1, 1, 1, 1, ...  \n           172425  [1, 1, 1, 1, 1, 1, 1, 1, 1, 1, 1, 1, 1, 1, 1, ...  \njournalist 15654   [1, 1, 1, 1, 1, 1, 1, 1, 1, 1, 1, 1, 1, 1, 1, ...  \n           79177   [1, 1, 1, 1, 1, 1, 1, 1, 1, 1, 1, 1, 1, 1, 1, ...  \n           151957  [1, 1, 1, 1, 1, 1, 1, 1, 1, 1, 1, 1, 1, 1, 1, ...  \n\n[12600 rows x 11 columns]",
      "text/html": "<div>\n<style scoped>\n    .dataframe tbody tr th:only-of-type {\n        vertical-align: middle;\n    }\n\n    .dataframe tbody tr th {\n        vertical-align: top;\n    }\n\n    .dataframe thead th {\n        text-align: right;\n    }\n</style>\n<table border=\"1\" class=\"dataframe\">\n  <thead>\n    <tr style=\"text-align: right;\">\n      <th></th>\n      <th></th>\n      <th>original_label</th>\n      <th>text</th>\n      <th>gender</th>\n      <th>profession</th>\n      <th>ideology_binary</th>\n      <th>ideology_multiclass</th>\n      <th>num_chars</th>\n      <th>num_tokens</th>\n      <th>input_ids</th>\n      <th>token_type_ids</th>\n      <th>attention_mask</th>\n    </tr>\n    <tr>\n      <th>profession</th>\n      <th></th>\n      <th></th>\n      <th></th>\n      <th></th>\n      <th></th>\n      <th></th>\n      <th></th>\n      <th></th>\n      <th></th>\n      <th></th>\n      <th></th>\n      <th></th>\n    </tr>\n  </thead>\n  <tbody>\n    <tr>\n      <th>journalist</th>\n      <th>99843</th>\n      <td>92a3f751e8d866f816a0b2e73c56ebdc</td>\n      <td>@user ¿Estamos seguros de que es por acumulaci...</td>\n      <td>female</td>\n      <td>journalist</td>\n      <td>left</td>\n      <td>moderate_left</td>\n      <td>211</td>\n      <td>56</td>\n      <td>[101, 137, 24934, 200, 10602, 14000, 65099, 10...</td>\n      <td>[0, 0, 0, 0, 0, 0, 0, 0, 0, 0, 0, 0, 0, 0, 0, ...</td>\n      <td>[1, 1, 1, 1, 1, 1, 1, 1, 1, 1, 1, 1, 1, 1, 1, ...</td>\n    </tr>\n    <tr>\n      <th>politician</th>\n      <th>115242</th>\n      <td>a81281e5aeaceb467650a638f4581246</td>\n      <td>Buenas noches a todos menos a los que suelen e...</td>\n      <td>female</td>\n      <td>politician</td>\n      <td>right</td>\n      <td>right</td>\n      <td>87</td>\n      <td>27</td>\n      <td>[101, 84542, 25605, 10107, 143, 12556, 14594, ...</td>\n      <td>[0, 0, 0, 0, 0, 0, 0, 0, 0, 0, 0, 0, 0, 0, 0, ...</td>\n      <td>[1, 1, 1, 1, 1, 1, 1, 1, 1, 1, 1, 1, 1, 1, 1, ...</td>\n    </tr>\n    <tr>\n      <th rowspan=\"3\" valign=\"top\">journalist</th>\n      <th>107376</th>\n      <td>9d2e209ca895abdac0ef213642e8979b</td>\n      <td>@user No es cuestión solo de festivales, por m...</td>\n      <td>male</td>\n      <td>journalist</td>\n      <td>left</td>\n      <td>moderate_left</td>\n      <td>205</td>\n      <td>60</td>\n      <td>[101, 137, 24934, 10181, 10153, 61977, 11174, ...</td>\n      <td>[0, 0, 0, 0, 0, 0, 0, 0, 0, 0, 0, 0, 0, 0, 0, ...</td>\n      <td>[1, 1, 1, 1, 1, 1, 1, 1, 1, 1, 1, 1, 1, 1, 1, ...</td>\n    </tr>\n    <tr>\n      <th>43350</th>\n      <td>404d9c7842520b032f85133bb35a7662</td>\n      <td>La viñeta de hoy de @user pronto será realidad...</td>\n      <td>male</td>\n      <td>journalist</td>\n      <td>right</td>\n      <td>moderate_right</td>\n      <td>167</td>\n      <td>47</td>\n      <td>[101, 10106, 63352, 10211, 10102, 21150, 10102...</td>\n      <td>[0, 0, 0, 0, 0, 0, 0, 0, 0, 0, 0, 0, 0, 0, 0, ...</td>\n      <td>[1, 1, 1, 1, 1, 1, 1, 1, 1, 1, 1, 1, 1, 1, 1, ...</td>\n    </tr>\n    <tr>\n      <th>130046</th>\n      <td>bc9e7a55ce2669390f12e7dbaac52410</td>\n      <td>¡Cien corridas! ¡Enhorabuena y gracias por tod...</td>\n      <td>male</td>\n      <td>journalist</td>\n      <td>right</td>\n      <td>right</td>\n      <td>183</td>\n      <td>49</td>\n      <td>[101, 173, 66901, 64949, 10107, 106, 173, 1010...</td>\n      <td>[0, 0, 0, 0, 0, 0, 0, 0, 0, 0, 0, 0, 0, 0, 0, ...</td>\n      <td>[1, 1, 1, 1, 1, 1, 1, 1, 1, 1, 1, 1, 1, 1, 1, ...</td>\n    </tr>\n    <tr>\n      <th>...</th>\n      <th>...</th>\n      <td>...</td>\n      <td>...</td>\n      <td>...</td>\n      <td>...</td>\n      <td>...</td>\n      <td>...</td>\n      <td>...</td>\n      <td>...</td>\n      <td>...</td>\n      <td>...</td>\n      <td>...</td>\n    </tr>\n    <tr>\n      <th rowspan=\"2\" valign=\"top\">politician</th>\n      <th>132074</th>\n      <td>bfa38c347bf6bb98a76f78d57b0c402d</td>\n      <td>No entiendo por qué se llama la etapa de [HASH...</td>\n      <td>female</td>\n      <td>politician</td>\n      <td>left</td>\n      <td>moderate_left</td>\n      <td>145</td>\n      <td>42</td>\n      <td>[101, 10181, 28960, 19676, 10190, 10126, 10128...</td>\n      <td>[0, 0, 0, 0, 0, 0, 0, 0, 0, 0, 0, 0, 0, 0, 0, ...</td>\n      <td>[1, 1, 1, 1, 1, 1, 1, 1, 1, 1, 1, 1, 1, 1, 1, ...</td>\n    </tr>\n    <tr>\n      <th>172425</th>\n      <td>f5aa855b9c05dfd62826c90fe955a3b0</td>\n      <td>En la plaza, con la muestra 'Palabra de Cádiz'...</td>\n      <td>male</td>\n      <td>politician</td>\n      <td>left</td>\n      <td>left</td>\n      <td>265</td>\n      <td>73</td>\n      <td>[101, 10109, 10106, 15133, 117, 10173, 10106, ...</td>\n      <td>[0, 0, 0, 0, 0, 0, 0, 0, 0, 0, 0, 0, 0, 0, 0, ...</td>\n      <td>[1, 1, 1, 1, 1, 1, 1, 1, 1, 1, 1, 1, 1, 1, 1, ...</td>\n    </tr>\n    <tr>\n      <th rowspan=\"3\" valign=\"top\">journalist</th>\n      <th>15654</th>\n      <td>16f6536ac4e4b2169282b6e25fca24c6</td>\n      <td>@user O canónigos como el de Cajasur, un sinve...</td>\n      <td>male</td>\n      <td>journalist</td>\n      <td>left</td>\n      <td>moderate_left</td>\n      <td>54</td>\n      <td>20</td>\n      <td>[101, 137, 24934, 157, 20585, 30186, 10107, 10...</td>\n      <td>[0, 0, 0, 0, 0, 0, 0, 0, 0, 0, 0, 0, 0, 0, 0, ...</td>\n      <td>[1, 1, 1, 1, 1, 1, 1, 1, 1, 1, 1, 1, 1, 1, 1, ...</td>\n    </tr>\n    <tr>\n      <th>79177</th>\n      <td>764596a8afa8f17e2f40885a0561a684</td>\n      <td>¿Sabéis el remedio cuando nunca aceptan tus di...</td>\n      <td>male</td>\n      <td>journalist</td>\n      <td>right</td>\n      <td>right</td>\n      <td>75</td>\n      <td>24</td>\n      <td>[101, 200, 33899, 10310, 10117, 60288, 37798, ...</td>\n      <td>[0, 0, 0, 0, 0, 0, 0, 0, 0, 0, 0, 0, 0, 0, 0, ...</td>\n      <td>[1, 1, 1, 1, 1, 1, 1, 1, 1, 1, 1, 1, 1, 1, 1, ...</td>\n    </tr>\n    <tr>\n      <th>151957</th>\n      <td>d98dc332cc875450a2c19963ec894776</td>\n      <td>Ojo al último informe de la Guardia Civil sobr...</td>\n      <td>female</td>\n      <td>journalist</td>\n      <td>left</td>\n      <td>moderate_left</td>\n      <td>210</td>\n      <td>46</td>\n      <td>[101, 41576, 10161, 13246, 39514, 10102, 10106...</td>\n      <td>[0, 0, 0, 0, 0, 0, 0, 0, 0, 0, 0, 0, 0, 0, 0, ...</td>\n      <td>[1, 1, 1, 1, 1, 1, 1, 1, 1, 1, 1, 1, 1, 1, 1, ...</td>\n    </tr>\n  </tbody>\n</table>\n<p>12600 rows × 11 columns</p>\n</div>"
     },
     "execution_count": 144,
     "metadata": {},
     "output_type": "execute_result"
    }
   ],
   "source": [
    "df_train = df_train.apply(tokker, axis=1, result_type='expand')\n",
    "df_train"
   ],
   "metadata": {
    "collapsed": false,
    "ExecuteTime": {
     "end_time": "2023-04-30T11:15:36.343806600Z",
     "start_time": "2023-04-30T11:15:31.695144900Z"
    }
   }
  },
  {
   "cell_type": "code",
   "execution_count": 23,
   "outputs": [
    {
     "data": {
      "text/plain": "                                              label  \\\nprofession                                            \njournalist 140140  c9b4c82ac42ba597af950044bac8801f   \npolitician 104560  99f6cb905f850b1a944f11a83b56f3b1   \njournalist 77105   732f91c944ec6f848fe19944fef4ba23   \npolitician 39384   3b455b15e6787b61ac69a684bdce92a1   \njournalist 160718  e5f614ab17fa138a4171e88a42e62c40   \n...                                             ...   \n           130140  bcbf5d6ff4082d747a9f95eab9877572   \n           146954  d2fd365758464bf40b1312dbdcc8508e   \npolitician 30215   2c5fdbb3582ee8294fed0e7dbd0d52bc   \njournalist 42874   3fece7d406218f6f6042b9e7b2bfd47c   \npolitician 58502   542cbbe7f1ad6723d517dd92da4e38de   \n\n                                                                text  gender  \\\nprofession                                                                     \njournalist 140140  El comité que ha investigado el asalto del Cap...    male   \npolitician 104560  ¿El Emérito quiere ocultar su delitos con su t...    male   \njournalist 77105   Me han traído un router, ha venido un técnico ...    male   \npolitician 39384   Asturias mantendrá el abono transporte a 30 eu...    male   \njournalist 160718  @user También me pareció absurdo eso, sí. Otra...    male   \n...                                                              ...     ...   \n           130140  @user La mejor selección de música en el mejor...  female   \n           146954  @user Años y años de pérdidas habrán merecido ...    male   \npolitician 30215   @user La giga factoría y el centro de investig...    male   \njournalist 42874   El BarMar será el mayor hidroducto del mundo, ...    male   \npolitician 58502   No imagino mejor lugar para celebrar el día de...  female   \n\n                   profession ideology_binary ideology_multiclass  num_chars  \\\nprofession                                                                     \njournalist 140140  journalist            left       moderate_left        208   \npolitician 104560  politician            left                left        279   \njournalist 77105   journalist            left       moderate_left        269   \npolitician 39384   politician            left       moderate_left         78   \njournalist 160718  journalist           right      moderate_right        195   \n...                       ...             ...                 ...        ...   \n           130140  journalist           right      moderate_right        125   \n           146954  journalist           right      moderate_right         54   \npolitician 30215   politician            left       moderate_left         87   \njournalist 42874   journalist            left       moderate_left        116   \npolitician 58502   politician           right      moderate_right        256   \n\n                   num_tokens  \\\nprofession                      \njournalist 140140          43   \npolitician 104560          76   \njournalist 77105           71   \npolitician 39384           19   \njournalist 160718          53   \n...                       ...   \n           130140          32   \n           146954          17   \npolitician 30215           23   \njournalist 42874           32   \npolitician 58502           59   \n\n                                                           input_ids  \\\nprofession                                                             \njournalist 140140  [101, 10117, 17532, 10126, 10240, 10104, 54093...   \npolitician 104560  [101, 200, 10117, 84017, 40720, 63644, 29707, ...   \njournalist 77105   [101, 10525, 10210, 18352, 10351, 10119, 12724...   \npolitician 39384   [101, 39830, 10564, 67792, 10281, 10117, 59520...   \njournalist 160718  [101, 137, 24934, 11382, 10525, 16226, 10973, ...   \n...                                                              ...   \n           130140  [101, 137, 24934, 10106, 16440, 22695, 10102, ...   \n           146954  [101, 137, 24934, 10850, 167, 10850, 10102, 42...   \npolitician 30215   [101, 137, 24934, 10106, 21464, 10547, 18482, ...   \njournalist 42874   [101, 10117, 13409, 15602, 13796, 10117, 12263...   \npolitician 58502   [101, 10181, 13860, 70049, 16440, 12267, 10239...   \n\n                                                      token_type_ids  \\\nprofession                                                             \njournalist 140140  [0, 0, 0, 0, 0, 0, 0, 0, 0, 0, 0, 0, 0, 0, 0, ...   \npolitician 104560  [0, 0, 0, 0, 0, 0, 0, 0, 0, 0, 0, 0, 0, 0, 0, ...   \njournalist 77105   [0, 0, 0, 0, 0, 0, 0, 0, 0, 0, 0, 0, 0, 0, 0, ...   \npolitician 39384   [0, 0, 0, 0, 0, 0, 0, 0, 0, 0, 0, 0, 0, 0, 0, ...   \njournalist 160718  [0, 0, 0, 0, 0, 0, 0, 0, 0, 0, 0, 0, 0, 0, 0, ...   \n...                                                              ...   \n           130140  [0, 0, 0, 0, 0, 0, 0, 0, 0, 0, 0, 0, 0, 0, 0, ...   \n           146954  [0, 0, 0, 0, 0, 0, 0, 0, 0, 0, 0, 0, 0, 0, 0, ...   \npolitician 30215   [0, 0, 0, 0, 0, 0, 0, 0, 0, 0, 0, 0, 0, 0, 0, ...   \njournalist 42874   [0, 0, 0, 0, 0, 0, 0, 0, 0, 0, 0, 0, 0, 0, 0, ...   \npolitician 58502   [0, 0, 0, 0, 0, 0, 0, 0, 0, 0, 0, 0, 0, 0, 0, ...   \n\n                                                      attention_mask  \nprofession                                                            \njournalist 140140  [1, 1, 1, 1, 1, 1, 1, 1, 1, 1, 1, 1, 1, 1, 1, ...  \npolitician 104560  [1, 1, 1, 1, 1, 1, 1, 1, 1, 1, 1, 1, 1, 1, 1, ...  \njournalist 77105   [1, 1, 1, 1, 1, 1, 1, 1, 1, 1, 1, 1, 1, 1, 1, ...  \npolitician 39384   [1, 1, 1, 1, 1, 1, 1, 1, 1, 1, 1, 1, 1, 1, 1, ...  \njournalist 160718  [1, 1, 1, 1, 1, 1, 1, 1, 1, 1, 1, 1, 1, 1, 1, ...  \n...                                                              ...  \n           130140  [1, 1, 1, 1, 1, 1, 1, 1, 1, 1, 1, 1, 1, 1, 1, ...  \n           146954  [1, 1, 1, 1, 1, 1, 1, 1, 1, 1, 1, 1, 1, 1, 1, ...  \npolitician 30215   [1, 1, 1, 1, 1, 1, 1, 1, 1, 1, 1, 1, 1, 1, 1, ...  \njournalist 42874   [1, 1, 1, 1, 1, 1, 1, 1, 1, 1, 1, 1, 1, 1, 1, ...  \npolitician 58502   [1, 1, 1, 1, 1, 1, 1, 1, 1, 1, 1, 1, 1, 1, 1, ...  \n\n[2700 rows x 11 columns]",
      "text/html": "<div>\n<style scoped>\n    .dataframe tbody tr th:only-of-type {\n        vertical-align: middle;\n    }\n\n    .dataframe tbody tr th {\n        vertical-align: top;\n    }\n\n    .dataframe thead th {\n        text-align: right;\n    }\n</style>\n<table border=\"1\" class=\"dataframe\">\n  <thead>\n    <tr style=\"text-align: right;\">\n      <th></th>\n      <th></th>\n      <th>label</th>\n      <th>text</th>\n      <th>gender</th>\n      <th>profession</th>\n      <th>ideology_binary</th>\n      <th>ideology_multiclass</th>\n      <th>num_chars</th>\n      <th>num_tokens</th>\n      <th>input_ids</th>\n      <th>token_type_ids</th>\n      <th>attention_mask</th>\n    </tr>\n    <tr>\n      <th>profession</th>\n      <th></th>\n      <th></th>\n      <th></th>\n      <th></th>\n      <th></th>\n      <th></th>\n      <th></th>\n      <th></th>\n      <th></th>\n      <th></th>\n      <th></th>\n      <th></th>\n    </tr>\n  </thead>\n  <tbody>\n    <tr>\n      <th>journalist</th>\n      <th>140140</th>\n      <td>c9b4c82ac42ba597af950044bac8801f</td>\n      <td>El comité que ha investigado el asalto del Cap...</td>\n      <td>male</td>\n      <td>journalist</td>\n      <td>left</td>\n      <td>moderate_left</td>\n      <td>208</td>\n      <td>43</td>\n      <td>[101, 10117, 17532, 10126, 10240, 10104, 54093...</td>\n      <td>[0, 0, 0, 0, 0, 0, 0, 0, 0, 0, 0, 0, 0, 0, 0, ...</td>\n      <td>[1, 1, 1, 1, 1, 1, 1, 1, 1, 1, 1, 1, 1, 1, 1, ...</td>\n    </tr>\n    <tr>\n      <th>politician</th>\n      <th>104560</th>\n      <td>99f6cb905f850b1a944f11a83b56f3b1</td>\n      <td>¿El Emérito quiere ocultar su delitos con su t...</td>\n      <td>male</td>\n      <td>politician</td>\n      <td>left</td>\n      <td>left</td>\n      <td>279</td>\n      <td>76</td>\n      <td>[101, 200, 10117, 84017, 40720, 63644, 29707, ...</td>\n      <td>[0, 0, 0, 0, 0, 0, 0, 0, 0, 0, 0, 0, 0, 0, 0, ...</td>\n      <td>[1, 1, 1, 1, 1, 1, 1, 1, 1, 1, 1, 1, 1, 1, 1, ...</td>\n    </tr>\n    <tr>\n      <th>journalist</th>\n      <th>77105</th>\n      <td>732f91c944ec6f848fe19944fef4ba23</td>\n      <td>Me han traído un router, ha venido un técnico ...</td>\n      <td>male</td>\n      <td>journalist</td>\n      <td>left</td>\n      <td>moderate_left</td>\n      <td>269</td>\n      <td>71</td>\n      <td>[101, 10525, 10210, 18352, 10351, 10119, 12724...</td>\n      <td>[0, 0, 0, 0, 0, 0, 0, 0, 0, 0, 0, 0, 0, 0, 0, ...</td>\n      <td>[1, 1, 1, 1, 1, 1, 1, 1, 1, 1, 1, 1, 1, 1, 1, ...</td>\n    </tr>\n    <tr>\n      <th>politician</th>\n      <th>39384</th>\n      <td>3b455b15e6787b61ac69a684bdce92a1</td>\n      <td>Asturias mantendrá el abono transporte a 30 eu...</td>\n      <td>male</td>\n      <td>politician</td>\n      <td>left</td>\n      <td>moderate_left</td>\n      <td>78</td>\n      <td>19</td>\n      <td>[101, 39830, 10564, 67792, 10281, 10117, 59520...</td>\n      <td>[0, 0, 0, 0, 0, 0, 0, 0, 0, 0, 0, 0, 0, 0, 0, ...</td>\n      <td>[1, 1, 1, 1, 1, 1, 1, 1, 1, 1, 1, 1, 1, 1, 1, ...</td>\n    </tr>\n    <tr>\n      <th rowspan=\"4\" valign=\"top\">journalist</th>\n      <th>160718</th>\n      <td>e5f614ab17fa138a4171e88a42e62c40</td>\n      <td>@user También me pareció absurdo eso, sí. Otra...</td>\n      <td>male</td>\n      <td>journalist</td>\n      <td>right</td>\n      <td>moderate_right</td>\n      <td>195</td>\n      <td>53</td>\n      <td>[101, 137, 24934, 11382, 10525, 16226, 10973, ...</td>\n      <td>[0, 0, 0, 0, 0, 0, 0, 0, 0, 0, 0, 0, 0, 0, 0, ...</td>\n      <td>[1, 1, 1, 1, 1, 1, 1, 1, 1, 1, 1, 1, 1, 1, 1, ...</td>\n    </tr>\n    <tr>\n      <th>...</th>\n      <td>...</td>\n      <td>...</td>\n      <td>...</td>\n      <td>...</td>\n      <td>...</td>\n      <td>...</td>\n      <td>...</td>\n      <td>...</td>\n      <td>...</td>\n      <td>...</td>\n      <td>...</td>\n    </tr>\n    <tr>\n      <th>130140</th>\n      <td>bcbf5d6ff4082d747a9f95eab9877572</td>\n      <td>@user La mejor selección de música en el mejor...</td>\n      <td>female</td>\n      <td>journalist</td>\n      <td>right</td>\n      <td>moderate_right</td>\n      <td>125</td>\n      <td>32</td>\n      <td>[101, 137, 24934, 10106, 16440, 22695, 10102, ...</td>\n      <td>[0, 0, 0, 0, 0, 0, 0, 0, 0, 0, 0, 0, 0, 0, 0, ...</td>\n      <td>[1, 1, 1, 1, 1, 1, 1, 1, 1, 1, 1, 1, 1, 1, 1, ...</td>\n    </tr>\n    <tr>\n      <th>146954</th>\n      <td>d2fd365758464bf40b1312dbdcc8508e</td>\n      <td>@user Años y años de pérdidas habrán merecido ...</td>\n      <td>male</td>\n      <td>journalist</td>\n      <td>right</td>\n      <td>moderate_right</td>\n      <td>54</td>\n      <td>17</td>\n      <td>[101, 137, 24934, 10850, 167, 10850, 10102, 42...</td>\n      <td>[0, 0, 0, 0, 0, 0, 0, 0, 0, 0, 0, 0, 0, 0, 0, ...</td>\n      <td>[1, 1, 1, 1, 1, 1, 1, 1, 1, 1, 1, 1, 1, 1, 1, ...</td>\n    </tr>\n    <tr>\n      <th>politician</th>\n      <th>30215</th>\n      <td>2c5fdbb3582ee8294fed0e7dbd0d52bc</td>\n      <td>@user La giga factoría y el centro de investig...</td>\n      <td>male</td>\n      <td>politician</td>\n      <td>left</td>\n      <td>moderate_left</td>\n      <td>87</td>\n      <td>23</td>\n      <td>[101, 137, 24934, 10106, 21464, 10547, 18482, ...</td>\n      <td>[0, 0, 0, 0, 0, 0, 0, 0, 0, 0, 0, 0, 0, 0, 0, ...</td>\n      <td>[1, 1, 1, 1, 1, 1, 1, 1, 1, 1, 1, 1, 1, 1, 1, ...</td>\n    </tr>\n    <tr>\n      <th>journalist</th>\n      <th>42874</th>\n      <td>3fece7d406218f6f6042b9e7b2bfd47c</td>\n      <td>El BarMar será el mayor hidroducto del mundo, ...</td>\n      <td>male</td>\n      <td>journalist</td>\n      <td>left</td>\n      <td>moderate_left</td>\n      <td>116</td>\n      <td>32</td>\n      <td>[101, 10117, 13409, 15602, 13796, 10117, 12263...</td>\n      <td>[0, 0, 0, 0, 0, 0, 0, 0, 0, 0, 0, 0, 0, 0, 0, ...</td>\n      <td>[1, 1, 1, 1, 1, 1, 1, 1, 1, 1, 1, 1, 1, 1, 1, ...</td>\n    </tr>\n    <tr>\n      <th>politician</th>\n      <th>58502</th>\n      <td>542cbbe7f1ad6723d517dd92da4e38de</td>\n      <td>No imagino mejor lugar para celebrar el día de...</td>\n      <td>female</td>\n      <td>politician</td>\n      <td>right</td>\n      <td>moderate_right</td>\n      <td>256</td>\n      <td>59</td>\n      <td>[101, 10181, 13860, 70049, 16440, 12267, 10239...</td>\n      <td>[0, 0, 0, 0, 0, 0, 0, 0, 0, 0, 0, 0, 0, 0, 0, ...</td>\n      <td>[1, 1, 1, 1, 1, 1, 1, 1, 1, 1, 1, 1, 1, 1, 1, ...</td>\n    </tr>\n  </tbody>\n</table>\n<p>2700 rows × 11 columns</p>\n</div>"
     },
     "execution_count": 23,
     "metadata": {},
     "output_type": "execute_result"
    }
   ],
   "source": [
    "df_eval = df_eval.apply(tokker, axis=1, result_type='expand')\n",
    "df_eval"
   ],
   "metadata": {
    "collapsed": false,
    "ExecuteTime": {
     "end_time": "2023-04-30T09:35:56.188429800Z",
     "start_time": "2023-04-30T09:35:54.227090400Z"
    }
   }
  },
  {
   "cell_type": "code",
   "execution_count": 24,
   "outputs": [
    {
     "data": {
      "text/plain": "                                              label  \\\nprofession                                            \njournalist 85977   7fd2b09b530796e8f19a0e7ed847573b   \n           45264   4358b83e373b0bb90b4a2b60060363b1   \npolitician 1213    01893a6c2c0b2787aaa382bb65b88115   \njournalist 161055  e66998b63cda1ebf0a6805ec45767adf   \n           125215  b54c002c3ca54a86e507a11ad2abb5a3   \n...                                             ...   \npolitician 53088   4cedad4067c3cbdd180e27d8eb241cc8   \njournalist 434     007d091d5f6b562acdba68ddc5d0fdb8   \n           128075  ba1175b372f83805347a8cd69aa3b11d   \n           2378    026d6a1eaa4f3378eaa67ca455b22ef3   \npolitician 140245  c9c56976299ed4a3860a88c4d2d00aae   \n\n                                                                text  gender  \\\nprofession                                                                     \njournalist 85977   Ya puedes escuchar: Programa Completo de La Vo...    male   \n           45264   Una juez suspende la emisión del sello que con...    male   \npolitician 1213    Como bien ha explicado el Ministro @user en la...  female   \njournalist 161055  'Big Four': conflictos de interés y captura de...    male   \n           125215  ¿Quién es el mejor futbolista de todos los tie...    male   \n...                                                              ...     ...   \npolitician 53088   En la ponencia que regula la PAC junto a @user...    male   \njournalist 434     Hubo que soportar en pandemia a quienes decían...  female   \n           128075  Lo más parecido a lo que propone [POLITICIAN] ...    male   \n           2378    A punto de comenzar la segunda sesión del Semi...  female   \npolitician 140245  Repugnante, miserable es como el representante...  female   \n\n                   profession ideology_binary ideology_multiclass  num_chars  \\\nprofession                                                                     \njournalist 85977   journalist           right      moderate_right         73   \n           45264   journalist            left                left        199   \npolitician 1213    politician            left       moderate_left        227   \njournalist 161055  journalist            left       moderate_left         79   \n           125215  journalist           right      moderate_right         71   \n...                       ...             ...                 ...        ...   \npolitician 53088   politician           right               right        200   \njournalist 434     journalist           right      moderate_right        267   \n           128075  journalist            left       moderate_left        256   \n           2378    journalist            left       moderate_left        156   \npolitician 140245  politician            left       moderate_left        283   \n\n                   num_tokens  \\\nprofession                      \njournalist 85977           23   \n           45264           43   \npolitician 1213            54   \njournalist 161055          22   \n           125215          19   \n...                       ...   \npolitician 53088           42   \njournalist 434             71   \n           128075          64   \n           2378            34   \npolitician 140245          75   \n\n                                                           input_ids  \\\nprofession                                                             \njournalist 85977   [101, 10593, 13139, 10107, 10153, 11575, 44342...   \n           45264   [101, 10155, 78442, 10877, 95111, 10106, 75516...   \npolitician 1213    [101, 10245, 11338, 10240, 40056, 10351, 10117...   \njournalist 161055  [101, 112, 12062, 11443, 112, 131, 80149, 1010...   \n           125215  [101, 200, 13829, 10153, 10117, 16440, 30158, ...   \n...                                                              ...   \npolitician 53088   [101, 10109, 10106, 53138, 13823, 10126, 95364...   \njournalist 434     [101, 35553, 10126, 10297, 73500, 10131, 10109...   \n           128075  [101, 10387, 10321, 95133, 143, 10387, 10126, ...   \n           2378    [101, 143, 11891, 10102, 10695, 64871, 10106, ...   \npolitician 140245  [101, 37090, 22557, 45096, 117, 15863, 50105, ...   \n\n                                                      token_type_ids  \\\nprofession                                                             \njournalist 85977   [0, 0, 0, 0, 0, 0, 0, 0, 0, 0, 0, 0, 0, 0, 0, ...   \n           45264   [0, 0, 0, 0, 0, 0, 0, 0, 0, 0, 0, 0, 0, 0, 0, ...   \npolitician 1213    [0, 0, 0, 0, 0, 0, 0, 0, 0, 0, 0, 0, 0, 0, 0, ...   \njournalist 161055  [0, 0, 0, 0, 0, 0, 0, 0, 0, 0, 0, 0, 0, 0, 0, ...   \n           125215  [0, 0, 0, 0, 0, 0, 0, 0, 0, 0, 0, 0, 0, 0, 0, ...   \n...                                                              ...   \npolitician 53088   [0, 0, 0, 0, 0, 0, 0, 0, 0, 0, 0, 0, 0, 0, 0, ...   \njournalist 434     [0, 0, 0, 0, 0, 0, 0, 0, 0, 0, 0, 0, 0, 0, 0, ...   \n           128075  [0, 0, 0, 0, 0, 0, 0, 0, 0, 0, 0, 0, 0, 0, 0, ...   \n           2378    [0, 0, 0, 0, 0, 0, 0, 0, 0, 0, 0, 0, 0, 0, 0, ...   \npolitician 140245  [0, 0, 0, 0, 0, 0, 0, 0, 0, 0, 0, 0, 0, 0, 0, ...   \n\n                                                      attention_mask  \nprofession                                                            \njournalist 85977   [1, 1, 1, 1, 1, 1, 1, 1, 1, 1, 1, 1, 1, 1, 1, ...  \n           45264   [1, 1, 1, 1, 1, 1, 1, 1, 1, 1, 1, 1, 1, 1, 1, ...  \npolitician 1213    [1, 1, 1, 1, 1, 1, 1, 1, 1, 1, 1, 1, 1, 1, 1, ...  \njournalist 161055  [1, 1, 1, 1, 1, 1, 1, 1, 1, 1, 1, 1, 1, 1, 1, ...  \n           125215  [1, 1, 1, 1, 1, 1, 1, 1, 1, 1, 1, 1, 1, 1, 1, ...  \n...                                                              ...  \npolitician 53088   [1, 1, 1, 1, 1, 1, 1, 1, 1, 1, 1, 1, 1, 1, 1, ...  \njournalist 434     [1, 1, 1, 1, 1, 1, 1, 1, 1, 1, 1, 1, 1, 1, 1, ...  \n           128075  [1, 1, 1, 1, 1, 1, 1, 1, 1, 1, 1, 1, 1, 1, 1, ...  \n           2378    [1, 1, 1, 1, 1, 1, 1, 1, 1, 1, 1, 1, 1, 1, 1, ...  \npolitician 140245  [1, 1, 1, 1, 1, 1, 1, 1, 1, 1, 1, 1, 1, 1, 1, ...  \n\n[2700 rows x 11 columns]",
      "text/html": "<div>\n<style scoped>\n    .dataframe tbody tr th:only-of-type {\n        vertical-align: middle;\n    }\n\n    .dataframe tbody tr th {\n        vertical-align: top;\n    }\n\n    .dataframe thead th {\n        text-align: right;\n    }\n</style>\n<table border=\"1\" class=\"dataframe\">\n  <thead>\n    <tr style=\"text-align: right;\">\n      <th></th>\n      <th></th>\n      <th>label</th>\n      <th>text</th>\n      <th>gender</th>\n      <th>profession</th>\n      <th>ideology_binary</th>\n      <th>ideology_multiclass</th>\n      <th>num_chars</th>\n      <th>num_tokens</th>\n      <th>input_ids</th>\n      <th>token_type_ids</th>\n      <th>attention_mask</th>\n    </tr>\n    <tr>\n      <th>profession</th>\n      <th></th>\n      <th></th>\n      <th></th>\n      <th></th>\n      <th></th>\n      <th></th>\n      <th></th>\n      <th></th>\n      <th></th>\n      <th></th>\n      <th></th>\n      <th></th>\n    </tr>\n  </thead>\n  <tbody>\n    <tr>\n      <th rowspan=\"2\" valign=\"top\">journalist</th>\n      <th>85977</th>\n      <td>7fd2b09b530796e8f19a0e7ed847573b</td>\n      <td>Ya puedes escuchar: Programa Completo de La Vo...</td>\n      <td>male</td>\n      <td>journalist</td>\n      <td>right</td>\n      <td>moderate_right</td>\n      <td>73</td>\n      <td>23</td>\n      <td>[101, 10593, 13139, 10107, 10153, 11575, 44342...</td>\n      <td>[0, 0, 0, 0, 0, 0, 0, 0, 0, 0, 0, 0, 0, 0, 0, ...</td>\n      <td>[1, 1, 1, 1, 1, 1, 1, 1, 1, 1, 1, 1, 1, 1, 1, ...</td>\n    </tr>\n    <tr>\n      <th>45264</th>\n      <td>4358b83e373b0bb90b4a2b60060363b1</td>\n      <td>Una juez suspende la emisión del sello que con...</td>\n      <td>male</td>\n      <td>journalist</td>\n      <td>left</td>\n      <td>left</td>\n      <td>199</td>\n      <td>43</td>\n      <td>[101, 10155, 78442, 10877, 95111, 10106, 75516...</td>\n      <td>[0, 0, 0, 0, 0, 0, 0, 0, 0, 0, 0, 0, 0, 0, 0, ...</td>\n      <td>[1, 1, 1, 1, 1, 1, 1, 1, 1, 1, 1, 1, 1, 1, 1, ...</td>\n    </tr>\n    <tr>\n      <th>politician</th>\n      <th>1213</th>\n      <td>01893a6c2c0b2787aaa382bb65b88115</td>\n      <td>Como bien ha explicado el Ministro @user en la...</td>\n      <td>female</td>\n      <td>politician</td>\n      <td>left</td>\n      <td>moderate_left</td>\n      <td>227</td>\n      <td>54</td>\n      <td>[101, 10245, 11338, 10240, 40056, 10351, 10117...</td>\n      <td>[0, 0, 0, 0, 0, 0, 0, 0, 0, 0, 0, 0, 0, 0, 0, ...</td>\n      <td>[1, 1, 1, 1, 1, 1, 1, 1, 1, 1, 1, 1, 1, 1, 1, ...</td>\n    </tr>\n    <tr>\n      <th rowspan=\"2\" valign=\"top\">journalist</th>\n      <th>161055</th>\n      <td>e66998b63cda1ebf0a6805ec45767adf</td>\n      <td>'Big Four': conflictos de interés y captura de...</td>\n      <td>male</td>\n      <td>journalist</td>\n      <td>left</td>\n      <td>moderate_left</td>\n      <td>79</td>\n      <td>22</td>\n      <td>[101, 112, 12062, 11443, 112, 131, 80149, 1010...</td>\n      <td>[0, 0, 0, 0, 0, 0, 0, 0, 0, 0, 0, 0, 0, 0, 0, ...</td>\n      <td>[1, 1, 1, 1, 1, 1, 1, 1, 1, 1, 1, 1, 1, 1, 1, ...</td>\n    </tr>\n    <tr>\n      <th>125215</th>\n      <td>b54c002c3ca54a86e507a11ad2abb5a3</td>\n      <td>¿Quién es el mejor futbolista de todos los tie...</td>\n      <td>male</td>\n      <td>journalist</td>\n      <td>right</td>\n      <td>moderate_right</td>\n      <td>71</td>\n      <td>19</td>\n      <td>[101, 200, 13829, 10153, 10117, 16440, 30158, ...</td>\n      <td>[0, 0, 0, 0, 0, 0, 0, 0, 0, 0, 0, 0, 0, 0, 0, ...</td>\n      <td>[1, 1, 1, 1, 1, 1, 1, 1, 1, 1, 1, 1, 1, 1, 1, ...</td>\n    </tr>\n    <tr>\n      <th>...</th>\n      <th>...</th>\n      <td>...</td>\n      <td>...</td>\n      <td>...</td>\n      <td>...</td>\n      <td>...</td>\n      <td>...</td>\n      <td>...</td>\n      <td>...</td>\n      <td>...</td>\n      <td>...</td>\n      <td>...</td>\n    </tr>\n    <tr>\n      <th>politician</th>\n      <th>53088</th>\n      <td>4cedad4067c3cbdd180e27d8eb241cc8</td>\n      <td>En la ponencia que regula la PAC junto a @user...</td>\n      <td>male</td>\n      <td>politician</td>\n      <td>right</td>\n      <td>right</td>\n      <td>200</td>\n      <td>42</td>\n      <td>[101, 10109, 10106, 53138, 13823, 10126, 95364...</td>\n      <td>[0, 0, 0, 0, 0, 0, 0, 0, 0, 0, 0, 0, 0, 0, 0, ...</td>\n      <td>[1, 1, 1, 1, 1, 1, 1, 1, 1, 1, 1, 1, 1, 1, 1, ...</td>\n    </tr>\n    <tr>\n      <th rowspan=\"3\" valign=\"top\">journalist</th>\n      <th>434</th>\n      <td>007d091d5f6b562acdba68ddc5d0fdb8</td>\n      <td>Hubo que soportar en pandemia a quienes decían...</td>\n      <td>female</td>\n      <td>journalist</td>\n      <td>right</td>\n      <td>moderate_right</td>\n      <td>267</td>\n      <td>71</td>\n      <td>[101, 35553, 10126, 10297, 73500, 10131, 10109...</td>\n      <td>[0, 0, 0, 0, 0, 0, 0, 0, 0, 0, 0, 0, 0, 0, 0, ...</td>\n      <td>[1, 1, 1, 1, 1, 1, 1, 1, 1, 1, 1, 1, 1, 1, 1, ...</td>\n    </tr>\n    <tr>\n      <th>128075</th>\n      <td>ba1175b372f83805347a8cd69aa3b11d</td>\n      <td>Lo más parecido a lo que propone [POLITICIAN] ...</td>\n      <td>male</td>\n      <td>journalist</td>\n      <td>left</td>\n      <td>moderate_left</td>\n      <td>256</td>\n      <td>64</td>\n      <td>[101, 10387, 10321, 95133, 143, 10387, 10126, ...</td>\n      <td>[0, 0, 0, 0, 0, 0, 0, 0, 0, 0, 0, 0, 0, 0, 0, ...</td>\n      <td>[1, 1, 1, 1, 1, 1, 1, 1, 1, 1, 1, 1, 1, 1, 1, ...</td>\n    </tr>\n    <tr>\n      <th>2378</th>\n      <td>026d6a1eaa4f3378eaa67ca455b22ef3</td>\n      <td>A punto de comenzar la segunda sesión del Semi...</td>\n      <td>female</td>\n      <td>journalist</td>\n      <td>left</td>\n      <td>moderate_left</td>\n      <td>156</td>\n      <td>34</td>\n      <td>[101, 143, 11891, 10102, 10695, 64871, 10106, ...</td>\n      <td>[0, 0, 0, 0, 0, 0, 0, 0, 0, 0, 0, 0, 0, 0, 0, ...</td>\n      <td>[1, 1, 1, 1, 1, 1, 1, 1, 1, 1, 1, 1, 1, 1, 1, ...</td>\n    </tr>\n    <tr>\n      <th>politician</th>\n      <th>140245</th>\n      <td>c9c56976299ed4a3860a88c4d2d00aae</td>\n      <td>Repugnante, miserable es como el representante...</td>\n      <td>female</td>\n      <td>politician</td>\n      <td>left</td>\n      <td>moderate_left</td>\n      <td>283</td>\n      <td>75</td>\n      <td>[101, 37090, 22557, 45096, 117, 15863, 50105, ...</td>\n      <td>[0, 0, 0, 0, 0, 0, 0, 0, 0, 0, 0, 0, 0, 0, 0, ...</td>\n      <td>[1, 1, 1, 1, 1, 1, 1, 1, 1, 1, 1, 1, 1, 1, 1, ...</td>\n    </tr>\n  </tbody>\n</table>\n<p>2700 rows × 11 columns</p>\n</div>"
     },
     "execution_count": 24,
     "metadata": {},
     "output_type": "execute_result"
    }
   ],
   "source": [
    "df_test = df_test.apply(tokker, axis=1, result_type='expand')\n",
    "df_test"
   ],
   "metadata": {
    "collapsed": false,
    "ExecuteTime": {
     "end_time": "2023-04-30T09:35:58.133205200Z",
     "start_time": "2023-04-30T09:35:56.192978900Z"
    }
   }
  },
  {
   "cell_type": "markdown",
   "source": [
    "### Guardar como Dataset"
   ],
   "metadata": {
    "collapsed": false
   }
  },
  {
   "cell_type": "code",
   "execution_count": 28,
   "outputs": [],
   "source": [
    "# Labels se cambian a números para el Transformer\n",
    "gender2num = {\n",
    "    'male': 0,\n",
    "    'female': 1,\n",
    "}\n",
    "\n",
    "profession2num = {\n",
    "    'journalist': 0,\n",
    "    'celebrity': 1,\n",
    "    'politician': 2,\n",
    "}\n",
    "\n",
    "ideology_binary2num = {\n",
    "    'left': 0,\n",
    "    'right': 1,\n",
    "}\n",
    "\n",
    "ideology_multiclass2num = {\n",
    "    'left': 0,\n",
    "    'moderate_left': 1,\n",
    "    'moderate_right': 2,\n",
    "    'right': 3,\n",
    "}\n",
    "\n",
    "sentiment2num = {\n",
    "    0: 0,  # Negative\n",
    "    1: 1,  # Neutral\n",
    "    2: 2,  # Positive\n",
    "}\n",
    "\n",
    "\n",
    "dict_for_conversion = None\n",
    "\n",
    "if ClassifyingTask(task) is ClassifyingTask.IDEO_BIN:\n",
    "    dict_for_conversion = ideology_binary2num\n",
    "elif ClassifyingTask(task) is ClassifyingTask.IDEO_MUL:\n",
    "    dict_for_conversion = ideology_multiclass2num\n",
    "elif ClassifyingTask(task) is ClassifyingTask.GENDER:\n",
    "    dict_for_conversion = gender2num\n",
    "elif ClassifyingTask(task) is ClassifyingTask.PROFESSION:\n",
    "    dict_for_conversion = profession2num\n",
    "else:\n",
    "    raise NotImplementedError\n",
    "\n",
    "inv_dict_for_conversion = {v: k for k, v in dict_for_conversion.items()}\n",
    "\n",
    "df_train_numeric_labels = df_train.copy()\n",
    "df_eval_numeric_labels = df_eval.copy()\n",
    "df_test_numeric_labels = df_test.copy()\n",
    "\n",
    "df_train_numeric_labels[task] = df_train_numeric_labels[task].apply(lambda x: dict_for_conversion[x])\n",
    "df_eval_numeric_labels[task] = df_eval_numeric_labels[task].apply(lambda x: dict_for_conversion[x])\n",
    "df_test_numeric_labels[task] = df_test_numeric_labels[task].apply(lambda x: dict_for_conversion[x])\n",
    "\n",
    "dataset_train = Dataset.from_pandas(df_train_numeric_labels).rename_column(task, 'labels').rename_column('label', 'original_label')\n",
    "dataset_eval = Dataset.from_pandas(df_eval_numeric_labels).rename_column(task, 'labels').rename_column('label', 'original_label')\n",
    "dataset_test = Dataset.from_pandas(df_test_numeric_labels).rename_column(task, 'labels').rename_column('label', 'original_label')"
   ],
   "metadata": {
    "collapsed": false,
    "ExecuteTime": {
     "end_time": "2023-04-30T09:37:29.972420700Z",
     "start_time": "2023-04-30T09:37:28.816287100Z"
    }
   }
  },
  {
   "cell_type": "markdown",
   "source": [
    "## Modelo"
   ],
   "metadata": {
    "collapsed": false
   }
  },
  {
   "cell_type": "code",
   "execution_count": 89,
   "outputs": [
    {
     "name": "stdout",
     "output_type": "stream",
     "text": [
      "Cleared\n"
     ]
    }
   ],
   "source": [
    "import gc\n",
    "try:\n",
    "    del model\n",
    "    torch.cuda.empty_cache()\n",
    "    gc.collect()\n",
    "    print(\"Cleared\")\n",
    "except:\n",
    "    pass\n"
   ],
   "metadata": {
    "collapsed": false,
    "ExecuteTime": {
     "end_time": "2023-04-29T23:43:29.024127800Z",
     "start_time": "2023-04-29T23:43:28.604231400Z"
    }
   }
  },
  {
   "cell_type": "code",
   "execution_count": 90,
   "outputs": [
    {
     "name": "stdout",
     "output_type": "stream",
     "text": [
      "TARGET_LABELS: ['journalist', 'celebrity', 'politician'] num_labels: 3\n"
     ]
    }
   ],
   "source": [
    "TARGET_LABELS = [label for label in dict_for_conversion]\n",
    "NUM_LABELS = len(TARGET_LABELS)\n",
    "\n",
    "print('TARGET_LABELS:', TARGET_LABELS, 'num_labels:', NUM_LABELS)\n",
    "\n",
    "# model = AutoModelForSequenceClassification.from_pretrained(model_name, num_labels=NUM_LABELS)\n",
    "model = AutoModelForSequenceClassification.from_pretrained(f'./models/best_model_so_far/{model_name}/{task}/', local_files_only=True, num_labels=NUM_LABELS)"
   ],
   "metadata": {
    "collapsed": false,
    "ExecuteTime": {
     "end_time": "2023-04-29T23:43:30.379181700Z",
     "start_time": "2023-04-29T23:43:29.134411700Z"
    }
   }
  },
  {
   "cell_type": "code",
   "execution_count": 91,
   "outputs": [],
   "source": [
    "args = TrainingArguments(output_dir=\"./outputs\")"
   ],
   "metadata": {
    "collapsed": false,
    "ExecuteTime": {
     "end_time": "2023-04-29T23:43:30.395044Z",
     "start_time": "2023-04-29T23:43:30.379181700Z"
    }
   }
  },
  {
   "cell_type": "code",
   "execution_count": 92,
   "outputs": [],
   "source": [
    "# args.remove_unused_columns = False\n",
    "args.save_strategy = 'no'\n",
    "\n",
    "args.evaluation_strategy=\"epoch\"\n",
    "args.num_train_epochs = 10\n",
    "\n",
    "# args.evaluation_strategy = IntervalStrategy.STEPS\n",
    "# args.eval_steps = 10\n",
    "# args.max_steps = 100\n",
    "\n",
    "\n",
    "args.learning_rate = 5E-6\n",
    "\n",
    "args.load_best_model_at_end = True  # EarlyStoppingCallback() requires this to be True\n",
    "args.metric_for_best_model = 'f1'\n",
    "\n",
    "# args.per_device_train_batch_size = 8\n",
    "# args.per_device_eval_batch_size = 8\n",
    "# args.auto_find_batch_size = True\n"
   ],
   "metadata": {
    "collapsed": false,
    "ExecuteTime": {
     "end_time": "2023-04-29T23:43:30.426643200Z",
     "start_time": "2023-04-29T23:43:30.395044Z"
    }
   }
  },
  {
   "cell_type": "code",
   "execution_count": 93,
   "outputs": [],
   "source": [
    "def compute_metrics(pred):\n",
    "    \"\"\"recibe un lote predicciones inferidas por el modelo. \"\"\"\n",
    "\n",
    "    y_true = pred.label_ids # son las labels en el gold standard\n",
    "    y_pred = pred.predictions.argmax(-1)    # pred.predictions devuelve una lista con las predicciones\n",
    "                                            # para cada clase. Debemos quedarnos con la de mayor probabilidad.\n",
    "\n",
    "    # como son varias clases, utilizaremos la macro\n",
    "    precision, recall, f1, _ = precision_recall_fscore_support(y_true, y_pred, average='macro', zero_division=0)\n",
    "    acc = accuracy_score(y_true, y_pred)\n",
    "\n",
    "    to_return = {\n",
    "        'accuracy': acc,\n",
    "        'f1': f1,\n",
    "        'precision': precision,\n",
    "        'recall': recall\n",
    "    }\n",
    "    print(to_return)\n",
    "\n",
    "    return to_return"
   ],
   "metadata": {
    "collapsed": false,
    "ExecuteTime": {
     "end_time": "2023-04-29T23:43:30.917570Z",
     "start_time": "2023-04-29T23:43:30.901943500Z"
    }
   }
  },
  {
   "cell_type": "code",
   "execution_count": 94,
   "outputs": [],
   "source": [
    "trainer = Trainer(\n",
    "    model=model,            # modelo que será ajustado\n",
    "    args=args,     # hiperparámetros\n",
    "    train_dataset=dataset_train, # conjunto training\n",
    "    eval_dataset=dataset_eval,   # conjunto de validación\n",
    "    compute_metrics=compute_metrics,    # función para computar las métricas\n",
    "    callbacks=[EarlyStoppingCallback(early_stopping_patience=5)]\n",
    ")"
   ],
   "metadata": {
    "collapsed": false,
    "ExecuteTime": {
     "end_time": "2023-04-29T23:43:31.940633300Z",
     "start_time": "2023-04-29T23:43:31.608791100Z"
    }
   }
  },
  {
   "cell_type": "code",
   "execution_count": 95,
   "outputs": [
    {
     "data": {
      "text/plain": "512"
     },
     "execution_count": 95,
     "metadata": {},
     "output_type": "execute_result"
    }
   ],
   "source": [
    "tokenizer.model_max_length"
   ],
   "metadata": {
    "collapsed": false,
    "ExecuteTime": {
     "end_time": "2023-04-29T23:43:32.154328400Z",
     "start_time": "2023-04-29T23:43:32.122539700Z"
    }
   }
  },
  {
   "cell_type": "code",
   "execution_count": 211,
   "outputs": [
    {
     "name": "stderr",
     "output_type": "stream",
     "text": [
      "C:\\Users\\1bran\\Anaconda3\\envs\\PLN_PoliticES\\lib\\site-packages\\transformers\\optimization.py:391: FutureWarning: This implementation of AdamW is deprecated and will be removed in a future version. Use the PyTorch implementation torch.optim.AdamW instead, or set `no_deprecation_warning=True` to disable this warning\n",
      "  warnings.warn(\n"
     ]
    },
    {
     "data": {
      "text/plain": "<IPython.core.display.HTML object>",
      "text/html": "\n    <div>\n      \n      <progress value='2' max='15750' style='width:300px; height:20px; vertical-align: middle;'></progress>\n      [    2/15750 : < :, Epoch 0.00/10]\n    </div>\n    <table border=\"1\" class=\"dataframe\">\n  <thead>\n <tr style=\"text-align: left;\">\n      <th>Epoch</th>\n      <th>Training Loss</th>\n      <th>Validation Loss</th>\n    </tr>\n  </thead>\n  <tbody>\n  </tbody>\n</table><p>"
     },
     "metadata": {},
     "output_type": "display_data"
    },
    {
     "name": "stdout",
     "output_type": "stream",
     "text": [
      "{'accuracy': 0.7440740740740741, 'f1': 0.47984152280540826, 'precision': 0.5006542608384374, 'recall': 0.48180982441438064}\n",
      "{'accuracy': 0.7488888888888889, 'f1': 0.5254561416345145, 'precision': 0.7201633607983862, 'recall': 0.5228850194772098}\n",
      "{'accuracy': 0.7570370370370371, 'f1': 0.5351191827178713, 'precision': 0.6974908231714408, 'recall': 0.5250513495278971}\n",
      "{'accuracy': 0.7477777777777778, 'f1': 0.5461400507184337, 'precision': 0.6197767250162068, 'recall': 0.5391301162811927}\n",
      "{'accuracy': 0.7311111111111112, 'f1': 0.5530041315431793, 'precision': 0.5962143902549928, 'recall': 0.5489297085097834}\n",
      "{'accuracy': 0.7137037037037037, 'f1': 0.532717748627666, 'precision': 0.5732088182981995, 'recall': 0.5396950303816032}\n",
      "{'accuracy': 0.7381481481481481, 'f1': 0.5442350246282639, 'precision': 0.5876100769412375, 'recall': 0.5385323208883938}\n",
      "{'accuracy': 0.7296296296296296, 'f1': 0.5510092153803297, 'precision': 0.5894028028356386, 'recall': 0.5468263903915043}\n",
      "{'accuracy': 0.7314814814814815, 'f1': 0.5664480845561705, 'precision': 0.5766961008843875, 'recall': 0.5627742374802988}\n",
      "{'accuracy': 0.7322222222222222, 'f1': 0.5651826864345605, 'precision': 0.5873778550643123, 'recall': 0.5605569390161992}\n"
     ]
    },
    {
     "data": {
      "text/plain": "TrainOutput(global_step=15750, training_loss=0.37982564629448784, metrics={'train_runtime': 2681.4968, 'train_samples_per_second': 46.989, 'train_steps_per_second': 5.874, 'total_flos': 9324081740736000.0, 'train_loss': 0.37982564629448784, 'epoch': 10.0})"
     },
     "execution_count": 211,
     "metadata": {},
     "output_type": "execute_result"
    }
   ],
   "source": [
    "# trainer.train()"
   ],
   "metadata": {
    "collapsed": false,
    "ExecuteTime": {
     "end_time": "2023-04-29T22:11:17.147266Z",
     "start_time": "2023-04-29T21:26:35.614368Z"
    }
   }
  },
  {
   "cell_type": "code",
   "execution_count": 86,
   "outputs": [],
   "source": [
    "# trainer.save_model(output_dir=Path(f\"./models/best_model_so_far/{model_name}/{task}/\"))"
   ],
   "metadata": {
    "collapsed": false,
    "ExecuteTime": {
     "end_time": "2023-04-29T23:41:33.935911900Z",
     "start_time": "2023-04-29T23:41:33.919976800Z"
    }
   }
  },
  {
   "cell_type": "code",
   "execution_count": 96,
   "outputs": [
    {
     "data": {
      "text/plain": "<IPython.core.display.HTML object>",
      "text/html": "\n    <div>\n      \n      <progress value='1' max='338' style='width:300px; height:20px; vertical-align: middle;'></progress>\n      [  1/338 : < :]\n    </div>\n    "
     },
     "metadata": {},
     "output_type": "display_data"
    },
    {
     "name": "stdout",
     "output_type": "stream",
     "text": [
      "{'accuracy': 0.7203703703703703, 'f1': 0.5461534972225347, 'precision': 0.5669095044440805, 'recall': 0.5410099547141297}\n"
     ]
    },
    {
     "data": {
      "text/plain": "{'eval_loss': 1.7037737369537354,\n 'eval_accuracy': 0.7203703703703703,\n 'eval_f1': 0.5461534972225347,\n 'eval_precision': 0.5669095044440805,\n 'eval_recall': 0.5410099547141297,\n 'eval_runtime': 15.4237,\n 'eval_samples_per_second': 175.056,\n 'eval_steps_per_second': 21.914}"
     },
     "execution_count": 96,
     "metadata": {},
     "output_type": "execute_result"
    }
   ],
   "source": [
    "trainer.evaluate(dataset_test)"
   ],
   "metadata": {
    "collapsed": false,
    "pycharm": {
     "is_executing": true
    },
    "ExecuteTime": {
     "end_time": "2023-04-29T23:44:00.774179100Z",
     "start_time": "2023-04-29T23:43:45.330030800Z"
    }
   }
  },
  {
   "cell_type": "markdown",
   "source": [
    "# Predicción\n",
    "\n",
    "Conglomeramos todos los modelos en un diccionario para hacer las predicciones sobre un archivo\n"
   ],
   "metadata": {
    "collapsed": false
   }
  },
  {
   "cell_type": "code",
   "execution_count": 29,
   "outputs": [],
   "source": [
    "all_models = {}\n",
    "\n",
    "for task in ClassifyingTask:\n",
    "    if ClassifyingTask(task) is ClassifyingTask.IDEO_BIN:\n",
    "        dict_for_conversion = ideology_binary2num\n",
    "    elif ClassifyingTask(task) is ClassifyingTask.IDEO_MUL:\n",
    "        dict_for_conversion = ideology_multiclass2num\n",
    "    elif ClassifyingTask(task) is ClassifyingTask.GENDER:\n",
    "        dict_for_conversion = gender2num\n",
    "    elif ClassifyingTask(task) is ClassifyingTask.PROFESSION:\n",
    "        dict_for_conversion = profession2num\n",
    "    else:\n",
    "        print(task)\n",
    "        raise NotImplementedError\n",
    "\n",
    "    TARGET_LABELS = [label for label in dict_for_conversion]\n",
    "    NUM_LABELS = len(TARGET_LABELS)\n",
    "\n",
    "    model_for_task = AutoModelForSequenceClassification.from_pretrained(Path(f'./models/best_model_so_far/{model_name}/{task}/'), local_files_only=True, num_labels=NUM_LABELS)\n",
    "\n",
    "    # Save into dictionary\n",
    "    all_models[task.value] = {\n",
    "        'predict': TextClassificationPipeline(model=model_for_task, tokenizer=tokenizer, top_k=None),\n",
    "        'test_wrapper': Trainer(model=model_for_task, train_dataset=dataset_train, eval_dataset=dataset_eval)  # Not to be used for training, only testing\n",
    "    }\n",
    "\n"
   ],
   "metadata": {
    "collapsed": false,
    "ExecuteTime": {
     "end_time": "2023-04-30T09:37:48.538269100Z",
     "start_time": "2023-04-30T09:37:38.255721700Z"
    }
   }
  },
  {
   "cell_type": "markdown",
   "source": [
    "Antes de seguir, hacemos que los datasets se ajusten a la tarea sobre la que se quiere hacer predicciones."
   ],
   "metadata": {
    "collapsed": false
   }
  },
  {
   "cell_type": "code",
   "execution_count": 30,
   "outputs": [],
   "source": [
    "task = ClassifyingTask.IDEO_MUL.value\n",
    "\n",
    "# Labels se cambian a números para el Transformer\n",
    "gender2num = {\n",
    "    'male': 0,\n",
    "    'female': 1,\n",
    "}\n",
    "\n",
    "profession2num = {\n",
    "    'journalist': 0,\n",
    "    'celebrity': 1,\n",
    "    'politician': 2,\n",
    "}\n",
    "\n",
    "ideology_binary2num = {\n",
    "    'left': 0,\n",
    "    'right': 1,\n",
    "}\n",
    "\n",
    "ideology_multiclass2num = {\n",
    "    'left': 0,\n",
    "    'moderate_left': 1,\n",
    "    'moderate_right': 2,\n",
    "    'right': 3,\n",
    "}\n",
    "\n",
    "sentiment2num = {\n",
    "    0: 0,  # Negative\n",
    "    1: 1,  # Neutral\n",
    "    2: 2,  # Positive\n",
    "}\n",
    "\n",
    "\n",
    "dict_for_conversion = None\n",
    "\n",
    "if ClassifyingTask(task) is ClassifyingTask.IDEO_BIN:\n",
    "    dict_for_conversion = ideology_binary2num\n",
    "elif ClassifyingTask(task) is ClassifyingTask.IDEO_MUL:\n",
    "    dict_for_conversion = ideology_multiclass2num\n",
    "elif ClassifyingTask(task) is ClassifyingTask.GENDER:\n",
    "    dict_for_conversion = gender2num\n",
    "elif ClassifyingTask(task) is ClassifyingTask.PROFESSION:\n",
    "    dict_for_conversion = profession2num\n",
    "elif ClassifyingTask(task) is ClassifyingTask.SENTIMENT:\n",
    "    dict_for_conversion = sentiment2num\n",
    "else:\n",
    "    raise NotImplementedError\n",
    "\n",
    "inv_dict_for_conversion = {v: k for k, v in dict_for_conversion.items()}\n",
    "\n",
    "df_train_numeric_labels = df_train.copy()\n",
    "df_eval_numeric_labels = df_eval.copy()\n",
    "df_test_numeric_labels = df_test.copy()\n",
    "\n",
    "df_train_numeric_labels[task] = df_train_numeric_labels[task].apply(lambda x: dict_for_conversion[x])\n",
    "df_eval_numeric_labels[task] = df_eval_numeric_labels[task].apply(lambda x: dict_for_conversion[x])\n",
    "df_test_numeric_labels[task] = df_test_numeric_labels[task].apply(lambda x: dict_for_conversion[x])\n",
    "\n",
    "dataset_train = Dataset.from_pandas(df_train_numeric_labels).rename_column(task, 'labels').rename_column('label', 'original_label')\n",
    "dataset_eval = Dataset.from_pandas(df_eval_numeric_labels).rename_column(task, 'labels').rename_column('label', 'original_label')\n",
    "dataset_test = Dataset.from_pandas(df_test_numeric_labels).rename_column(task, 'labels').rename_column('label', 'original_label')"
   ],
   "metadata": {
    "collapsed": false,
    "ExecuteTime": {
     "end_time": "2023-04-30T09:37:52.532370100Z",
     "start_time": "2023-04-30T09:37:51.753826600Z"
    }
   }
  },
  {
   "cell_type": "code",
   "execution_count": 31,
   "outputs": [
    {
     "data": {
      "text/plain": "{'original_label': Value(dtype='string', id=None),\n 'text': Value(dtype='string', id=None),\n 'gender': Value(dtype='string', id=None),\n 'profession': Value(dtype='string', id=None),\n 'ideology_binary': Value(dtype='string', id=None),\n 'labels': Value(dtype='int64', id=None),\n 'num_chars': Value(dtype='int64', id=None),\n 'num_tokens': Value(dtype='int64', id=None),\n 'input_ids': Sequence(feature=Value(dtype='int64', id=None), length=-1, id=None),\n 'token_type_ids': Sequence(feature=Value(dtype='int64', id=None), length=-1, id=None),\n 'attention_mask': Sequence(feature=Value(dtype='int64', id=None), length=-1, id=None),\n '__index_level_0__': Value(dtype='string', id=None),\n '__index_level_1__': Value(dtype='int64', id=None)}"
     },
     "execution_count": 31,
     "metadata": {},
     "output_type": "execute_result"
    }
   ],
   "source": [
    "dataset_test.features"
   ],
   "metadata": {
    "collapsed": false,
    "ExecuteTime": {
     "end_time": "2023-04-30T09:37:53.954205800Z",
     "start_time": "2023-04-30T09:37:53.927480700Z"
    }
   }
  },
  {
   "cell_type": "code",
   "execution_count": 162,
   "outputs": [
    {
     "data": {
      "text/plain": "                          original_label  \\\n15706   16f89cf61eb0d466c42f9f1f8c82cf55   \n87922   8408dae0e7f64fc71a02170afa4a4758   \n160893  e6273df009c7fbdad831ea8b49276b4b   \n82621   7b2fd78bf2f7667d063f7db9f0089006   \n58622   5438bb857031e2402a4ec4ae918f0ce4   \n...                                  ...   \n113826  a6617201a3316d4eb060e695afd15b8f   \n87957   8408dae0e7f64fc71a02170afa4a4758   \n134975  c2bbb321be752f0dcc1ddac450bb69e2   \n136288  c5651b5c96904a49788fe60fb41e956a   \n138896  c80a207162a8b56ee4b0010dadbb573a   \n\n                                                     text  gender  profession  \\\n15706   Enhorabuena @user y toda la fuerza del mundo p...    male  politician   \n87922   Esta tarde acompañando al Círculo Taurino de B...    male  politician   \n160893  Este miércoles tocamos en Madrid.. Tengo muchí...    male   celebrity   \n82621   Hoy en [HASHTAG] , ‘Argentina, 1985’, el juici...    male  journalist   \n58622   Susto en avión de Aeroméxico: por captura de O...    male  journalist   \n...                                                   ...     ...         ...   \n113826  Tremendo el reportaje de @user sobre las resid...    male  journalist   \n87957   @user Ya tiene trabajo el comité de bulos que ...    male  politician   \n134975  Hemos mantenido en Crawley (Reino Unido), una ...    male  politician   \n136288  La degradación de nuestra clase política es ta...    male  journalist   \n138896  Yo a mi novio: ¿me haces una foto cuando esté ...  female  journalist   \n\n       ideology_binary ideology_multiclass  num_chars  num_tokens  \\\n15706            right               right        115          33   \n87922            right      moderate_right        204          49   \n160893            left       moderate_left         61          22   \n82621             left       moderate_left        196          61   \n58622            right      moderate_right         84          24   \n...                ...                 ...        ...         ...   \n113826            left       moderate_left         84          25   \n87957            right      moderate_right        122          34   \n134975            left       moderate_left        270          61   \n136288           right      moderate_right        280          62   \n138896            left       moderate_left         72          26   \n\n                                                input_ids  \\\n15706   [101, 10109, 56152, 64490, 10206, 137, 24934, ...   \n87922   [101, 10602, 14275, 12181, 10785, 48101, 10622...   \n160893  [101, 10494, 95096, 66849, 11300, 62017, 14000...   \n82621   [101, 21150, 10109, 138, 10438, 31340, 10251, ...   \n58622   [101, 10877, 10366, 10109, 25361, 10102, 48753...   \n...                                                   ...   \n113826  [101, 11555, 11719, 10351, 10117, 13100, 20515...   \n87957   [101, 137, 24934, 10593, 12687, 15858, 10117, ...   \n134975  [101, 14308, 10327, 10564, 60795, 10109, 24590...   \n136288  [101, 10106, 88831, 18179, 10985, 10102, 30571...   \n138896  [101, 13195, 143, 11793, 17246, 10132, 131, 20...   \n\n                                           token_type_ids  \\\n15706   [0, 0, 0, 0, 0, 0, 0, 0, 0, 0, 0, 0, 0, 0, 0, ...   \n87922   [0, 0, 0, 0, 0, 0, 0, 0, 0, 0, 0, 0, 0, 0, 0, ...   \n160893  [0, 0, 0, 0, 0, 0, 0, 0, 0, 0, 0, 0, 0, 0, 0, ...   \n82621   [0, 0, 0, 0, 0, 0, 0, 0, 0, 0, 0, 0, 0, 0, 0, ...   \n58622   [0, 0, 0, 0, 0, 0, 0, 0, 0, 0, 0, 0, 0, 0, 0, ...   \n...                                                   ...   \n113826  [0, 0, 0, 0, 0, 0, 0, 0, 0, 0, 0, 0, 0, 0, 0, ...   \n87957   [0, 0, 0, 0, 0, 0, 0, 0, 0, 0, 0, 0, 0, 0, 0, ...   \n134975  [0, 0, 0, 0, 0, 0, 0, 0, 0, 0, 0, 0, 0, 0, 0, ...   \n136288  [0, 0, 0, 0, 0, 0, 0, 0, 0, 0, 0, 0, 0, 0, 0, ...   \n138896  [0, 0, 0, 0, 0, 0, 0, 0, 0, 0, 0, 0, 0, 0, 0, ...   \n\n                                           attention_mask  \n15706   [1, 1, 1, 1, 1, 1, 1, 1, 1, 1, 1, 1, 1, 1, 1, ...  \n87922   [1, 1, 1, 1, 1, 1, 1, 1, 1, 1, 1, 1, 1, 1, 1, ...  \n160893  [1, 1, 1, 1, 1, 1, 1, 1, 1, 1, 1, 1, 1, 1, 1, ...  \n82621   [1, 1, 1, 1, 1, 1, 1, 1, 1, 1, 1, 1, 1, 1, 1, ...  \n58622   [1, 1, 1, 1, 1, 1, 1, 1, 1, 1, 1, 1, 1, 1, 1, ...  \n...                                                   ...  \n113826  [1, 1, 1, 1, 1, 1, 1, 1, 1, 1, 1, 1, 1, 1, 1, ...  \n87957   [1, 1, 1, 1, 1, 1, 1, 1, 1, 1, 1, 1, 1, 1, 1, ...  \n134975  [1, 1, 1, 1, 1, 1, 1, 1, 1, 1, 1, 1, 1, 1, 1, ...  \n136288  [1, 1, 1, 1, 1, 1, 1, 1, 1, 1, 1, 1, 1, 1, 1, ...  \n138896  [1, 1, 1, 1, 1, 1, 1, 1, 1, 1, 1, 1, 1, 1, 1, ...  \n\n[18000 rows x 11 columns]",
      "text/html": "<div>\n<style scoped>\n    .dataframe tbody tr th:only-of-type {\n        vertical-align: middle;\n    }\n\n    .dataframe tbody tr th {\n        vertical-align: top;\n    }\n\n    .dataframe thead th {\n        text-align: right;\n    }\n</style>\n<table border=\"1\" class=\"dataframe\">\n  <thead>\n    <tr style=\"text-align: right;\">\n      <th></th>\n      <th>original_label</th>\n      <th>text</th>\n      <th>gender</th>\n      <th>profession</th>\n      <th>ideology_binary</th>\n      <th>ideology_multiclass</th>\n      <th>num_chars</th>\n      <th>num_tokens</th>\n      <th>input_ids</th>\n      <th>token_type_ids</th>\n      <th>attention_mask</th>\n    </tr>\n  </thead>\n  <tbody>\n    <tr>\n      <th>15706</th>\n      <td>16f89cf61eb0d466c42f9f1f8c82cf55</td>\n      <td>Enhorabuena @user y toda la fuerza del mundo p...</td>\n      <td>male</td>\n      <td>politician</td>\n      <td>right</td>\n      <td>right</td>\n      <td>115</td>\n      <td>33</td>\n      <td>[101, 10109, 56152, 64490, 10206, 137, 24934, ...</td>\n      <td>[0, 0, 0, 0, 0, 0, 0, 0, 0, 0, 0, 0, 0, 0, 0, ...</td>\n      <td>[1, 1, 1, 1, 1, 1, 1, 1, 1, 1, 1, 1, 1, 1, 1, ...</td>\n    </tr>\n    <tr>\n      <th>87922</th>\n      <td>8408dae0e7f64fc71a02170afa4a4758</td>\n      <td>Esta tarde acompañando al Círculo Taurino de B...</td>\n      <td>male</td>\n      <td>politician</td>\n      <td>right</td>\n      <td>moderate_right</td>\n      <td>204</td>\n      <td>49</td>\n      <td>[101, 10602, 14275, 12181, 10785, 48101, 10622...</td>\n      <td>[0, 0, 0, 0, 0, 0, 0, 0, 0, 0, 0, 0, 0, 0, 0, ...</td>\n      <td>[1, 1, 1, 1, 1, 1, 1, 1, 1, 1, 1, 1, 1, 1, 1, ...</td>\n    </tr>\n    <tr>\n      <th>160893</th>\n      <td>e6273df009c7fbdad831ea8b49276b4b</td>\n      <td>Este miércoles tocamos en Madrid.. Tengo muchí...</td>\n      <td>male</td>\n      <td>celebrity</td>\n      <td>left</td>\n      <td>moderate_left</td>\n      <td>61</td>\n      <td>22</td>\n      <td>[101, 10494, 95096, 66849, 11300, 62017, 14000...</td>\n      <td>[0, 0, 0, 0, 0, 0, 0, 0, 0, 0, 0, 0, 0, 0, 0, ...</td>\n      <td>[1, 1, 1, 1, 1, 1, 1, 1, 1, 1, 1, 1, 1, 1, 1, ...</td>\n    </tr>\n    <tr>\n      <th>82621</th>\n      <td>7b2fd78bf2f7667d063f7db9f0089006</td>\n      <td>Hoy en [HASHTAG] , ‘Argentina, 1985’, el juici...</td>\n      <td>male</td>\n      <td>journalist</td>\n      <td>left</td>\n      <td>moderate_left</td>\n      <td>196</td>\n      <td>61</td>\n      <td>[101, 21150, 10109, 138, 10438, 31340, 10251, ...</td>\n      <td>[0, 0, 0, 0, 0, 0, 0, 0, 0, 0, 0, 0, 0, 0, 0, ...</td>\n      <td>[1, 1, 1, 1, 1, 1, 1, 1, 1, 1, 1, 1, 1, 1, 1, ...</td>\n    </tr>\n    <tr>\n      <th>58622</th>\n      <td>5438bb857031e2402a4ec4ae918f0ce4</td>\n      <td>Susto en avión de Aeroméxico: por captura de O...</td>\n      <td>male</td>\n      <td>journalist</td>\n      <td>right</td>\n      <td>moderate_right</td>\n      <td>84</td>\n      <td>24</td>\n      <td>[101, 10877, 10366, 10109, 25361, 10102, 48753...</td>\n      <td>[0, 0, 0, 0, 0, 0, 0, 0, 0, 0, 0, 0, 0, 0, 0, ...</td>\n      <td>[1, 1, 1, 1, 1, 1, 1, 1, 1, 1, 1, 1, 1, 1, 1, ...</td>\n    </tr>\n    <tr>\n      <th>...</th>\n      <td>...</td>\n      <td>...</td>\n      <td>...</td>\n      <td>...</td>\n      <td>...</td>\n      <td>...</td>\n      <td>...</td>\n      <td>...</td>\n      <td>...</td>\n      <td>...</td>\n      <td>...</td>\n    </tr>\n    <tr>\n      <th>113826</th>\n      <td>a6617201a3316d4eb060e695afd15b8f</td>\n      <td>Tremendo el reportaje de @user sobre las resid...</td>\n      <td>male</td>\n      <td>journalist</td>\n      <td>left</td>\n      <td>moderate_left</td>\n      <td>84</td>\n      <td>25</td>\n      <td>[101, 11555, 11719, 10351, 10117, 13100, 20515...</td>\n      <td>[0, 0, 0, 0, 0, 0, 0, 0, 0, 0, 0, 0, 0, 0, 0, ...</td>\n      <td>[1, 1, 1, 1, 1, 1, 1, 1, 1, 1, 1, 1, 1, 1, 1, ...</td>\n    </tr>\n    <tr>\n      <th>87957</th>\n      <td>8408dae0e7f64fc71a02170afa4a4758</td>\n      <td>@user Ya tiene trabajo el comité de bulos que ...</td>\n      <td>male</td>\n      <td>politician</td>\n      <td>right</td>\n      <td>moderate_right</td>\n      <td>122</td>\n      <td>34</td>\n      <td>[101, 137, 24934, 10593, 12687, 15858, 10117, ...</td>\n      <td>[0, 0, 0, 0, 0, 0, 0, 0, 0, 0, 0, 0, 0, 0, 0, ...</td>\n      <td>[1, 1, 1, 1, 1, 1, 1, 1, 1, 1, 1, 1, 1, 1, 1, ...</td>\n    </tr>\n    <tr>\n      <th>134975</th>\n      <td>c2bbb321be752f0dcc1ddac450bb69e2</td>\n      <td>Hemos mantenido en Crawley (Reino Unido), una ...</td>\n      <td>male</td>\n      <td>politician</td>\n      <td>left</td>\n      <td>moderate_left</td>\n      <td>270</td>\n      <td>61</td>\n      <td>[101, 14308, 10327, 10564, 60795, 10109, 24590...</td>\n      <td>[0, 0, 0, 0, 0, 0, 0, 0, 0, 0, 0, 0, 0, 0, 0, ...</td>\n      <td>[1, 1, 1, 1, 1, 1, 1, 1, 1, 1, 1, 1, 1, 1, 1, ...</td>\n    </tr>\n    <tr>\n      <th>136288</th>\n      <td>c5651b5c96904a49788fe60fb41e956a</td>\n      <td>La degradación de nuestra clase política es ta...</td>\n      <td>male</td>\n      <td>journalist</td>\n      <td>right</td>\n      <td>moderate_right</td>\n      <td>280</td>\n      <td>62</td>\n      <td>[101, 10106, 88831, 18179, 10985, 10102, 30571...</td>\n      <td>[0, 0, 0, 0, 0, 0, 0, 0, 0, 0, 0, 0, 0, 0, 0, ...</td>\n      <td>[1, 1, 1, 1, 1, 1, 1, 1, 1, 1, 1, 1, 1, 1, 1, ...</td>\n    </tr>\n    <tr>\n      <th>138896</th>\n      <td>c80a207162a8b56ee4b0010dadbb573a</td>\n      <td>Yo a mi novio: ¿me haces una foto cuando esté ...</td>\n      <td>female</td>\n      <td>journalist</td>\n      <td>left</td>\n      <td>moderate_left</td>\n      <td>72</td>\n      <td>26</td>\n      <td>[101, 13195, 143, 11793, 17246, 10132, 131, 20...</td>\n      <td>[0, 0, 0, 0, 0, 0, 0, 0, 0, 0, 0, 0, 0, 0, 0, ...</td>\n      <td>[1, 1, 1, 1, 1, 1, 1, 1, 1, 1, 1, 1, 1, 1, 1, ...</td>\n    </tr>\n  </tbody>\n</table>\n<p>18000 rows × 11 columns</p>\n</div>"
     },
     "execution_count": 162,
     "metadata": {},
     "output_type": "execute_result"
    }
   ],
   "source": [
    "output_df = pd.read_csv(Path(f'./practise_data/politicES_phase_2_train_public.csv')).sample(frac=0.1)\n",
    "\n",
    "output_df_clean = output_df[['label', 'tweet', 'gender', 'profession', 'ideology_binary', 'ideology_multiclass']].rename(columns={'tweet': 'text', 'label': 'original_label'})\n",
    "output_df_clean['text'] = output_df_clean['text'].apply(remove_emojis).apply(spanish)\n",
    "output_df_clean['num_chars'] = output_df_clean.apply(lambda row: len(row['text']), axis=1)\n",
    "output_df_clean['num_tokens'] = output_df_clean.apply(lambda row: len(tokenizer(row['text'])['input_ids']), axis=1)\n",
    "\n",
    "output_df_clean = output_df_clean.apply(tokker, axis=1, result_type='expand')\n",
    "output_df_clean"
   ],
   "metadata": {
    "collapsed": false,
    "ExecuteTime": {
     "end_time": "2023-04-30T11:19:44.818041400Z",
     "start_time": "2023-04-30T11:19:32.575808Z"
    }
   }
  },
  {
   "cell_type": "code",
   "execution_count": 163,
   "outputs": [
    {
     "data": {
      "text/plain": "Dataset({\n    features: ['original_label', 'text', 'gender', 'profession', 'ideology_binary', 'ideology_multiclass', 'num_chars', 'num_tokens', 'input_ids', 'token_type_ids', 'attention_mask', '__index_level_0__'],\n    num_rows: 18000\n})"
     },
     "execution_count": 163,
     "metadata": {},
     "output_type": "execute_result"
    }
   ],
   "source": [
    "from datasets import disable_caching\n",
    "disable_caching()\n",
    "\n",
    "# Archivo sobre el que hacer salida\n",
    "output_dataset = Dataset.from_pandas(output_df_clean)\n",
    "output_dataset"
   ],
   "metadata": {
    "collapsed": false,
    "ExecuteTime": {
     "end_time": "2023-04-30T11:19:45.246404500Z",
     "start_time": "2023-04-30T11:19:44.818041400Z"
    }
   }
  },
  {
   "cell_type": "code",
   "execution_count": 164,
   "outputs": [
    {
     "data": {
      "text/plain": "['politician',\n 'politician',\n 'celebrity',\n 'journalist',\n 'journalist',\n 'journalist',\n 'politician',\n 'journalist',\n 'journalist',\n 'journalist',\n 'journalist',\n 'journalist',\n 'politician',\n 'politician',\n 'journalist',\n 'politician',\n 'journalist',\n 'politician',\n 'journalist',\n 'journalist',\n 'journalist',\n 'politician',\n 'celebrity',\n 'politician',\n 'politician',\n 'celebrity',\n 'politician',\n 'politician',\n 'journalist',\n 'journalist',\n 'journalist',\n 'politician',\n 'journalist',\n 'politician',\n 'politician',\n 'journalist',\n 'politician',\n 'journalist',\n 'politician',\n 'journalist',\n 'journalist',\n 'politician',\n 'politician',\n 'politician',\n 'journalist',\n 'journalist',\n 'journalist',\n 'journalist',\n 'politician',\n 'politician',\n 'politician',\n 'journalist',\n 'journalist',\n 'politician',\n 'journalist',\n 'politician',\n 'journalist',\n 'politician',\n 'journalist',\n 'journalist',\n 'politician',\n 'politician',\n 'celebrity',\n 'politician',\n 'politician',\n 'politician',\n 'politician',\n 'journalist',\n 'journalist',\n 'politician',\n 'politician',\n 'celebrity',\n 'politician',\n 'politician',\n 'politician',\n 'journalist',\n 'journalist',\n 'journalist',\n 'journalist',\n 'journalist',\n 'politician',\n 'politician',\n 'journalist',\n 'politician',\n 'journalist',\n 'journalist',\n 'celebrity',\n 'celebrity',\n 'politician',\n 'politician',\n 'celebrity',\n 'journalist',\n 'journalist',\n 'journalist',\n 'journalist',\n 'politician',\n 'journalist',\n 'journalist',\n 'journalist',\n 'journalist',\n 'journalist',\n 'journalist',\n 'politician',\n 'politician',\n 'politician',\n 'journalist',\n 'journalist',\n 'journalist',\n 'politician',\n 'journalist',\n 'celebrity',\n 'journalist',\n 'journalist',\n 'journalist',\n 'journalist',\n 'journalist',\n 'politician',\n 'politician',\n 'journalist',\n 'celebrity',\n 'politician',\n 'politician',\n 'journalist',\n 'journalist',\n 'politician',\n 'journalist',\n 'journalist',\n 'journalist',\n 'journalist',\n 'celebrity',\n 'journalist',\n 'journalist',\n 'journalist',\n 'journalist',\n 'politician',\n 'journalist',\n 'journalist',\n 'journalist',\n 'politician',\n 'politician',\n 'journalist',\n 'journalist',\n 'journalist',\n 'politician',\n 'journalist',\n 'journalist',\n 'politician',\n 'journalist',\n 'journalist',\n 'politician',\n 'journalist',\n 'celebrity',\n 'journalist',\n 'journalist',\n 'journalist',\n 'journalist',\n 'politician',\n 'journalist',\n 'journalist',\n 'journalist',\n 'journalist',\n 'journalist',\n 'journalist',\n 'celebrity',\n 'celebrity',\n 'politician',\n 'journalist',\n 'politician',\n 'politician',\n 'journalist',\n 'journalist',\n 'politician',\n 'journalist',\n 'journalist',\n 'journalist',\n 'journalist',\n 'journalist',\n 'journalist',\n 'politician',\n 'journalist',\n 'journalist',\n 'journalist',\n 'politician',\n 'journalist',\n 'politician',\n 'politician',\n 'journalist',\n 'politician',\n 'journalist',\n 'journalist',\n 'journalist',\n 'journalist',\n 'journalist',\n 'journalist',\n 'journalist',\n 'politician',\n 'politician',\n 'politician',\n 'journalist',\n 'journalist',\n 'journalist',\n 'journalist',\n 'politician',\n 'journalist',\n 'journalist',\n 'politician',\n 'politician',\n 'journalist',\n 'journalist',\n 'politician',\n 'journalist',\n 'journalist',\n 'journalist',\n 'politician',\n 'journalist',\n 'politician',\n 'politician',\n 'politician',\n 'journalist',\n 'journalist',\n 'politician',\n 'journalist',\n 'celebrity',\n 'journalist',\n 'journalist',\n 'journalist',\n 'politician',\n 'journalist',\n 'journalist',\n 'journalist',\n 'journalist',\n 'politician',\n 'journalist',\n 'politician',\n 'journalist',\n 'politician',\n 'politician',\n 'journalist',\n 'journalist',\n 'journalist',\n 'journalist',\n 'politician',\n 'journalist',\n 'journalist',\n 'journalist',\n 'journalist',\n 'politician',\n 'celebrity',\n 'journalist',\n 'politician',\n 'journalist',\n 'journalist',\n 'politician',\n 'journalist',\n 'journalist',\n 'politician',\n 'politician',\n 'journalist',\n 'politician',\n 'journalist',\n 'journalist',\n 'journalist',\n 'politician',\n 'celebrity',\n 'celebrity',\n 'journalist',\n 'journalist',\n 'politician',\n 'journalist',\n 'journalist',\n 'journalist',\n 'politician',\n 'politician',\n 'journalist',\n 'journalist',\n 'journalist',\n 'journalist',\n 'politician',\n 'journalist',\n 'celebrity',\n 'journalist',\n 'journalist',\n 'politician',\n 'politician',\n 'celebrity',\n 'politician',\n 'politician',\n 'politician',\n 'celebrity',\n 'journalist',\n 'celebrity',\n 'journalist',\n 'journalist',\n 'politician',\n 'journalist',\n 'journalist',\n 'journalist',\n 'journalist',\n 'journalist',\n 'politician',\n 'journalist',\n 'journalist',\n 'journalist',\n 'journalist',\n 'politician',\n 'celebrity',\n 'journalist',\n 'journalist',\n 'journalist',\n 'journalist',\n 'journalist',\n 'politician',\n 'journalist',\n 'politician',\n 'journalist',\n 'politician',\n 'politician',\n 'journalist',\n 'journalist',\n 'journalist',\n 'journalist',\n 'journalist',\n 'journalist',\n 'politician',\n 'politician',\n 'journalist',\n 'politician',\n 'politician',\n 'journalist',\n 'journalist',\n 'journalist',\n 'journalist',\n 'journalist',\n 'celebrity',\n 'journalist',\n 'journalist',\n 'journalist',\n 'journalist',\n 'politician',\n 'celebrity',\n 'journalist',\n 'politician',\n 'politician',\n 'journalist',\n 'journalist',\n 'journalist',\n 'journalist',\n 'journalist',\n 'politician',\n 'journalist',\n 'journalist',\n 'journalist',\n 'celebrity',\n 'politician',\n 'journalist',\n 'journalist',\n 'journalist',\n 'politician',\n 'politician',\n 'journalist',\n 'journalist',\n 'journalist',\n 'politician',\n 'journalist',\n 'journalist',\n 'politician',\n 'politician',\n 'journalist',\n 'journalist',\n 'celebrity',\n 'journalist',\n 'journalist',\n 'politician',\n 'politician',\n 'politician',\n 'journalist',\n 'journalist',\n 'politician',\n 'journalist',\n 'journalist',\n 'journalist',\n 'journalist',\n 'journalist',\n 'journalist',\n 'celebrity',\n 'politician',\n 'journalist',\n 'politician',\n 'journalist',\n 'journalist',\n 'politician',\n 'journalist',\n 'journalist',\n 'politician',\n 'journalist',\n 'journalist',\n 'journalist',\n 'journalist',\n 'journalist',\n 'journalist',\n 'politician',\n 'politician',\n 'journalist',\n 'journalist',\n 'journalist',\n 'journalist',\n 'celebrity',\n 'journalist',\n 'journalist',\n 'politician',\n 'politician',\n 'journalist',\n 'journalist',\n 'politician',\n 'journalist',\n 'journalist',\n 'journalist',\n 'journalist',\n 'politician',\n 'journalist',\n 'journalist',\n 'journalist',\n 'journalist',\n 'journalist',\n 'politician',\n 'journalist',\n 'celebrity',\n 'journalist',\n 'journalist',\n 'celebrity',\n 'journalist',\n 'journalist',\n 'journalist',\n 'journalist',\n 'celebrity',\n 'journalist',\n 'politician',\n 'politician',\n 'journalist',\n 'celebrity',\n 'journalist',\n 'journalist',\n 'journalist',\n 'politician',\n 'politician',\n 'journalist',\n 'journalist',\n 'politician',\n 'journalist',\n 'journalist',\n 'journalist',\n 'journalist',\n 'politician',\n 'politician',\n 'journalist',\n 'politician',\n 'politician',\n 'politician',\n 'journalist',\n 'journalist',\n 'journalist',\n 'politician',\n 'politician',\n 'journalist',\n 'journalist',\n 'journalist',\n 'journalist',\n 'journalist',\n 'politician',\n 'celebrity',\n 'celebrity',\n 'politician',\n 'politician',\n 'politician',\n 'journalist',\n 'journalist',\n 'journalist',\n 'journalist',\n 'journalist',\n 'journalist',\n 'celebrity',\n 'politician',\n 'politician',\n 'journalist',\n 'journalist',\n 'journalist',\n 'celebrity',\n 'journalist',\n 'politician',\n 'politician',\n 'journalist',\n 'politician',\n 'journalist',\n 'politician',\n 'journalist',\n 'celebrity',\n 'politician',\n 'journalist',\n 'politician',\n 'journalist',\n 'politician',\n 'journalist',\n 'celebrity',\n 'journalist',\n 'journalist',\n 'politician',\n 'politician',\n 'politician',\n 'journalist',\n 'journalist',\n 'journalist',\n 'journalist',\n 'journalist',\n 'journalist',\n 'journalist',\n 'celebrity',\n 'journalist',\n 'politician',\n 'politician',\n 'journalist',\n 'politician',\n 'journalist',\n 'politician',\n 'journalist',\n 'politician',\n 'journalist',\n 'politician',\n 'journalist',\n 'politician',\n 'politician',\n 'journalist',\n 'journalist',\n 'politician',\n 'celebrity',\n 'politician',\n 'politician',\n 'politician',\n 'politician',\n 'journalist',\n 'politician',\n 'politician',\n 'politician',\n 'celebrity',\n 'journalist',\n 'journalist',\n 'politician',\n 'journalist',\n 'journalist',\n 'politician',\n 'journalist',\n 'politician',\n 'celebrity',\n 'politician',\n 'journalist',\n 'celebrity',\n 'journalist',\n 'journalist',\n 'politician',\n 'politician',\n 'politician',\n 'journalist',\n 'politician',\n 'politician',\n 'journalist',\n 'celebrity',\n 'politician',\n 'journalist',\n 'politician',\n 'journalist',\n 'journalist',\n 'politician',\n 'politician',\n 'journalist',\n 'journalist',\n 'journalist',\n 'politician',\n 'celebrity',\n 'journalist',\n 'politician',\n 'journalist',\n 'journalist',\n 'politician',\n 'journalist',\n 'journalist',\n 'politician',\n 'journalist',\n 'journalist',\n 'journalist',\n 'journalist',\n 'journalist',\n 'politician',\n 'celebrity',\n 'politician',\n 'journalist',\n 'journalist',\n 'journalist',\n 'politician',\n 'journalist',\n 'journalist',\n 'politician',\n 'politician',\n 'journalist',\n 'journalist',\n 'politician',\n 'journalist',\n 'politician',\n 'celebrity',\n 'celebrity',\n 'politician',\n 'celebrity',\n 'journalist',\n 'politician',\n 'journalist',\n 'journalist',\n 'journalist',\n 'politician',\n 'politician',\n 'journalist',\n 'politician',\n 'journalist',\n 'journalist',\n 'journalist',\n 'politician',\n 'journalist',\n 'journalist',\n 'journalist',\n 'politician',\n 'politician',\n 'journalist',\n 'journalist',\n 'journalist',\n 'journalist',\n 'journalist',\n 'journalist',\n 'politician',\n 'journalist',\n 'politician',\n 'journalist',\n 'politician',\n 'journalist',\n 'journalist',\n 'celebrity',\n 'journalist',\n 'journalist',\n 'journalist',\n 'journalist',\n 'journalist',\n 'journalist',\n 'politician',\n 'journalist',\n 'journalist',\n 'journalist',\n 'politician',\n 'journalist',\n 'journalist',\n 'journalist',\n 'celebrity',\n 'journalist',\n 'journalist',\n 'politician',\n 'politician',\n 'journalist',\n 'celebrity',\n 'journalist',\n 'politician',\n 'journalist',\n 'journalist',\n 'journalist',\n 'journalist',\n 'politician',\n 'journalist',\n 'politician',\n 'journalist',\n 'journalist',\n 'politician',\n 'journalist',\n 'politician',\n 'journalist',\n 'journalist',\n 'journalist',\n 'journalist',\n 'politician',\n 'journalist',\n 'journalist',\n 'journalist',\n 'journalist',\n 'journalist',\n 'journalist',\n 'politician',\n 'journalist',\n 'politician',\n 'journalist',\n 'journalist',\n 'journalist',\n 'journalist',\n 'journalist',\n 'journalist',\n 'politician',\n 'politician',\n 'journalist',\n 'politician',\n 'politician',\n 'journalist',\n 'politician',\n 'journalist',\n 'journalist',\n 'journalist',\n 'politician',\n 'journalist',\n 'journalist',\n 'journalist',\n 'politician',\n 'journalist',\n 'politician',\n 'politician',\n 'politician',\n 'journalist',\n 'journalist',\n 'journalist',\n 'politician',\n 'celebrity',\n 'politician',\n 'politician',\n 'journalist',\n 'journalist',\n 'journalist',\n 'politician',\n 'celebrity',\n 'politician',\n 'journalist',\n 'journalist',\n 'journalist',\n 'journalist',\n 'politician',\n 'politician',\n 'journalist',\n 'journalist',\n 'politician',\n 'politician',\n 'journalist',\n 'journalist',\n 'journalist',\n 'journalist',\n 'journalist',\n 'journalist',\n 'journalist',\n 'journalist',\n 'politician',\n 'journalist',\n 'journalist',\n 'politician',\n 'journalist',\n 'journalist',\n 'politician',\n 'politician',\n 'politician',\n 'journalist',\n 'politician',\n 'journalist',\n 'politician',\n 'journalist',\n 'journalist',\n 'journalist',\n 'politician',\n 'journalist',\n 'politician',\n 'politician',\n 'celebrity',\n 'politician',\n 'journalist',\n 'journalist',\n 'journalist',\n 'journalist',\n 'politician',\n 'politician',\n 'politician',\n 'journalist',\n 'journalist',\n 'journalist',\n 'journalist',\n 'journalist',\n 'journalist',\n 'journalist',\n 'journalist',\n 'politician',\n 'journalist',\n 'journalist',\n 'journalist',\n 'politician',\n 'politician',\n 'politician',\n 'journalist',\n 'journalist',\n 'journalist',\n 'journalist',\n 'politician',\n 'politician',\n 'journalist',\n 'journalist',\n 'journalist',\n 'journalist',\n 'politician',\n 'journalist',\n 'politician',\n 'journalist',\n 'journalist',\n 'politician',\n 'politician',\n 'politician',\n 'politician',\n 'politician',\n 'journalist',\n 'journalist',\n 'journalist',\n 'politician',\n 'journalist',\n 'journalist',\n 'politician',\n 'journalist',\n 'politician',\n 'politician',\n 'celebrity',\n 'politician',\n 'journalist',\n 'journalist',\n 'journalist',\n 'journalist',\n 'politician',\n 'journalist',\n 'politician',\n 'celebrity',\n 'journalist',\n 'journalist',\n 'politician',\n 'journalist',\n 'politician',\n 'politician',\n 'politician',\n 'politician',\n 'politician',\n 'journalist',\n 'journalist',\n 'journalist',\n 'politician',\n 'journalist',\n 'politician',\n 'journalist',\n 'journalist',\n 'politician',\n 'celebrity',\n 'journalist',\n 'journalist',\n 'politician',\n 'journalist',\n 'journalist',\n 'politician',\n 'politician',\n 'journalist',\n 'journalist',\n 'journalist',\n 'journalist',\n 'journalist',\n 'politician',\n 'journalist',\n 'politician',\n 'journalist',\n 'journalist',\n 'celebrity',\n 'journalist',\n 'journalist',\n 'journalist',\n 'journalist',\n 'politician',\n 'journalist',\n 'politician',\n 'journalist',\n 'journalist',\n 'politician',\n 'politician',\n 'journalist',\n 'journalist',\n 'journalist',\n 'journalist',\n 'politician',\n 'celebrity',\n 'journalist',\n 'politician',\n 'politician',\n 'journalist',\n 'celebrity',\n 'politician',\n 'journalist',\n 'journalist',\n 'journalist',\n 'journalist',\n 'journalist',\n 'journalist',\n 'journalist',\n 'journalist',\n 'journalist',\n 'politician',\n 'journalist',\n 'journalist',\n 'journalist',\n 'politician',\n 'journalist',\n 'politician',\n 'journalist',\n 'politician',\n 'politician',\n 'journalist',\n 'politician',\n 'politician',\n 'politician',\n 'politician',\n 'journalist',\n 'politician',\n 'journalist',\n 'politician',\n 'politician',\n 'politician',\n 'journalist',\n 'journalist',\n 'journalist',\n 'journalist',\n 'journalist',\n 'journalist',\n 'journalist',\n 'journalist',\n 'journalist',\n 'journalist',\n 'politician',\n 'politician',\n 'journalist',\n 'journalist',\n 'journalist',\n 'journalist',\n 'politician',\n 'politician',\n 'politician',\n 'politician',\n 'politician',\n 'politician',\n 'journalist',\n 'politician',\n 'journalist',\n 'politician',\n 'journalist',\n 'journalist',\n 'journalist',\n 'celebrity',\n 'journalist',\n 'politician',\n 'journalist',\n 'journalist',\n 'journalist',\n 'politician',\n 'politician',\n 'journalist',\n 'celebrity',\n 'politician',\n 'politician',\n 'politician',\n 'politician',\n 'journalist',\n 'politician',\n 'politician',\n 'journalist',\n 'journalist',\n 'journalist',\n 'journalist',\n 'politician',\n 'politician',\n 'politician',\n 'celebrity',\n 'journalist',\n 'journalist',\n 'politician',\n 'journalist',\n 'journalist',\n 'journalist',\n 'journalist',\n 'journalist',\n 'journalist',\n 'journalist',\n 'journalist',\n 'journalist',\n 'politician',\n 'politician',\n 'politician',\n 'journalist',\n 'politician',\n 'politician',\n 'journalist',\n 'politician',\n 'celebrity',\n 'journalist',\n 'journalist',\n 'journalist',\n 'politician',\n ...]"
     },
     "execution_count": 164,
     "metadata": {},
     "output_type": "execute_result"
    }
   ],
   "source": [
    "output_dataset['profession']"
   ],
   "metadata": {
    "collapsed": false,
    "ExecuteTime": {
     "end_time": "2023-04-30T11:19:48.211837100Z",
     "start_time": "2023-04-30T11:19:48.148849700Z"
    }
   }
  },
  {
   "cell_type": "code",
   "execution_count": 165,
   "outputs": [
    {
     "name": "stderr",
     "output_type": "stream",
     "text": [
      "C:\\Users\\1bran\\Anaconda3\\envs\\PLN_PoliticES\\lib\\site-packages\\dill\\_dill.py:1705: PicklingWarning: Cannot locate reference to <enum 'ClassifyingTask'>.\n",
      "  warnings.warn('Cannot locate reference to %r.' % (obj,), PicklingWarning)\n",
      "C:\\Users\\1bran\\Anaconda3\\envs\\PLN_PoliticES\\lib\\site-packages\\dill\\_dill.py:1707: PicklingWarning: Cannot pickle <enum 'ClassifyingTask'>: __main__.ClassifyingTask has recursive self-references that trigger a RecursionError.\n",
      "  warnings.warn('Cannot pickle %r: %s.%s has recursive self-references that trigger a RecursionError.' % (obj, obj.__module__, obj_name), PicklingWarning)\n"
     ]
    },
    {
     "data": {
      "text/plain": "Map:   0%|          | 0/18000 [00:00<?, ? examples/s]",
      "application/vnd.jupyter.widget-view+json": {
       "version_major": 2,
       "version_minor": 0,
       "model_id": "af38eca82f8e491da49710ebf0f9bafa"
      }
     },
     "metadata": {},
     "output_type": "display_data"
    },
    {
     "data": {
      "text/plain": "Map:   0%|          | 0/18000 [00:00<?, ? examples/s]",
      "application/vnd.jupyter.widget-view+json": {
       "version_major": 2,
       "version_minor": 0,
       "model_id": "58a1371679fb4c388fd469afb7f49066"
      }
     },
     "metadata": {},
     "output_type": "display_data"
    },
    {
     "data": {
      "text/plain": "Map:   0%|          | 0/18000 [00:00<?, ? examples/s]",
      "application/vnd.jupyter.widget-view+json": {
       "version_major": 2,
       "version_minor": 0,
       "model_id": "a00d297f65bb430399ced43076694d05"
      }
     },
     "metadata": {},
     "output_type": "display_data"
    },
    {
     "data": {
      "text/plain": "Map:   0%|          | 0/18000 [00:00<?, ? examples/s]",
      "application/vnd.jupyter.widget-view+json": {
       "version_major": 2,
       "version_minor": 0,
       "model_id": "1dc59e70fddd4e9ab295a714d8cc5d74"
      }
     },
     "metadata": {},
     "output_type": "display_data"
    }
   ],
   "source": [
    "def to_numeric(x: dict) -> dict:\n",
    "    original_label = x[str(t.value)]\n",
    "    numerical_label = dict_for_conversion[original_label]\n",
    "    x[str(t.value)] = numerical_label\n",
    "    return x\n",
    "\n",
    "for t in ClassifyingTask:\n",
    "    dict_for_conversion = None\n",
    "    if ClassifyingTask(t) is ClassifyingTask.IDEO_BIN:\n",
    "        dict_for_conversion = ideology_binary2num\n",
    "    elif ClassifyingTask(t) is ClassifyingTask.IDEO_MUL:\n",
    "        dict_for_conversion = ideology_multiclass2num\n",
    "    elif ClassifyingTask(t) is ClassifyingTask.GENDER:\n",
    "        dict_for_conversion = gender2num\n",
    "    elif ClassifyingTask(t) is ClassifyingTask.PROFESSION:\n",
    "        dict_for_conversion = profession2num\n",
    "    else:\n",
    "        raise NotImplementedError\n",
    "\n",
    "    output_dataset = output_dataset.map(to_numeric, load_from_cache_file=False)"
   ],
   "metadata": {
    "collapsed": false,
    "ExecuteTime": {
     "end_time": "2023-04-30T11:20:01.050877100Z",
     "start_time": "2023-04-30T11:19:49.345369700Z"
    }
   }
  },
  {
   "cell_type": "code",
   "execution_count": 184,
   "outputs": [
    {
     "name": "stdout",
     "output_type": "stream",
     "text": [
      "ideology_binary\n",
      "              precision    recall  f1-score   support\n",
      "\n",
      "        left       0.71      0.34      0.46      1255\n",
      "       right       0.25      0.17      0.21       995\n",
      "\n",
      "   micro avg       0.46      0.27      0.34      2250\n",
      "   macro avg       0.48      0.26      0.33      2250\n",
      "weighted avg       0.50      0.27      0.35      2250\n",
      "\n",
      "ideology_multiclass\n"
     ]
    },
    {
     "data": {
      "text/plain": "<IPython.core.display.HTML object>",
      "text/html": "\n    <div>\n      \n      <progress value='1' max='2250' style='width:300px; height:20px; vertical-align: middle;'></progress>\n      [   1/2250 : < :]\n    </div>\n    "
     },
     "metadata": {},
     "output_type": "display_data"
    },
    {
     "name": "stdout",
     "output_type": "stream",
     "text": [
      "                precision    recall  f1-score   support\n",
      "\n",
      "          left       0.40      0.56      0.47       430\n",
      " moderate_left       0.63      0.53      0.58       825\n",
      "moderate_right       0.59      0.51      0.55       728\n",
      "         right       0.51      0.60      0.55       267\n",
      "\n",
      "      accuracy                           0.54      2250\n",
      "     macro avg       0.53      0.55      0.54      2250\n",
      "  weighted avg       0.56      0.54      0.54      2250\n",
      "\n",
      "gender\n"
     ]
    },
    {
     "data": {
      "text/plain": "<IPython.core.display.HTML object>",
      "text/html": "\n    <div>\n      \n      <progress value='1' max='2250' style='width:300px; height:20px; vertical-align: middle;'></progress>\n      [   1/2250 : < :]\n    </div>\n    "
     },
     "metadata": {},
     "output_type": "display_data"
    },
    {
     "name": "stdout",
     "output_type": "stream",
     "text": [
      "              precision    recall  f1-score   support\n",
      "\n",
      "        male       0.62      0.25      0.36      1493\n",
      "      female       0.41      0.38      0.40       757\n",
      "\n",
      "   micro avg       0.51      0.29      0.37      2250\n",
      "   macro avg       0.52      0.32      0.38      2250\n",
      "weighted avg       0.55      0.29      0.37      2250\n",
      "\n",
      "profession\n"
     ]
    },
    {
     "data": {
      "text/plain": "<IPython.core.display.HTML object>",
      "text/html": "\n    <div>\n      \n      <progress value='1' max='2250' style='width:300px; height:20px; vertical-align: middle;'></progress>\n      [   1/2250 : < :]\n    </div>\n    "
     },
     "metadata": {},
     "output_type": "display_data"
    },
    {
     "name": "stdout",
     "output_type": "stream",
     "text": [
      "              precision    recall  f1-score   support\n",
      "\n",
      "  journalist       0.60      0.26      0.36      1385\n",
      "   celebrity       0.07      0.44      0.12       113\n",
      "  politician       0.32      0.27      0.30       752\n",
      "\n",
      "   micro avg       0.32      0.27      0.29      2250\n",
      "   macro avg       0.33      0.33      0.26      2250\n",
      "weighted avg       0.48      0.27      0.33      2250\n",
      "\n"
     ]
    }
   ],
   "source": [
    "c_reps = []  # Classification reports\n",
    "\n",
    "# For each task, we change the column name to 'labels', make the predictions, get the mode and have that be the output\n",
    "for t in ClassifyingTask:\n",
    "    print(t)\n",
    "\n",
    "    output_dataset_for_t = copy.deepcopy(output_dataset).rename_column(t.value, 'labels')\n",
    "    pred_output = all_models[task]['test_wrapper'].predict(output_dataset_for_t)\n",
    "\n",
    "    # Into a DF\n",
    "    comparison_df = pd.DataFrame()\n",
    "    comparison_df['original_label'] = output_dataset_for_t['original_label']\n",
    "    comparison_df['text'] = output_dataset_for_t['text']\n",
    "    comparison_df['labels'] = pred_output.label_ids\n",
    "    comparison_df['predictions'] = pred_output.predictions.argmax(-1)\n",
    "\n",
    "    # Grouped by mode\n",
    "    grouping = comparison_df.groupby('original_label')\n",
    "    mode_comparison_df = grouping.agg(lambda x: pd.Series.mode(x)[0])\n",
    "    # mode_comparison_df['considered_predictions'] = grouping.agg(pd.Series.mode)['predictions']\n",
    "    mode_comparison_df['count'] = grouping.size()\n",
    "\n",
    "    # Print results\n",
    "    cr_labels = list(mode_comparison_df['labels'].unique())\n",
    "\n",
    "    dict_for_conversion = None\n",
    "\n",
    "    if ClassifyingTask(t) is ClassifyingTask.GENDER:\n",
    "        dict_for_conversion = gender2num\n",
    "    elif ClassifyingTask(t) is ClassifyingTask.IDEO_BIN:\n",
    "        dict_for_conversion = ideology_binary2num\n",
    "    elif ClassifyingTask(t) is ClassifyingTask.IDEO_MUL:\n",
    "        dict_for_conversion = ideology_multiclass2num\n",
    "    elif ClassifyingTask(t) is ClassifyingTask.PROFESSION:\n",
    "        dict_for_conversion = profession2num\n",
    "    else:\n",
    "        raise NotImplementedError\n",
    "\n",
    "    print(classification_report(mode_comparison_df['labels'], mode_comparison_df['predictions'], labels=[target_label for target_label in dict_for_conversion.values()], target_names=[target_name for target_name in dict_for_conversion], zero_division=0))\n",
    "\n",
    "    # Save results\n",
    "    c_reps.append(classification_report(mode_comparison_df['labels'], mode_comparison_df['predictions'], zero_division=0, output_dict=True))\n"
   ],
   "metadata": {
    "collapsed": false,
    "ExecuteTime": {
     "end_time": "2023-04-30T12:02:45.652264300Z",
     "start_time": "2023-04-30T11:56:58.297656400Z"
    }
   }
  },
  {
   "cell_type": "code",
   "execution_count": 183,
   "outputs": [
    {
     "name": "stdout",
     "output_type": "stream",
     "text": [
      "              precision    recall  f1-score   support\n",
      "\n",
      "           0       0.71      0.34      0.46      1255\n",
      "           1       0.25      0.17      0.21       995\n",
      "           2       0.00      0.00      0.00         0\n",
      "           3       0.00      0.00      0.00         0\n",
      "\n",
      "    accuracy                           0.27      2250\n",
      "   macro avg       0.24      0.13      0.17      2250\n",
      "weighted avg       0.50      0.27      0.35      2250\n",
      "\n"
     ]
    }
   ],
   "source": [
    "print(classification_report(mode_comparison_df['labels'], mode_comparison_df['predictions'], zero_division=0))"
   ],
   "metadata": {
    "collapsed": false,
    "ExecuteTime": {
     "end_time": "2023-04-30T11:44:58.787140400Z",
     "start_time": "2023-04-30T11:44:58.772892900Z"
    }
   }
  },
  {
   "cell_type": "markdown",
   "source": [
    "# Producción de archivo de salida\n",
    "\n",
    "Aquí se produce el archivo de salida con todas las predicciones"
   ],
   "metadata": {
    "collapsed": false
   }
  },
  {
   "cell_type": "code",
   "execution_count": 38,
   "outputs": [
    {
     "name": "stdout",
     "output_type": "stream",
     "text": [
      "Downloading and preparing dataset csv/default to C:/Users/1bran/.cache/huggingface/datasets/csv/default-e98f946569ec0acc/0.0.0/6954658bab30a358235fa864b05cf819af0e179325c740e4bc853bcc7ec513e1...\n"
     ]
    },
    {
     "data": {
      "text/plain": "Downloading data files:   0%|          | 0/1 [00:00<?, ?it/s]",
      "application/vnd.jupyter.widget-view+json": {
       "version_major": 2,
       "version_minor": 0,
       "model_id": "079512942ff149e4bf743ab17063daa2"
      }
     },
     "metadata": {},
     "output_type": "display_data"
    },
    {
     "data": {
      "text/plain": "Extracting data files:   0%|          | 0/1 [00:00<?, ?it/s]",
      "application/vnd.jupyter.widget-view+json": {
       "version_major": 2,
       "version_minor": 0,
       "model_id": "b6e9ed225f974af5ae2b18c98a5442fd"
      }
     },
     "metadata": {},
     "output_type": "display_data"
    },
    {
     "data": {
      "text/plain": "Generating train split: 0 examples [00:00, ? examples/s]",
      "application/vnd.jupyter.widget-view+json": {
       "version_major": 2,
       "version_minor": 0,
       "model_id": "12a567f013644e66a5f8beaa3a9e6e93"
      }
     },
     "metadata": {},
     "output_type": "display_data"
    },
    {
     "name": "stdout",
     "output_type": "stream",
     "text": [
      "Dataset csv downloaded and prepared to C:/Users/1bran/.cache/huggingface/datasets/csv/default-e98f946569ec0acc/0.0.0/6954658bab30a358235fa864b05cf819af0e179325c740e4bc853bcc7ec513e1. Subsequent calls will reuse this data.\n"
     ]
    },
    {
     "data": {
      "text/plain": "  0%|          | 0/1 [00:00<?, ?it/s]",
      "application/vnd.jupyter.widget-view+json": {
       "version_major": 2,
       "version_minor": 0,
       "model_id": "f4a66a01dfb544f08cfb1f5703f9f120"
      }
     },
     "metadata": {},
     "output_type": "display_data"
    },
    {
     "data": {
      "text/plain": "DatasetDict({\n    train: Dataset({\n        features: ['label', 'gender', 'profession', 'ideology_binary', 'ideology_multiclass', 'tweet'],\n        num_rows: 180000\n    })\n})"
     },
     "execution_count": 38,
     "metadata": {},
     "output_type": "execute_result"
    }
   ],
   "source": [
    "# Archivo sobre el que hacer salida\n",
    "output_dataset = load_dataset('csv', data_files=str(Path(f'./practise_data/politicES_phase_2_train_public.csv')))\n",
    "\n",
    "output_dataset"
   ],
   "metadata": {
    "collapsed": false
   }
  },
  {
   "cell_type": "code",
   "execution_count": 40,
   "outputs": [
    {
     "name": "stdout",
     "output_type": "stream",
     "text": [
      "{'predict': <transformers.pipelines.text_classification.TextClassificationPipeline object at 0x0000026984540DF0>, 'test_wrapper': <transformers.trainer.Trainer object at 0x00000268EEF813D0>}\n",
      "{'predict': <transformers.pipelines.text_classification.TextClassificationPipeline object at 0x00000269C90CBFA0>, 'test_wrapper': <transformers.trainer.Trainer object at 0x00000269C90CBE20>}\n",
      "{'predict': <transformers.pipelines.text_classification.TextClassificationPipeline object at 0x00000269C90B3640>, 'test_wrapper': <transformers.trainer.Trainer object at 0x00000269C90B32E0>}\n",
      "{'predict': <transformers.pipelines.text_classification.TextClassificationPipeline object at 0x0000026985BBCCD0>, 'test_wrapper': <transformers.trainer.Trainer object at 0x0000026985BBCB80>}\n"
     ]
    }
   ],
   "source": [
    "for t in all_models:\n",
    "    pred_output_t = all_models[t]['test_wrapper'].predict(output_dataset)\n"
   ],
   "metadata": {
    "collapsed": false,
    "ExecuteTime": {
     "end_time": "2023-04-30T09:58:12.961451200Z",
     "start_time": "2023-04-30T09:58:12.945536500Z"
    }
   }
  },
  {
   "cell_type": "code",
   "execution_count": null,
   "outputs": [],
   "source": [],
   "metadata": {
    "collapsed": false
   }
  }
 ],
 "metadata": {
  "kernelspec": {
   "display_name": "Python 3",
   "language": "python",
   "name": "python3"
  },
  "language_info": {
   "codemirror_mode": {
    "name": "ipython",
    "version": 2
   },
   "file_extension": ".py",
   "mimetype": "text/x-python",
   "name": "python",
   "nbconvert_exporter": "python",
   "pygments_lexer": "ipython2",
   "version": "2.7.6"
  }
 },
 "nbformat": 4,
 "nbformat_minor": 0
}
